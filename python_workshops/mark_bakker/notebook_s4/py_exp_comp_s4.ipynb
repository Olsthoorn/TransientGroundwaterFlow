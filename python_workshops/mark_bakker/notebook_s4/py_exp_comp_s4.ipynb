{
 "metadata": {
  "name": ""
 },
 "nbformat": 3,
 "nbformat_minor": 0,
 "worksheets": [
  {
   "cells": [
    {
     "cell_type": "markdown",
     "metadata": {},
     "source": [
      "<figure>\n",
      "  <IMG SRC=\"https://raw.githubusercontent.com/mbakker7/exploratory_computing_with_python/master/tudelft_logo.png\" WIDTH=250 ALIGN=\"right\">\n",
      "</figure>\n",
      "\n",
      "# Exploratory Computing with Python\n",
      "*Developed by Mark Bakker*\n",
      "## Statistics Notebook 4: Linear regression and curve fitting"
     ]
    },
    {
     "cell_type": "markdown",
     "metadata": {},
     "source": [
      "In this notebook we will perform linear regression on some of the data in the data set on wooden beams, and we perform do curve fitting on a data set of groundwater head observations"
     ]
    },
    {
     "cell_type": "code",
     "collapsed": false,
     "input": [
      "%pylab inline"
     ],
     "language": "python",
     "metadata": {},
     "outputs": [],
     "prompt_number": 2
    },
    {
     "cell_type": "markdown",
     "metadata": {},
     "source": [
      "###Linear regression\n",
      "We apply linear regression to fit a straight line through a set of data. The function `polyfit` fits a polynomial of arbitrary degree through a set of data (`polyfit` is part of the `numpy` package). The input arguments are `x,y,degree`. When the degree of the polynomial is 1, it fits a straight line of the form $y=p[0]*x+p[1]$ and it returns the array of parameters `p`. The parameters are obtained by `polyfit` by minimizing the sum of the squares of the errors between the data (the $y$-values) and the fitted polynomial. For example, consider the `xdata` and `ydata` below. The slope and $y$-intercept of the best-fit line are computed and both the data and best-fit line are drawn."
     ]
    },
    {
     "cell_type": "code",
     "collapsed": false,
     "input": [
      "xdata = array([0.0,1.0,2.0,3.0,4.0,5.0])  # Observed value of x\n",
      "ydata = array([1.0,3.0,2.0,5.0,5.0,6.0])  # Observed value of y\n",
      "a,b = polyfit(xdata,ydata,1)\n",
      "print 'fitted slope: ',a\n",
      "print 'fitted y-intercept: ',b\n",
      "plot(xdata, ydata, 'bo', label='observed')\n",
      "yfit = a*xdata + b\n",
      "error = ydata - yfit  # Error\n",
      "plot(xdata, yfit, 'r', label='fit')\n",
      "xlabel('xdata')\n",
      "ylabel('ydata')\n",
      "legend(loc='best')"
     ],
     "language": "python",
     "metadata": {},
     "outputs": [],
     "prompt_number": 9
    },
    {
     "cell_type": "markdown",
     "metadata": {},
     "source": [
      "###Exercise 1. Straight line fit between `Edyn` and `Estat`\n",
      "The data set of experiments on wooden beams contains two measurements of the elasticity modulus. The column labeled `Estat` contains measurements of the elasticity modulus using a standard static bending experiment. The column labeled `Edyn` contains measurements of the elasticity modulus using a dynamic mechanical analysis where an oscillatory force is applied. The two experiments don't give exactly the same value. You are asked to determine the linear relationship between the two measurements. Let's first assume that the measurement of `Estat` is much more accurate than the measurement of `Edyn` (we will consider the reverse some other time).\n",
      "\n",
      "Plot the `Edyn` data on the $y$-axis vs. the `Estat` data on the $x$-axis using blue markers. Use `polyfit` to determine the parameters of the best-fit straight line. Add the best-fit straight line as a red line to the graph. Label the axes and add a legend."
     ]
    },
    {
     "cell_type": "code",
     "collapsed": false,
     "input": [
      "from pandas import read_csv\n",
      "w = read_csv('douglas_data.csv',skiprows=[1],skipinitialspace=True)"
     ],
     "language": "python",
     "metadata": {},
     "outputs": [],
     "prompt_number": 3
    },
    {
     "cell_type": "code",
     "collapsed": false,
     "input": [
      "a,b = polyfit(w.Estat,w.Edyn,1)\n",
      "xfit = linspace(w.Estat.min(),w.Estat.max(),100)\n",
      "yfit = a * xfit + b\n",
      "plot(w.Estat,w.Edyn,'bo',label='observed')\n",
      "plot(xfit,yfit,'r',label='best-fit line')\n",
      "xlabel('Estat')\n",
      "ylabel('Edyn')\n",
      "legend(loc='best')"
     ],
     "language": "python",
     "metadata": {},
     "outputs": [],
     "prompt_number": 5
    },
    {
     "cell_type": "markdown",
     "metadata": {},
     "source": [
      "###Exercise 2. Error analysis of linear regression of `Edyn` and `Estat`\n",
      "Compute the difference between the fitted and observed values of `Edyn`; these are called the errors. Compute the mean and standard deviation of the error (if you have done the fit correctly, the mean should be very close to zero). Create a histogram of the errors. Add to the same graph the Normal distribution using the sample mean and sample standard deviation you just computed. On the same graph, add vertical lines for the 2.5 and 97.5 percentiles according to the Normal distribution."
     ]
    },
    {
     "cell_type": "code",
     "collapsed": false,
     "input": [
      "from scipy.stats import norm\n",
      "error = w.Edyn - (a*w.Estat + b)\n",
      "mu = mean(error)\n",
      "sig = std(error)\n",
      "hist(error,normed=True)\n",
      "x = linspace(-6000,6000,100)\n",
      "y = norm.pdf(x,loc=mu,scale=sig)\n",
      "plot(x,y,'r')\n",
      "x025 = norm.ppf(0.025,loc=mu,scale=sig)\n",
      "x975 = norm.ppf(0.975,loc=mu,scale=sig)\n",
      "axvline(x025,color='k')\n",
      "axvline(x975,color='k')"
     ],
     "language": "python",
     "metadata": {},
     "outputs": [],
     "prompt_number": 6
    },
    {
     "cell_type": "markdown",
     "metadata": {},
     "source": [
      "Count how many data points fall outside the 95% interval according to the corresponding Normal distribution. The data points outside the 95% interval are potential outliers. Recreate the plot you made in Exercise 3, but now plot the data points inside the 95% interval with black circles and the data points outside the 95% interval with red circles (refer to Notebook 4 of quarter 1 if you forgot how to do that)."
     ]
    },
    {
     "cell_type": "code",
     "collapsed": false,
     "input": [
      "print 'number of points outside 95 percentile: ',sum(abs(error)>x975)\n",
      "outside = abs(error)>x975\n",
      "plot(w.Estat[~outside],w.Edyn[~outside],'ko')\n",
      "plot(w.Estat[outside],w.Edyn[outside],'ro')"
     ],
     "language": "python",
     "metadata": {},
     "outputs": [],
     "prompt_number": 7
    },
    {
     "cell_type": "markdown",
     "metadata": {},
     "source": [
      "###Exercise 3. Fit `Estat` vs `Edyn` or the other way around?\n",
      "In the previous two exercises, we assumed that `Estat` is more accurate than `Edyn` so we fit: `Edyn = a1 * Estat + b1`; let's call this line 1. Next, we assume `Edyn` is more accurate than `Estat` so we fit `Estat = a2 * Edyn + b2`; let's call this line 2. Plot the `Edyn` data on the $y$-axis vs. the `Estat` data on the $x$-axis using blue markers. Plot the two best-fit lines you computed using red (line 1) and green (line 2), label the axes and add a legend. Report the slope and intercept of the best fit lines as they are shown on the graph (Note: that requires a bit of algebra for line 2 as it needs to be reworked in the form `Edyn = slope * Estat + intercept`)."
     ]
    },
    {
     "cell_type": "code",
     "collapsed": false,
     "input": [
      "a1,b1 = polyfit(w.Estat,w.Edyn,1)\n",
      "a2,b2 = polyfit(w.Edyn,w.Estat,1)\n",
      "print 'a1,b1: ',a1,b1\n",
      "print 'a2,b2: ',1.0/a2,-b2/a2\n",
      "plot(w.Estat,w.Edyn,'bo',label='observed')\n",
      "x1 = array([w.Estat.min(),w.Estat.max()])\n",
      "y1 = a1*x1 + b1\n",
      "plot(x1,y1,'r',label='line 1')\n",
      "y2 = 1.0/a2 * x1 - b2/a2\n",
      "plot(x1,y2,'g',label='line 2')\n",
      "xlabel('Estat')\n",
      "ylabel('Edyn')\n",
      "legend(loc='best')"
     ],
     "language": "python",
     "metadata": {},
     "outputs": [],
     "prompt_number": 4
    },
    {
     "cell_type": "markdown",
     "metadata": {},
     "source": [
      "###Exercise 4. Error analysis of `Estat` vs `Edyn` and the other way around.\n",
      "In the previous exercise, two straight lines were fit of the form `Edyn = slope * Estat + intercept`. Compute and report the mean error and the square root of the mean squared error of both straight lines, where the error is defined as the measured `Edyn` minus the fitted `Edyn`. Plot the errors vs. `Estat` for the two fitted lines with red and green dots, respectively. Does either of the errors show a trend?"
     ]
    },
    {
     "cell_type": "code",
     "collapsed": false,
     "input": [
      "error1 = w.Edyn - a1 * w.Estat - b1\n",
      "error2 = w.Edyn - 1/a2 * w.Estat + b2/a2\n",
      "print 'mean error line 1: ',mean(error1)\n",
      "print 'mean error line 2: ',mean(error2)\n",
      "print 'mean squared error line 1: ',sqrt(mean(error1**2))\n",
      "print 'mean squared error line 2: ',sqrt(mean(error2**2))\n",
      "#\n",
      "plot(w.Estat,error1,'ro')\n",
      "plot(w.Estat,error2,'go')\n",
      "title('Line 2 (green dots) shows a trend')"
     ],
     "language": "python",
     "metadata": {},
     "outputs": [],
     "prompt_number": 5
    },
    {
     "cell_type": "markdown",
     "metadata": {},
     "source": [
      "### Curve fitting\n",
      "To be added"
     ]
    },
    {
     "cell_type": "code",
     "collapsed": false,
     "input": [],
     "language": "python",
     "metadata": {},
     "outputs": []
    }
   ],
   "metadata": {}
  }
 ]
}