{
 "metadata": {
  "name": ""
 },
 "nbformat": 3,
 "nbformat_minor": 0,
 "worksheets": [
  {
   "cells": [
    {
     "cell_type": "markdown",
     "metadata": {},
     "source": [
      "<figure>\n",
      "  <IMG SRC=\"https://raw.githubusercontent.com/mbakker7/exploratory_computing_with_python/master/tudelft_logo.png\" WIDTH=250 ALIGN=\"right\">\n",
      "</figure>\n",
      "\n",
      "# Exploratory Computing with Python\n",
      "*Developed by Mark Bakker*\n",
      "## Water Management Notebook 1: Dealing with time series of data"
     ]
    },
    {
     "cell_type": "markdown",
     "metadata": {},
     "source": [
      "As we will be using `pylab` again, we start pylab mode here"
     ]
    },
    {
     "cell_type": "code",
     "collapsed": false,
     "input": [
      "%pylab inline"
     ],
     "language": "python",
     "metadata": {},
     "outputs": [],
     "prompt_number": 1
    },
    {
     "cell_type": "markdown",
     "metadata": {},
     "source": [
      "###Loading real data with Pandas\n",
      "Real data is often stored in CSV files (Comma Separated Values).\n",
      "So far, we have loaded csv files with the `loadtxt` command. \n",
      "The `loadtxt` function has some basic functionality and works just fine, but when we have more elaborate data sets we want more sophisticated functionality. \n",
      "The most powerful and advanced package for data handling and analysis is called `pandas`. We will use only a few functions of the `pandas` package here. Full information on `pandas` can be found on the <a href=\"http://pandas.pydata.org/\">pandas website</a>.\n",
      "\n",
      "Consider the following dataset, which is stored in the file `transport.csv`. It shows the percentage of transportation kilometers by car, bus or rail for four countries. The dataset has four columns. \n",
      "\n",
      "`country, car, bus, rail`  \n",
      "`some more explanations, yada yada yada`  \n",
      "`France, 86.1, 5.3, 8.6`  \n",
      "`Germany, 85.2, 7.1, 7.7`  \n",
      "`Netherlands, 86.4, 4.6, 9`  \n",
      "`United Kingdom, 88.2, 6.5, 5.3` \n",
      "\n",
      "This data file is loaded with the `read_csv` function of the `pandas` package. The `read_csv` function has many options. We will only use three here. The rows that need to be skipped are defined with the `skiprows` keyword (in this case row 1 with the `yada yada` text). The `skipinitialspace` keyword is set to `True` so that the column name ' car' is loaded without the initial space that is in the data file. And the `index_col` keyword is set to indicate that the names in column 0 can be used as an index to select a row."
     ]
    },
    {
     "cell_type": "code",
     "collapsed": false,
     "input": [
      "from pandas import read_csv\n",
      "tran = read_csv('transport.csv', skiprows=[1], skipinitialspace=True, index_col=0)"
     ],
     "language": "python",
     "metadata": {},
     "outputs": [],
     "prompt_number": 2
    },
    {
     "cell_type": "markdown",
     "metadata": {},
     "source": [
      "The `read_csv` function returns what is called a DataFrame. The variable `tran` in the code above is now a DataFrame. The DataFrame `tran` may be indexed just like an array, by specifying the row and column number using the `.iloc` syntax, where column 0 is the column labeled `car` (since the column labeled as `country` was stored as an index when reading the csv file; more on that later)."
     ]
    },
    {
     "cell_type": "code",
     "collapsed": false,
     "input": [
      "print tran.iloc[0,1]  # Gives the bus data for France\n",
      "print tran.iloc[1,0]  # Gives the car data for Germany\n",
      "print tran.iloc[2,2]  # Gives the rail data for Netherlands\n",
      "print tran.iloc[3]  # All data for United Kindomg\n",
      "print tran.iloc[:,1]  # All data for bus"
     ],
     "language": "python",
     "metadata": {},
     "outputs": [],
     "prompt_number": 3
    },
    {
     "cell_type": "markdown",
     "metadata": {},
     "source": [
      "Alternatively, values in a DataFrame may be selected by specifying the indices by name, using the `.loc` syntax. This is a bit more typing but *much* more explicit. The equivalent of the code cell above, but using indices by name is"
     ]
    },
    {
     "cell_type": "code",
     "collapsed": false,
     "input": [
      "print tran.loc['France','bus']\n",
      "print tran.loc['Germany','car']\n",
      "print tran.loc['Netherlands','rail']\n",
      "print tran.loc['United Kingdom']\n",
      "print tran.loc[:,'bus']"
     ],
     "language": "python",
     "metadata": {},
     "outputs": [],
     "prompt_number": 4
    },
    {
     "cell_type": "markdown",
     "metadata": {},
     "source": [
      "There are two alternative ways to access all the data in a column. First, you can simply specify the column name as an index, without having to use the `.loc` syntax. Second, the syntax `.column_name` may be used. Hence, the following three are equivalent"
     ]
    },
    {
     "cell_type": "code",
     "collapsed": false,
     "input": [
      "print tran.loc[:,'car']\n",
      "print tran['car']\n",
      "print tran.car"
     ],
     "language": "python",
     "metadata": {},
     "outputs": [],
     "prompt_number": 5
    },
    {
     "cell_type": "markdown",
     "metadata": {},
     "source": [
      "Series can be pretty much treated as arrays, but they can actually do *much* more. For example, you can plot a column, you can find the maximum value of a Series, you can find all values larger than a specified valued, or you can find the value corresponding to the value in a different column:"
     ]
    },
    {
     "cell_type": "code",
     "collapsed": false,
     "input": [
      "plot(tran.car)\n",
      "print 'maximum car travel percentage: ',amax(tran.car)\n",
      "print 'all rail travel above 8: '\n",
      "print tran.rail[ tran.rail > 8 ]"
     ],
     "language": "python",
     "metadata": {},
     "outputs": [],
     "prompt_number": 6
    },
    {
     "cell_type": "markdown",
     "metadata": {},
     "source": [
      "A last feature of a DataFrame that is mentioned here is that you can add a column to a DataFrame by simply specifying the new column using the syntax `['newcolumn']`. For example, let's add a column named `public_transport`, which is the sum of the `bus` and `rail` columns. The maximum value can be found using the `.amax` function, and the row index (in our case: the name of the row) with the `.idxmax` syntax:"
     ]
    },
    {
     "cell_type": "code",
     "collapsed": false,
     "input": [
      "tran['public_transport'] = tran.bus + tran.rail\n",
      "print 'Country with largest percentage public transport'\n",
      "print tran.public_transport.idxmax()\n",
      "print 'Percentage public transport'\n",
      "print tran.public_transport.max()"
     ],
     "language": "python",
     "metadata": {},
     "outputs": [],
     "prompt_number": 7
    },
    {
     "cell_type": "markdown",
     "metadata": {},
     "source": [
      "###Exercise 1. <a name=\"back1\">Average annual rainfall by country\n",
      "The file `annual_precip.csv` contains the average yearly rainfall and total land area for all the countries in the world (well, there are some missing values);  the data is available on the website of the <a href=\"http://data.worldbank.org/\">world bank</a>. Open the data file to see what it looks like. Load the data with the `read_csv` function of `pandas` and perform the following tasks:\n",
      "\n",
      "* Report the average annual rainfall for Panama\n",
      "* Report all countries with an average annual rainfall less than 200 mm/year\n",
      "* Report all countries with an average annual rainfall more than 2500 mm/year\n",
      "* Report all countries with an average annual rainfall that is within 50 mm/year of the average annual rainfall in Netherlands\n",
      "* Add a new column that stores the total average annual freshwater influx in km$^3$/year for each country\n",
      "* Sort the data on the total average annual freshwater influx in ascending order using the `.sort` syntax and the keyword `inline=True`. Report the 5 countries with the largest annual freshwater influx using the `iloc` syntax."
     ]
    },
    {
     "cell_type": "code",
     "collapsed": false,
     "input": [],
     "language": "python",
     "metadata": {},
     "outputs": [],
     "prompt_number": 7
    },
    {
     "cell_type": "markdown",
     "metadata": {},
     "source": [
      "<a href=\"#ex1answer\">Answers to Exercise 1</a>"
     ]
    },
    {
     "cell_type": "markdown",
     "metadata": {},
     "source": [
      "###Time series data\n",
      "In time series data, one of the columns represents dates, sometimes including times together referred to as datetimes. `pandas` can be used to read csv files where one of the columns includes datetime data. You need to tell `pandas` which column contains datetime values and `pandas` will try to convert that column to datetime objects. Datetime objects are very convenient as specifics of the datetime object may be assessed with the dot syntax: `.year` returns the year, `.month` returns the month, etc.\n",
      "\n",
      "For example, consider the following data stored in the file `timeseries1.dat`\n",
      "\n",
      "`date, conc`  \n",
      "`2014-04-01, 0.19`   \n",
      "`2014-04-02, 0.23`   \n",
      "`2014-04-03, 0.32`   \n",
      "`2014-04-04, 0.29`   \n",
      "\n",
      "The file may be read with `read_csv` using the keyword `parse_dates=[0]` so that column number 0 is converted to datetimes"
     ]
    },
    {
     "cell_type": "code",
     "collapsed": false,
     "input": [
      "data = read_csv('timeseries1.dat', parse_dates=[0])\n",
      "print data"
     ],
     "language": "python",
     "metadata": {},
     "outputs": [],
     "prompt_number": 8
    },
    {
     "cell_type": "markdown",
     "metadata": {},
     "source": [
      "The first column of the DataFrame `data` has datetime values. We can access, for example, the year, month, or day as follows:"
     ]
    },
    {
     "cell_type": "code",
     "collapsed": false,
     "input": [
      "print data.iloc[0,0]\n",
      "print data.iloc[0,0].year\n",
      "print data.iloc[0,0].month\n",
      "print data.iloc[0,0].day"
     ],
     "language": "python",
     "metadata": {},
     "outputs": [],
     "prompt_number": 9
    },
    {
     "cell_type": "markdown",
     "metadata": {},
     "source": [
      "The time series data may contain the time in addition to the date\n",
      "\n",
      "`date, conc`   \n",
      "`2014-04-01 12:00:00, 0.19`   \n",
      "`2014-04-01 13:00:00, 0.20`  \n",
      "`2014-04-01 14:00:00, 0.23`  \n",
      "`2014-04-01 15:00:00, 0.21`   "
     ]
    },
    {
     "cell_type": "code",
     "collapsed": false,
     "input": [
      "data = read_csv('timeseries2.dat', parse_dates=[0])\n",
      "print data"
     ],
     "language": "python",
     "metadata": {},
     "outputs": [],
     "prompt_number": 10
    },
    {
     "cell_type": "markdown",
     "metadata": {},
     "source": [
      "###Exercise 2,  <a name=\"back2\"></a>Compute monthly rainfall from daily rainfall\n",
      "In this exercise we are going to compute the total monthly rainfall for 2012 in the city of Delft in The Netherlands using daily rainfall measurements. The data is obtained from the website of the Royal Dutch Meteorological Society (KNMI) and is given in the file `rainfall_delft_2012.dat`. First open the file in a text editor to see what the file looks like (for example, you can do File and Open in CanopyExpress to open the file in the Canopy editor). At the top of the file, an explanation is given of the data in the file (in Dutch). Read this (if you speak Dutch). Load the data file with the `read_csv` function of `pandas`. Use the keyword `skiprows` to skip all rows except for the row with the names of the columns. Use the keyword `parse_dates` to give either the name or number of the column that should be converted to a datetime. Next, create an array of 12 zeros to store the monthly totals and loop through all the days in 2012 to compute the total rainfall for each month. Print the monthly totals to the screen and plot the total monthly rainfall vs. the month. Use a `bar` plot (type `help(bar)`). "
     ]
    },
    {
     "cell_type": "code",
     "collapsed": false,
     "input": [],
     "language": "python",
     "metadata": {},
     "outputs": [],
     "prompt_number": 10
    },
    {
     "cell_type": "markdown",
     "metadata": {},
     "source": [
      "<a href=\"#ex2answer\">Answers to Exercise 2</a>"
     ]
    },
    {
     "cell_type": "markdown",
     "metadata": {},
     "source": [
      "###Growing the size of an array\n",
      "As you may have noticed by now, we have created arrays with the correct shape and then filled them. Sometimes it is not easy (or possible) to determine the shape of an array beforehand. In that case we need to grow the array as we go. Changing the size of an array is not recommended in Python, although it is possible. A better way is to store values in a list and let the list grow. Once the list is finished, it can be converted into an array. For example, let's compute all perfect squares (integers that are the square of another integer) up to 200. We can start with an empty list and add a value to the list with the `append` command once we have found one:"
     ]
    },
    {
     "cell_type": "code",
     "collapsed": false,
     "input": [
      "perfect_squares = []\n",
      "for x in range(1,201):\n",
      "    if int(sqrt(x)) * int(sqrt(x)) == x:\n",
      "        perfect_squares.append(x)\n",
      "perfect_squares = array(perfect_squares) # If you want to convert to array\n",
      "print perfect_squares"
     ],
     "language": "python",
     "metadata": {},
     "outputs": [],
     "prompt_number": 11
    },
    {
     "cell_type": "markdown",
     "metadata": {},
     "source": [
      "There are many functions that work on arrays. The functions are `amax` and `argmax` were already mentioned; their counterparts are `amin` and `argmin`. You may optionally specify the axis (0 for rows, 1 for columns, a higher number when the array has more than 2 dimensions). `argmax` returns the index of a flattened array, which is one long array obtained by putting row after row after row. To find out the row and column indices use the `unravel_index` function"
     ]
    },
    {
     "cell_type": "code",
     "collapsed": false,
     "input": [
      "data = array([[1,2,3,5],\n",
      "              [4,8,6,4],\n",
      "              [3,5,4,6]])\n",
      "print amax(data) # Finds the max value of the entire array\n",
      "print amax(data,1) # Finds the max value along dimension 1\n",
      "print argmax(data) # Finds the index of the max value of entire array\n",
      "print argmax(data,1) # Finds the column index with the max value along dimension 1\n",
      "print unravel_index( argmax(data),(3,4) ) # Gives i,j index of max for array of size (3,4)"
     ],
     "language": "python",
     "metadata": {},
     "outputs": [],
     "prompt_number": 12
    },
    {
     "cell_type": "markdown",
     "metadata": {},
     "source": [
      "###Exercise 3, <a name=\"back3\"></a>Rainfall in March\n",
      "As you can see from the previous exercise, rainfall can vary dramatically from month to month. You probably won't be surprised that rainfall also varies from year to year. The file `rainfall_delft_all.dat` contains daily rainfall measurements in Delft since 1952. Your task is to compute the total daily rainfall for the month of March for each year. You need to think a bit on how to do this. For example, you may want to loop through the data first and extract all the March data and then compute the monthly totals. Report the wettest March in the dataset. Make a bar graph of the total rainfall in March for each year. Plot a blue bar when the total rainfall in March is more than 100 mm, a green bar when the total rainfall in March is less than 100 mm but more than 50 mm, and a black bar when the total rainfall in March is less than 50 mm. Note the units on the rainfall data. The color of a bar may be specified with the color keyword."
     ]
    },
    {
     "cell_type": "code",
     "collapsed": false,
     "input": [],
     "language": "python",
     "metadata": {},
     "outputs": [],
     "prompt_number": 12
    },
    {
     "cell_type": "markdown",
     "metadata": {},
     "source": [
      "<a href=\"#ex3answer\">Answers to Exercise 3</a>"
     ]
    },
    {
     "cell_type": "markdown",
     "metadata": {},
     "source": [
      "###Answers to the exercises"
     ]
    },
    {
     "cell_type": "markdown",
     "metadata": {},
     "source": [
      "<a name=\"ex1answer\">Answers to Exercise 1</a>"
     ]
    },
    {
     "cell_type": "code",
     "collapsed": false,
     "input": [
      "from pandas import read_csv\n",
      "rain = read_csv('annual_precip.csv',skiprows=2,index_col=0)"
     ],
     "language": "python",
     "metadata": {},
     "outputs": [],
     "prompt_number": 13
    },
    {
     "cell_type": "code",
     "collapsed": false,
     "input": [
      "print 'Average annual rainfall in Panama'\n",
      "print rain.loc['Panama','precip']"
     ],
     "language": "python",
     "metadata": {},
     "outputs": [],
     "prompt_number": 14
    },
    {
     "cell_type": "code",
     "collapsed": false,
     "input": [
      "print 'Countries where average rainfall is below 200 mm/year'\n",
      "print rain[ rain.precip < 200 ]"
     ],
     "language": "python",
     "metadata": {},
     "outputs": [],
     "prompt_number": 15
    },
    {
     "cell_type": "code",
     "collapsed": false,
     "input": [
      "print 'Countries where average rainfall is above 2500 mm/year'\n",
      "print rain[ rain.precip > 2500 ]"
     ],
     "language": "python",
     "metadata": {},
     "outputs": [],
     "prompt_number": 16
    },
    {
     "cell_type": "code",
     "collapsed": false,
     "input": [
      "print 'Countries with almost the same rainfall as Netherlands'\n",
      "print rain[ abs(rain.loc['Netherlands','precip'] - rain.precip) < 50 ]"
     ],
     "language": "python",
     "metadata": {},
     "outputs": [],
     "prompt_number": 17
    },
    {
     "cell_type": "code",
     "collapsed": false,
     "input": [
      "rain['totalq'] = rain.precip * rain.area * 1e-6\n",
      "print 'Country with largest influx'\n",
      "print rain.totalq.idxmax(), rain.totalq.max()"
     ],
     "language": "python",
     "metadata": {},
     "outputs": [],
     "prompt_number": 18
    },
    {
     "cell_type": "code",
     "collapsed": false,
     "input": [
      "#rain.sort(columns='totalq',inplace=True)\n",
      "#print rain.iloc[-5:]  # This doesn't work as it puts the NaNs at the top \n",
      "rain = rain.dropna()  # Drop the NaN values\n",
      "rain.sort(columns='totalq',ascending=False,inplace=True)\n",
      "print rain[:5]"
     ],
     "language": "python",
     "metadata": {},
     "outputs": [],
     "prompt_number": 19
    },
    {
     "cell_type": "markdown",
     "metadata": {},
     "source": [
      "<a href=\"#back1\">Back to Exercise 1</a>\n",
      "\n",
      "<a name=\"ex2answer\">Answers to Exercise 2</a>"
     ]
    },
    {
     "cell_type": "code",
     "collapsed": false,
     "input": [
      "from pandas import read_csv\n",
      "rain = read_csv('rainfall_delft_2012.dat',skiprows=23,parse_dates=['YYYYMMDD'])\n",
      "#\n",
      "monthlyrain = zeros(12)\n",
      "for i in range(len(rain)):\n",
      "    month = rain.iloc[i,1].month\n",
      "    monthlyrain[month-1] += rain.iloc[i,2]\n",
      "print monthlyrain\n",
      "#\n",
      "bar(arange(12),monthlyrain/10,width=1)\n",
      "xlim(0.5,12.5)\n",
      "xlabel('month')\n",
      "ylabel('monthly rainfall (mm/month)')\n",
      "a=xticks(arange(12)+0.5,['J','F','M','A','M','J','J','A','S','O','N','D'])\n",
      "xlim(0,12)"
     ],
     "language": "python",
     "metadata": {},
     "outputs": [],
     "prompt_number": 20
    },
    {
     "cell_type": "markdown",
     "metadata": {},
     "source": [
      "<a href=\"#back2\">Back to Exercise 2</a>\n",
      "\n",
      "<a name=\"ex3answer\">Answers to Exercise 3</a>"
     ]
    },
    {
     "cell_type": "code",
     "collapsed": false,
     "input": [],
     "language": "python",
     "metadata": {},
     "outputs": [],
     "prompt_number": 20
    },
    {
     "cell_type": "markdown",
     "metadata": {},
     "source": [
      "<a name=\"ex3answer\">Answers to Exercise 3</a>"
     ]
    },
    {
     "cell_type": "code",
     "collapsed": false,
     "input": [
      "from pandas import read_csv\n",
      "##rain = read_csv('rainfall_delft_all.dat',skiprows=23,skipinitialspace=True,parse_dates=['YYYYMMDD'],index_col='YYYYMMDD')\n",
      "rain = read_csv('rainfall_delft_all.dat',skiprows=23,skipinitialspace=True,parse_dates=['YYYYMMDD'])"
     ],
     "language": "python",
     "metadata": {},
     "outputs": [],
     "prompt_number": 21
    },
    {
     "cell_type": "code",
     "collapsed": false,
     "input": [
      "rain['month'] = [d.month for d in rain['YYYYMMDD']]\n",
      "marchrain = rain.RD[rain.month==3]\n",
      "marchrain = reshape(marchrain,(62,31))\n",
      "marchrain = sum(marchrain,1)\n",
      "marchrain = marchrain / 10.0 # To convert units to mm\n",
      "years = arange(1952,1952+len(marchrain))\n",
      "imax = argmax(marchrain)\n",
      "print 'Wetted March in dataset: ',years[imax],'with total rainfall: ',marchrain[imax],'mm'\n",
      "bar( years[ marchrain>100 ], marchrain[ marchrain>100 ], color='b')\n",
      "bar( years[ (marchrain<100) & (marchrain>50) ], marchrain[ (marchrain<100) & (marchrain>50) ], color='g')\n",
      "bar( years[ marchrain<50 ], marchrain[ marchrain<50 ], color='k')\n",
      "xlabel('year')\n",
      "ylabel('Total rainfall in March in mm')\n",
      "xt = xticks(rotation=40)"
     ],
     "language": "python",
     "metadata": {},
     "outputs": [],
     "prompt_number": 22
    },
    {
     "cell_type": "code",
     "collapsed": false,
     "input": [
      "#s = rain.groupby([rain.index.year,rain.index.month]).sum()"
     ],
     "language": "python",
     "metadata": {},
     "outputs": [],
     "prompt_number": 23
    },
    {
     "cell_type": "code",
     "collapsed": false,
     "input": [],
     "language": "python",
     "metadata": {},
     "outputs": [],
     "prompt_number": 23
    }
   ],
   "metadata": {}
  }
 ]
}