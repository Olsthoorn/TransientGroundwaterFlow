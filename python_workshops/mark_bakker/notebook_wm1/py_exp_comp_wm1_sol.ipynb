{
 "metadata": {
  "name": "",
  "signature": "sha256:6204d930f8e0523696691026124e4559d45e6ab783839eff287edad9a8f8ce5b"
 },
 "nbformat": 3,
 "nbformat_minor": 0,
 "worksheets": [
  {
   "cells": [
    {
     "cell_type": "markdown",
     "metadata": {},
     "source": [
      "<figure>\n",
      "  <IMG SRC=\"https://raw.githubusercontent.com/mbakker7/exploratory_computing_with_python/master/tudelft_logo.png\" WIDTH=250 ALIGN=\"right\">\n",
      "</figure>\n",
      "\n",
      "# Exploratory Computing with Python\n",
      "*Developed by Mark Bakker*\n",
      "## Water Management Notebook 1: Dealing with time series of data"
     ]
    },
    {
     "cell_type": "code",
     "collapsed": false,
     "input": [
      "# We will probably need these\n",
      "import numpy as np\n",
      "import matplotlib.pyplot as plt\n",
      "%matplotlib inline"
     ],
     "language": "python",
     "metadata": {},
     "outputs": [],
     "prompt_number": 1
    },
    {
     "cell_type": "markdown",
     "metadata": {},
     "source": [
      "###Loading real data with Pandas\n",
      "Real data is often stored in CSV files (Comma Separated Values).\n",
      "So far, we have loaded csv files with the `np.loadtxt` command. \n",
      "The `loadtxt` function has some basic functionality and works just fine, but when we have more elaborate data sets we want more sophisticated functionality. \n",
      "The most powerful and advanced package for data handling and analysis is called `pandas`. We will use only a few functions of the `pandas` package here. Full information on `pandas` can be found on the <a href=\"http://pandas.pydata.org/\">pandas website</a>.\n",
      "\n",
      "Consider the following dataset, which is stored in the file `transport.csv`. It shows the percentage of transportation kilometers by car, bus or rail for four countries. The dataset has four columns. \n",
      "\n",
      "`country, car, bus, rail`  \n",
      "`some more explanations, yada yada yada`  \n",
      "`France, 86.1, 5.3, 8.6`  \n",
      "`Germany, 85.2, 7.1, 7.7`  \n",
      "`Netherlands, 86.4, 4.6, 9`  \n",
      "`United Kingdom, 88.2, 6.5, 5.3` \n",
      "\n",
      "This data file is loaded with the `read_csv` function of the `pandas` package. The `read_csv` function has many options. We will only use three here. The rows that need to be skipped are defined with the `skiprows` keyword (in this case row 1 with the `yada yada` text). The `skipinitialspace` keyword is set to `True` so that the column name ' car' is loaded without the initial space that is in the data file. And the `index_col` keyword is set to indicate that the names in column 0 can be used as an index to select a row."
     ]
    },
    {
     "cell_type": "code",
     "collapsed": false,
     "input": [
      "from pandas import read_csv\n",
      "tran = read_csv('transport.csv', skiprows=[1], skipinitialspace=True, index_col=0)"
     ],
     "language": "python",
     "metadata": {},
     "outputs": [],
     "prompt_number": 2
    },
    {
     "cell_type": "markdown",
     "metadata": {},
     "source": [
      "Once you have loaded the data, you can print it to the screen"
     ]
    },
    {
     "cell_type": "code",
     "collapsed": false,
     "input": [
      "print tran"
     ],
     "language": "python",
     "metadata": {},
     "outputs": [
      {
       "output_type": "stream",
       "stream": "stdout",
       "text": [
        "                 car  bus  rail\n",
        "country                        \n",
        "France          86.1  5.3   8.6\n",
        "Germany         85.2  7.1   7.7\n",
        "Netherlands     86.4  4.6   9.0\n",
        "United Kingdom  88.2  6.5   5.3\n"
       ]
      }
     ],
     "prompt_number": 3
    },
    {
     "cell_type": "markdown",
     "metadata": {},
     "source": [
      "When the DataFrame is large, you can still print it to the screen (`pandas` is smart enough not to show the entire DataFrame when it is very large), or you can simply print the first 5 lines of the DataFrame with the `.head()` function. "
     ]
    },
    {
     "cell_type": "markdown",
     "metadata": {},
     "source": [
      "###Basic DataFrame manipulation\n",
      "The `read_csv` function returns what is called a DataFrame. The variable `tran` in the code above is now a DataFrame. The rows and columns of a DataFrame may have names, as you can see from printing the DataFrame to the screen. To find out which names are used for the columns, use the `keys` function, which is accessible with the dot syntax. You can loop through the names of the columns if you wish."
     ]
    },
    {
     "cell_type": "code",
     "collapsed": false,
     "input": [
      "print 'Names of columns:'\n",
      "print tran.keys()\n",
      "for key in tran.keys():\n",
      "    print key"
     ],
     "language": "python",
     "metadata": {},
     "outputs": [
      {
       "output_type": "stream",
       "stream": "stdout",
       "text": [
        "Names of columns:\n",
        "Index([u'car', u'bus', u'rail'], dtype='object')\n",
        "car\n",
        "bus\n",
        "rail\n"
       ]
      }
     ],
     "prompt_number": 4
    },
    {
     "cell_type": "markdown",
     "metadata": {},
     "source": [
      "Each DataFrame may be indexed just like an array, by specifying the row and column number using the `.iloc` syntax (which stands for *index location*), where column 0 is the column labeled `car` (since the column labeled as `country` was stored as an index when reading the csv file; more on that later)."
     ]
    },
    {
     "cell_type": "code",
     "collapsed": false,
     "input": [
      "print tran.iloc[0,1]  # Gives the bus data for France\n",
      "print tran.iloc[1,0]  # Gives the car data for Germany\n",
      "print tran.iloc[2,2]  # Gives the rail data for Netherlands\n",
      "print tran.iloc[3]  # All data for United Kindom\n",
      "print tran.iloc[:,1]  # All data for bus"
     ],
     "language": "python",
     "metadata": {},
     "outputs": [
      {
       "output_type": "stream",
       "stream": "stdout",
       "text": [
        "5.3\n",
        "85.2\n",
        "9.0\n",
        "car     88.2\n",
        "bus      6.5\n",
        "rail     5.3\n",
        "Name: United Kingdom, dtype: float64\n",
        "country\n",
        "France            5.3\n",
        "Germany           7.1\n",
        "Netherlands       4.6\n",
        "United Kingdom    6.5\n",
        "Name: bus, dtype: float64\n"
       ]
      }
     ],
     "prompt_number": 5
    },
    {
     "cell_type": "markdown",
     "metadata": {},
     "source": [
      "Alternatively, values in a DataFrame may be selected by specifying the indices by name, using the `.loc` syntax. This is a bit more typing but *much* more explicit. The equivalent of the code cell above, but using indices by name is"
     ]
    },
    {
     "cell_type": "code",
     "collapsed": false,
     "input": [
      "print tran.loc['France','bus']\n",
      "print tran.loc['Germany','car']\n",
      "print tran.loc['Netherlands','rail']\n",
      "print tran.loc['United Kingdom']\n",
      "print tran.loc[:,'bus']"
     ],
     "language": "python",
     "metadata": {},
     "outputs": [
      {
       "output_type": "stream",
       "stream": "stdout",
       "text": [
        "5.3\n",
        "85.2\n",
        "9.0\n",
        "car     88.2\n",
        "bus      6.5\n",
        "rail     5.3\n",
        "Name: United Kingdom, dtype: float64\n",
        "country\n",
        "France            5.3\n",
        "Germany           7.1\n",
        "Netherlands       4.6\n",
        "United Kingdom    6.5\n",
        "Name: bus, dtype: float64\n"
       ]
      }
     ],
     "prompt_number": 6
    },
    {
     "cell_type": "markdown",
     "metadata": {},
     "source": [
      "There are two alternative ways to access all the data in a column. First, you can simply specify the column name as an index, without having to use the `.loc` syntax. Second, the dot syntax may be used, like syntax `.column_name`, where `column_name` is the name of the column. Hence, the following three are equivalent"
     ]
    },
    {
     "cell_type": "code",
     "collapsed": false,
     "input": [
      "print tran.loc[:,'car']  # All rows of 'car' column\n",
      "print tran['car']  # 'car' column \n",
      "print tran.car"
     ],
     "language": "python",
     "metadata": {},
     "outputs": [
      {
       "output_type": "stream",
       "stream": "stdout",
       "text": [
        "country\n",
        "France            86.1\n",
        "Germany           85.2\n",
        "Netherlands       86.4\n",
        "United Kingdom    88.2\n",
        "Name: car, dtype: float64\n",
        "country\n",
        "France            86.1\n",
        "Germany           85.2\n",
        "Netherlands       86.4\n",
        "United Kingdom    88.2\n",
        "Name: car, dtype: float64\n",
        "country\n",
        "France            86.1\n",
        "Germany           85.2\n",
        "Netherlands       86.4\n",
        "United Kingdom    88.2\n",
        "Name: car, dtype: float64\n"
       ]
      }
     ],
     "prompt_number": 7
    },
    {
     "cell_type": "markdown",
     "metadata": {},
     "source": [
      "###`numpy` functions for DataFrames\n",
      "Series can be pretty much treated as arrays, especially when they contain data. Many `numpy` functions also work on DataFrames, but they can also be accessed with the *dot* syntax, like `dataframe_name.function()`. Simply type `tran.` in a code cell and then hit the [tab] key to see all the functions that are available. In the code cell below, we compute the maximum value of transportation by car, the country corresponding to the maximum value of transportation by car, and the mean value of all transportation by car. You can also find all values larger than a specified value, just like for arrays:"
     ]
    },
    {
     "cell_type": "code",
     "collapsed": false,
     "input": [
      "print 'maximum car travel percentage:', tran.car.max()\n",
      "print 'country with maxum car travel percentage:', tran.car.argmax()\n",
      "print 'mean car travel percentage:', tran.car.mean()\n",
      "print 'all rail travel above 8 percent:'\n",
      "print tran.rail[ tran.rail > 8 ]"
     ],
     "language": "python",
     "metadata": {},
     "outputs": [
      {
       "output_type": "stream",
       "stream": "stdout",
       "text": [
        "maximum car travel percentage: 88.2\n",
        "country with maxum car travel percentage: United Kingdom\n",
        "mean car travel percentage: 86.475\n",
        "all rail travel above 8 percent:\n",
        "country\n",
        "France         8.6\n",
        "Netherlands    9.0\n",
        "Name: rail, dtype: float64\n"
       ]
      }
     ],
     "prompt_number": 8
    },
    {
     "cell_type": "markdown",
     "metadata": {},
     "source": [
      "###Exercise 1. <a name=\"back1\"></a>Average annual rainfall by country\n",
      "The file `annual_precip.csv` contains the average yearly rainfall and total land area for all the countries in the world (well, there are some missing values);  the data is available on the website of the <a href=\"http://data.worldbank.org/\">world bank</a>. Open the data file to see what it looks like (Notepad, Textedit, even Word if you have to). Load the data with the `read_csv` function of `pandas`, making sure that the names of the countries can be used to select a row, and perform the following tasks:\n",
      "\n",
      "* Print the first 5 lines of the DataFrame to the screen with the `.head()` function.\n",
      "* Print the average annual rainfall for Panama and make sure to include the units.\n",
      "* Report the total land area of the Netherlands and make sure to include the units.\n",
      "* Report all countries with an average annual rainfall less than 200 mm/year\n",
      "* Report all countries with an average annual rainfall more than 2500 mm/year\n",
      "* Report all countries with an average annual rainfall that is within 50 mm/year of the average annual rainfall in the Netherlands"
     ]
    },
    {
     "cell_type": "code",
     "collapsed": false,
     "input": [
      "from pandas import read_csv\n",
      "rain = read_csv('annual_precip.csv',skiprows=2,index_col=0,)\n",
      "#\n",
      "print 'First five lines of rain dataset:'\n",
      "print rain.head()\n",
      "#\n",
      "print\n",
      "print 'Average annual rainfall in Panama is',rain.loc['Panama','precip'],'mm/year'\n",
      "#\n",
      "print\n",
      "print 'Land area of the Netherlands is', rain.loc['Netherlands','area'], 'thousand km^2/year'\n",
      "#\n",
      "print\n",
      "print 'Countries where average rainfall is below 200 mm/year'\n",
      "print rain[ rain.precip < 200 ]\n",
      "#\n",
      "print\n",
      "print 'Countries where average rainfall is above 2500 mm/year'\n",
      "print rain[ rain.precip > 2500 ]\n",
      "#\n",
      "print\n",
      "print 'Countries with almost the same rainfall as the Netherlands'"
     ],
     "language": "python",
     "metadata": {},
     "outputs": [
      {
       "output_type": "stream",
       "stream": "stdout",
       "text": [
        "First five lines of rain dataset:\n",
        "                precip    area\n",
        "country                       \n",
        "Afghanistan        327   652.2\n",
        "Albania           1485    27.4\n",
        "Algeria             89  2381.7\n",
        "American Samoa     NaN     0.2\n",
        "Andorra            NaN     0.5\n",
        "\n",
        "Average annual rainfall in Panama is 2692.0 mm/year\n",
        "\n",
        "Land area of the Netherlands is 33.7 thousand km^2/year\n",
        "\n",
        "Countries where average rainfall is below 200 mm/year\n",
        "                      precip    area\n",
        "country                             \n",
        "Algeria                   89  2381.7\n",
        "Bahrain                   83     0.8\n",
        "Egypt, Arab Rep.          51   995.5\n",
        "Jordan                   111    88.8\n",
        "Kuwait                   121    17.8\n",
        "Libya                     56  1759.5\n",
        "Mauritania                92  1030.7\n",
        "Niger                    151  1266.7\n",
        "Oman                     125   309.5\n",
        "Qatar                     74    11.6\n",
        "Saudi Arabia              59  2149.7\n",
        "Turkmenistan             161   469.9\n",
        "United Arab Emirates      78    83.6\n",
        "Yemen, Rep.              167   528.0\n",
        "\n",
        "Countries where average rainfall is above 2500 mm/year\n",
        "                       precip    area\n",
        "country                              \n",
        "Bangladesh               2666   130.2\n",
        "Brunei Darussalam        2722     5.3\n",
        "Colombia                 2612  1109.5\n",
        "Costa Rica               2926    51.1\n",
        "Fiji                     2592    18.3\n",
        "Indonesia                2702  1811.6\n",
        "Malaysia                 2875   328.6\n",
        "Panama                   2692    74.3\n",
        "Papua New Guinea         3142   452.9\n",
        "Sao Tome and Principe    3200     1.0\n",
        "Sierra Leone             2526    71.6\n",
        "Solomon Islands          3028    28.0\n",
        "\n",
        "Countries with almost the same rainfall as the Netherlands\n"
       ]
      }
     ],
     "prompt_number": 34
    },
    {
     "cell_type": "markdown",
     "metadata": {},
     "source": [
      "###Adding a column to a DataFrame\n",
      "A column may be added to a DataFrame by simply specifying the name and values of the new column using the syntax `DataFrame['newcolumn']=something`. For example, let's add a column named `public_transport`, which is the sum of the `bus` and `rail` columns, and then find the country with the largest percentage of public transport"
     ]
    },
    {
     "cell_type": "code",
     "collapsed": false,
     "input": [
      "tran['public_transport'] = tran.bus + tran.rail\n",
      "print 'Country with largest percentage public transport:',tran.public_transport.argmax()"
     ],
     "language": "python",
     "metadata": {},
     "outputs": [
      {
       "output_type": "stream",
       "stream": "stdout",
       "text": [
        "Country with largest percentage public transport: Germany\n"
       ]
      }
     ],
     "prompt_number": 9
    },
    {
     "cell_type": "markdown",
     "metadata": {},
     "source": [
      "###Plotting DataFrames\n",
      "You can plot the column or row of a DataFrame with the `matplotlib` functions, as we have done in previous Notebooks, but `pandas` has also implemented its own, much more convenient, plotting functions (still based on `matplotlib` in the background, of course). The plotting capabilities of `pandas` also use the *dot* syntax, like `dataframe.plot()`. All columns can be plotted simultaneously (note that the names appear on the axes and the legend is added automatically!)."
     ]
    },
    {
     "cell_type": "code",
     "collapsed": false,
     "input": [
      "tran.plot()  # plot all columns"
     ],
     "language": "python",
     "metadata": {},
     "outputs": [
      {
       "metadata": {},
       "output_type": "pyout",
       "prompt_number": 11,
       "text": [
        "<matplotlib.axes.AxesSubplot at 0x107750dd0>"
       ]
      },
      {
       "metadata": {},
       "output_type": "display_data",
       "png": "[encoded data removed]",
       "text": [
        "<matplotlib.figure.Figure at 0x107736450>"
       ]
      }
     ],
     "prompt_number": 11
    },
    {
     "cell_type": "markdown",
     "metadata": {},
     "source": [
      "You can also plot one column at a time. The style of the plot may be specified with the `kind` keyword (the default is `'line'`). Check out `tran.plot?` for more options. "
     ]
    },
    {
     "cell_type": "code",
     "collapsed": false,
     "input": [
      "tran['bus'].plot(kind='bar')"
     ],
     "language": "python",
     "metadata": {},
     "outputs": [
      {
       "metadata": {},
       "output_type": "pyout",
       "prompt_number": 12,
       "text": [
        "<matplotlib.axes.AxesSubplot at 0x10789a990>"
       ]
      },
      {
       "metadata": {},
       "output_type": "display_data",
       "png": "[encoded data removed]",
       "text": [
        "<matplotlib.figure.Figure at 0x105ea8a90>"
       ]
      }
     ],
     "prompt_number": 12
    },
    {
     "cell_type": "markdown",
     "metadata": {},
     "source": [
      "###Sorting DataFrames\n",
      "DataFrames may be sorted with the `.sort` function. The keyword `inplace=True` replaces the values in the DataFrame with the new sorted values (when `inplace=False` a new DataFrame is returned, which you can store in a separate variable so that you have two datasets, one sorted and one unsorted). The `sort` funcion has several keyword arguments, including `columns` which is either the name of one column to sort by or a list of columns so that data is sorted by the first specified column and when values are equal they are sorted by the next column in the list. Another keyword is `ascending`, which you can use to specify whether to sort in ascending order (`ascending=True`), or descending order (`ascending=False`)"
     ]
    },
    {
     "cell_type": "code",
     "collapsed": false,
     "input": [
      "print 'Data sorted by car use:'\n",
      "print tran.sort(columns='car')\n",
      "print 'Data sorted by bus use:'\n",
      "print tran.sort(columns='bus')"
     ],
     "language": "python",
     "metadata": {},
     "outputs": [
      {
       "output_type": "stream",
       "stream": "stdout",
       "text": [
        "Data sorted by car use:\n",
        "                 car  bus  rail  public_transport\n",
        "country                                          \n",
        "Germany         85.2  7.1   7.7              14.8\n",
        "France          86.1  5.3   8.6              13.9\n",
        "Netherlands     86.4  4.6   9.0              13.6\n",
        "United Kingdom  88.2  6.5   5.3              11.8\n",
        "Data sorted by bus use:\n",
        "                 car  bus  rail  public_transport\n",
        "country                                          \n",
        "Netherlands     86.4  4.6   9.0              13.6\n",
        "France          86.1  5.3   8.6              13.9\n",
        "United Kingdom  88.2  6.5   5.3              11.8\n",
        "Germany         85.2  7.1   7.7              14.8\n"
       ]
      }
     ],
     "prompt_number": 13
    },
    {
     "cell_type": "markdown",
     "metadata": {},
     "source": [
      "###Exercise 2. <a name=\"back2\"></a>Average annual rainfall by country continued\n",
      "Continue with the average yearly rainfall and total land area for all the countries in the world and perform the following tasks:\n",
      "\n",
      "* Add a new column that stores the total average annual freshwater influx in km$^3$/year for each country. Make sure you convert your units correctly. \n",
      "* Sort the data on the total average annual freshwater influx in ascending order using the `.sort` syntax and report the 5 countries with the largest annual freshwater influx using the `iloc` syntax. (In older versions of IPython, the missing values may be sorted to the top of the DataFrame. To remove the missing values type: `dataframe_name.dropna()`)\n",
      "* Make a bar graph of the 10 countries with the largest annual freshwater influx."
     ]
    },
    {
     "cell_type": "code",
     "collapsed": false,
     "input": [],
     "language": "python",
     "metadata": {},
     "outputs": [],
     "prompt_number": 13
    },
    {
     "cell_type": "markdown",
     "metadata": {},
     "source": [
      "<a href=\"#ex2answer\">Answers to Exercise 2</a>"
     ]
    },
    {
     "cell_type": "markdown",
     "metadata": {},
     "source": [
      "###Time series data\n",
      "In time series data, one of the columns represents dates, sometimes including times, together referred to as datetimes. `pandas` can be used to read csv files where one of the columns includes datetime data. You need to tell `pandas` which column contains datetime values and `pandas` will try to convert that column to datetime objects. Datetime objects are very convenient as specifics of the datetime object may be assessed with the dot syntax: `.year` returns the year, `.month` returns the month, etc.\n",
      "\n",
      "For example, consider the following data stored in the file `timeseries1.dat`\n",
      "\n",
      "`date, conc`  \n",
      "`2014-04-01, 0.19`   \n",
      "`2014-04-02, 0.23`   \n",
      "`2014-04-03, 0.32`   \n",
      "`2014-04-04, 0.29`   \n",
      "\n",
      "The file may be read with `read_csv` using the keyword `parse_dates=[0]` so that column number 0 is converted to datetimes"
     ]
    },
    {
     "cell_type": "code",
     "collapsed": false,
     "input": [
      "data = read_csv('timeseries1.dat', parse_dates=[0])\n",
      "print data"
     ],
     "language": "python",
     "metadata": {},
     "outputs": [
      {
       "output_type": "stream",
       "stream": "stdout",
       "text": [
        "        date   conc\n",
        "0 2014-04-01   0.19\n",
        "1 2014-04-02   0.23\n",
        "2 2014-04-03   0.32\n",
        "3 2014-04-04   0.29\n",
        "4 2014-04-05   0.32\n"
       ]
      }
     ],
     "prompt_number": 14
    },
    {
     "cell_type": "markdown",
     "metadata": {},
     "source": [
      "The rows of the DataFrame `data` are numbered, as we have not told `pandas` what column to use as the index of the rows. The first column of the DataFrame `data` has datetime values. We can access, for example, the year, month, or day with the dot syntax"
     ]
    },
    {
     "cell_type": "code",
     "collapsed": false,
     "input": [
      "print 'datetime of row 0:', data.iloc[0,0]\n",
      "print 'year  of row 0:', data.iloc[0,0].year\n",
      "print 'month of row 0:', data.iloc[0,0].month\n",
      "print 'day   of row 0:', data.iloc[0,0].day"
     ],
     "language": "python",
     "metadata": {},
     "outputs": [
      {
       "output_type": "stream",
       "stream": "stdout",
       "text": [
        "datetime of row 0: 2014-04-01 00:00:00\n",
        "year  of row 0: 2014\n",
        "month of row 0: 4\n",
        "day   of row 0: 1\n"
       ]
      }
     ],
     "prompt_number": 15
    },
    {
     "cell_type": "markdown",
     "metadata": {},
     "source": [
      "Time series data may also contain the time in addition to the date. For example, the data of the file `timeseries2.dat`, shown below, contains the day and time. You can access the `hour` or `minutes`, but also the time of a row of the DataFrame with the `.time()` function.\n",
      "\n",
      "`date, conc`   \n",
      "`2014-04-01 12:00:00, 0.19`   \n",
      "`2014-04-01 13:00:00, 0.20`  \n",
      "`2014-04-01 14:00:00, 0.23`  \n",
      "`2014-04-01 15:00:00, 0.21` "
     ]
    },
    {
     "cell_type": "code",
     "collapsed": false,
     "input": [
      "data = read_csv('timeseries2.dat', parse_dates=[0])\n",
      "print data\n",
      "print 'hour  of row 0:', data.iloc[0,0].hour\n",
      "print 'minute  of row 0:', data.iloc[0,0].minute\n",
      "print 'time of row 0:', data.iloc[0,0].time()"
     ],
     "language": "python",
     "metadata": {},
     "outputs": [
      {
       "output_type": "stream",
       "stream": "stdout",
       "text": [
        "                 date   conc\n",
        "0 2014-04-01 12:00:00   0.19\n",
        "1 2014-04-01 13:00:00   0.20\n",
        "2 2014-04-01 14:00:00   0.23\n",
        "3 2014-04-01 15:00:00   0.21\n",
        "hour  of row 0: 12\n",
        "minute  of row 0: 0\n",
        "time of row 0: 12:00:00\n"
       ]
      }
     ],
     "prompt_number": 16
    },
    {
     "cell_type": "markdown",
     "metadata": {},
     "source": [
      "###Exercise 3,  <a name=\"back3\"></a>Load and plot daily rainfall\n",
      "Rainfall data for the Netherlands may be obtained from the website of the Royal Dutch Meteorological Society <A href=\"http://www.knmi.nl/climatology/daily_data/selection.cgi\">KNMI</A> . Daily rainfall for the weather station Rotterdam in 2012 is stored in the file `rotterdam_rainfall_2012.txt`. First open the file in a text editor to see what the file looks like. At the top of the file, an explanation is given of the data in the file. Read this. Load the data file with the `read_csv` function of `pandas`. Use the keyword `skiprows` to skip all rows except for the row with the names of the columns. Use the keyword `parse_dates` to give either the name or number of the column that should be converted to a datetime. Don't forget the `skipinitialspace` keyword, else the names of the columns may start with a bunch of spaces. Perform the following tasks:\n",
      "* Some rainfall values in the dataset may be -1 (read the header of the file to learn why); set all rainfall values that are less than zero to zero. \n",
      "* Use the `plot` function of `pandas` to create a line plot of the daily rainfall with the number of the day (so not the date) along the vertical axis. \n",
      "* Use `matplotlib` functions to add labels to the axes and set the limits along the horizontal axis from 0 to 365. \n",
      "* Determine the maximum daily rainfall and the date of the maximum daily rainfall and print them to the screen."
     ]
    },
    {
     "cell_type": "code",
     "collapsed": false,
     "input": [
      "rain = read_csv('rotterdam_rainfall_2012.txt',skiprows=9,\n",
      "                parse_dates=['YYYYMMDD'],skipinitialspace=True)\n",
      "rain.iloc[:,2] = rain.iloc[:,2] * 0.1\n",
      "rain.RH[rain.RH<0] = 0\n",
      "rain.RH.plot()\n",
      "plt.xlabel('day')\n",
      "plt.ylabel('daily rainfall (mm/day)')\n",
      "plt.xlim(0,365)\n",
      "print 'Maximum daily rainfall',rain.RH.max()\n",
      "print 'Date of maximum daily rainfall',rain.YYYYMMDD[rain.RH.argmax()]"
     ],
     "language": "python",
     "metadata": {},
     "outputs": [
      {
       "output_type": "stream",
       "stream": "stdout",
       "text": [
        "Maximum daily rainfall 22.4\n",
        "Date of maximum daily rainfall 2012-12-22 00:00:00\n"
       ]
      },
      {
       "metadata": {},
       "output_type": "display_data",
       "png": "[encoded data removed]",
       "text": [
        "<matplotlib.figure.Figure at 0x1079088d0>"
       ]
      }
     ],
     "prompt_number": 17
    },
    {
     "cell_type": "markdown",
     "metadata": {},
     "source": [
      "<a href=\"#ex3answer\">Answers to Exercise 3</a>"
     ]
    },
    {
     "cell_type": "markdown",
     "metadata": {},
     "source": [
      "###Exercise 4,  <a name=\"back4\"></a>Compute monthly rainfall from daily rainfall\n",
      "In this exercise we are going to compute the total monthly rainfall for 2012 in the City of Rotterdam using the daily rainfall measurements we loaded in the previous Exercise; later on in this Notebook we learn convenient functions from `pandas` to do this, but here we are going to do this with a loop. Create an array of 12 zeros to store the monthly totals and loop through all the days in 2012 to compute the total rainfall for each month. The month associated with each row of the DataFrame may be obtained with the `.month` syntax, as shown above. Print the monthly totals (in mm/month) to the screen and create a bar graph of the total monthly rainfall (in mm/month) vs. the month using the `plt.bar` function of matplotlib. "
     ]
    },
    {
     "cell_type": "code",
     "collapsed": false,
     "input": [
      "monthlyrain = np.zeros(12)\n",
      "for i in range(len(rain)):\n",
      "    month = rain.iloc[i,1].month\n",
      "    monthlyrain[month-1] += rain.iloc[i,2]\n",
      "print monthlyrain\n",
      "#\n",
      "plt.bar(np.arange(12),monthlyrain,width=1)\n",
      "plt.xlabel('month')\n",
      "plt.ylabel('monthly rainfall (mm/month)')\n",
      "plt.xticks(np.arange(12)+0.5,['J','F','M','A','M','J','J','A','S','O','N','D'])\n",
      "plt.xlim(0,12)"
     ],
     "language": "python",
     "metadata": {},
     "outputs": [
      {
       "output_type": "stream",
       "stream": "stdout",
       "text": [
        "[  83.    24.3   21.9   57.6   76.5  119.   121.6   93.4   52.   132.6\n",
        "   63.3  149.5]\n",
        "total rainfall in 2012: 994.7 mm\n"
       ]
      },
      {
       "metadata": {},
       "output_type": "pyout",
       "prompt_number": 18,
       "text": [
        "(0, 12)"
       ]
      },
      {
       "metadata": {},
       "output_type": "display_data",
       "png": "[encoded data removed]",
       "text": [
        "<matplotlib.figure.Figure at 0x1077a6890>"
       ]
      }
     ],
     "prompt_number": 18
    },
    {
     "cell_type": "markdown",
     "metadata": {},
     "source": [
      "<a href=\"#ex4answer\">Answers to Exercise 4</a>"
     ]
    },
    {
     "cell_type": "markdown",
     "metadata": {},
     "source": [
      "###Date times as index\n",
      "The datetime of a dataset may also be used as the index of the DataFrame by specifying the column with the dates as the column to use for an index with the `index_col` keyword.  Note that datetimes are given as year-month-day, so `2012-04-01` means April 1, 2012."
     ]
    },
    {
     "cell_type": "code",
     "collapsed": false,
     "input": [
      "data = read_csv('timeseries1.dat', parse_dates=[0], index_col=0)\n",
      "print data\n",
      "print 'data on April 1:',data.loc['2014-04-01']\n",
      "print 'data on April 2:',data.loc['2014-04-02']"
     ],
     "language": "python",
     "metadata": {},
     "outputs": [
      {
       "output_type": "stream",
       "stream": "stdout",
       "text": [
        "             conc\n",
        "date             \n",
        "2014-04-01   0.19\n",
        "2014-04-02   0.23\n",
        "2014-04-03   0.32\n",
        "2014-04-04   0.29\n",
        "2014-04-05   0.32\n",
        "data on April 1:  conc    0.19\n",
        "Name: 2014-04-01 00:00:00, dtype: float64\n",
        "data on April 2:  conc    0.23\n",
        "Name: 2014-04-02 00:00:00, dtype: float64\n"
       ]
      }
     ],
     "prompt_number": 29
    },
    {
     "cell_type": "markdown",
     "metadata": {},
     "source": [
      "###Resampling\n",
      "DataFrames have a very powerful feature called resampling. Downsampling refers to going from high frequency to low frequency. For example, going from daily data to monthly data. Upsampling refers to going from low frequency to high frequency. For example going from monthly data to daily data. For both upsampling and downsampling, you need to tell `pandas` how to perform the resampling. Here we discuss downsampling, as we did in Exercise 4, where we computed monthly totals from daily values. First we reload the daily rainfall in Rotterdam in 2012 and specify the dates as the index. We resample the rain to monthly totals using the `resample` function. You have to tell `resample` to resample to what frequency. Common ones are `'A'` for yearly, `'M'` for monthly, `'W'` for weekly, `'D'` for daily, and `'H'` for hourly, but there are many other ones (see  <A href=\"http://pandas.pydata.org/pandas-docs/version/0.12.0/timeseries.html\">here</A>).  The keyword argument `how` is used to tell `pandas` how to compute the resampled data. This can be many things, like `'mean'` for the mean (that is the default), `'sum'` for the total, `'min'` and `'max'`, etc. The keyword argument `kind` is used to tell `pandas` where to assign the computed value to. You can assign the computed value to the last day of the period, or the first day, or to the entire period (in this case the entire month). The latter is done by specifying `kind='period'`, which is what we will do here. Calculating the montly totals and making a bar graph can now be done with `pandas` as follows. Compare these answers to your answer for Exercise 4 and make sure you got the right answer!"
     ]
    },
    {
     "cell_type": "code",
     "collapsed": false,
     "input": [
      "rain = read_csv('rotterdam_rainfall_2012.txt',skiprows=9,\n",
      "                parse_dates=['YYYYMMDD'],index_col='YYYYMMDD',skipinitialspace=True)\n",
      "rain.RH[rain.RH<0] = 0\n",
      "rain.RH = rain.RH * 0.1 # Convert to mm/day\n",
      "monthlyrain = rain.RH.resample('M', how='sum', kind='period')\n",
      "print monthlyrain\n",
      "monthlyrain.plot(kind='bar')\n",
      "plt.ylabel('mm/month')\n",
      "plt.xlabel('month')"
     ],
     "language": "python",
     "metadata": {},
     "outputs": [
      {
       "output_type": "stream",
       "stream": "stdout",
       "text": [
        "YYYYMMDD\n",
        "2012-01      83.0\n",
        "2012-02      24.3\n",
        "2012-03      21.9\n",
        "2012-04      57.6\n",
        "2012-05      76.5\n",
        "2012-06     119.0\n",
        "2012-07     121.6\n",
        "2012-08      93.4\n",
        "2012-09      52.0\n",
        "2012-10     132.6\n",
        "2012-11      63.3\n",
        "2012-12     149.5\n",
        "Freq: M, Name: RH, dtype: float64\n"
       ]
      },
      {
       "metadata": {},
       "output_type": "pyout",
       "prompt_number": 32,
       "text": [
        "<matplotlib.text.Text at 0x108a3a890>"
       ]
      },
      {
       "metadata": {},
       "output_type": "display_data",
       "png": "[encoded data removed]",
       "text": [
        "<matplotlib.figure.Figure at 0x108f97350>"
       ]
      }
     ],
     "prompt_number": 32
    },
    {
     "cell_type": "markdown",
     "metadata": {},
     "source": [
      "###Exercise 5,<a name=\"back5\"></a> Resample weather data\n",
      "The file `rotterdam_weather_2000_2010.txt` contains daily weather data at the weather station Rotterdam for the period 2000-2010 (again from the KNMI). Open the data file in an editor to see what is in it. Perform the following tasks:\n",
      "* Load the data making sure the dates are used as index. \n",
      "* Convert the rain and evaporation to mm/day, and the temperature to degrees Celcius. \n",
      "* Set any negative rainfall (explained in the file) to zero. \n",
      "* Compute total yearly rainfall, total yearly evaporation, and mean yearly temperature. \n",
      "* Make a line plot of the yearly rainfall, yearly evaporation, and mean temperature using the `plot` function of `pandas`. Make sure to plot the mean temperature on the secondary $y$-axis (use the help function to find out how). "
     ]
    },
    {
     "cell_type": "code",
     "collapsed": false,
     "input": [
      "weather = read_csv('rotterdam_weather_2000_2010.txt',skiprows=11,\n",
      "                parse_dates=['YYYYMMDD'],index_col='YYYYMMDD',skipinitialspace=True)\n",
      "weather.TG = 0.1 * weather.TG\n",
      "weather.RH = 0.1 * weather.RH\n",
      "weather.EV24 = 0.1 * weather.EV24\n",
      "weather.RH[weather.RH<0] = 0\n",
      "yearly_rain = weather.RH.resample('A', how='sum', kind='period')\n",
      "yearly_evap = weather.EV24.resample('A', how='sum', kind='period')\n",
      "yearly_temp = weather.TG.resample('A', how='mean', kind='period')\n",
      "yearly_rain.plot()\n",
      "yearly_evap.plot()\n",
      "yearly_temp.plot(secondary_y=True)\n",
      "plt.xlabel('Year')\n",
      "plt.ylabel('Rain/evap (mm/year)')"
     ],
     "language": "python",
     "metadata": {},
     "outputs": [
      {
       "metadata": {},
       "output_type": "pyout",
       "prompt_number": 33,
       "text": [
        "<matplotlib.text.Text at 0x1094c7f90>"
       ]
      },
      {
       "metadata": {},
       "output_type": "display_data",
       "png": "[encoded data removed]",
       "text": [
        "<matplotlib.figure.Figure at 0x108a33a90>"
       ]
      }
     ],
     "prompt_number": 33
    },
    {
     "cell_type": "markdown",
     "metadata": {},
     "source": [
      "<a href=\"#ex4answer\">Answers to Exercise 4</a>"
     ]
    },
    {
     "cell_type": "code",
     "collapsed": false,
     "input": [
      "weather = read_csv('rotterdam_weather_2000_2010.txt',skiprows=11,\n",
      "                parse_dates=['YYYYMMDD'],index_col='YYYYMMDD',skipinitialspace=True)\n",
      "weather.TG = 0.1 * weather.TG\n",
      "weather.RH = 0.1 * weather.RH\n",
      "weather.EV24 = 0.1 * weather.EV24\n",
      "weather.RH[weather.RH<0] = 0\n",
      "weather['rain_min_evap'] = weather.RH - weather.EV24\n",
      "yearly_rain_min_evap = weather.RH.resample('M', how='sum', kind='period')\n",
      "yearly_rain_min_evap.plot()\n",
      "plt.xlabel('Year')\n",
      "plt.ylabel('Rain min evap (mm/year)')"
     ],
     "language": "python",
     "metadata": {},
     "outputs": [
      {
       "metadata": {},
       "output_type": "pyout",
       "prompt_number": 22,
       "text": [
        "<matplotlib.text.Text at 0x107e72590>"
       ]
      },
      {
       "metadata": {},
       "output_type": "display_data",
       "png": "[encoded data removed]",
       "text": [
        "<matplotlib.figure.Figure at 0x107865850>"
       ]
      }
     ],
     "prompt_number": 22
    },
    {
     "cell_type": "markdown",
     "metadata": {},
     "source": [
      "###Answers to the exercises"
     ]
    },
    {
     "cell_type": "markdown",
     "metadata": {},
     "source": [
      "<a name=\"ex1answer\">Answers to Exercise 1</a>"
     ]
    },
    {
     "cell_type": "code",
     "collapsed": false,
     "input": [
      "from pandas import read_csv\n",
      "rain = read_csv('annual_precip.csv',skiprows=2,index_col=0,)\n",
      "#\n",
      "print 'First five lines of rain dataset:'\n",
      "print rain.head()\n",
      "#\n",
      "print\n",
      "print 'Average annual rainfall in Panama is',rain.loc['Panama','precip'],'mm/year'\n",
      "#\n",
      "print\n",
      "print 'Land area of the Netherlands is', rain.loc['Netherlands','area'], 'thousand km^2/year'\n",
      "#\n",
      "print\n",
      "print 'Countries where average rainfall is below 200 mm/year'\n",
      "print rain[ rain.precip < 200 ]\n",
      "#\n",
      "print\n",
      "print 'Countries where average rainfall is above 2500 mm/year'\n",
      "print rain[ rain.precip > 2500 ]\n",
      "#\n",
      "print\n",
      "print 'Countries with almost the same rainfall as the Netherlands'\n",
      "print rain[ abs(rain.loc['Netherlands','precip'] - rain.precip) < 50 ]"
     ],
     "language": "python",
     "metadata": {},
     "outputs": [
      {
       "output_type": "stream",
       "stream": "stdout",
       "text": [
        "First five lines of rain dataset:\n",
        "                precip    area\n",
        "country                       \n",
        "Afghanistan        327   652.2\n",
        "Albania           1485    27.4\n",
        "Algeria             89  2381.7\n",
        "American Samoa     NaN     0.2\n",
        "Andorra            NaN     0.5\n",
        "\n",
        "Average annual rainfall in Panama is 2692.0 mm/year\n",
        "\n",
        "Land area of the Netherlands is 33.7 thousand km^2/year\n",
        "\n",
        "Countries where average rainfall is below 200 mm/year\n",
        "                      precip    area\n",
        "country                             \n",
        "Algeria                   89  2381.7\n",
        "Bahrain                   83     0.8\n",
        "Egypt, Arab Rep.          51   995.5\n",
        "Jordan                   111    88.8\n",
        "Kuwait                   121    17.8\n",
        "Libya                     56  1759.5\n",
        "Mauritania                92  1030.7\n",
        "Niger                    151  1266.7\n",
        "Oman                     125   309.5\n",
        "Qatar                     74    11.6\n",
        "Saudi Arabia              59  2149.7\n",
        "Turkmenistan             161   469.9\n",
        "United Arab Emirates      78    83.6\n",
        "Yemen, Rep.              167   528.0\n",
        "\n",
        "Countries where average rainfall is above 2500 mm/year\n",
        "                       precip    area\n",
        "country                              \n",
        "Bangladesh               2666   130.2\n",
        "Brunei Darussalam        2722     5.3\n",
        "Colombia                 2612  1109.5\n",
        "Costa Rica               2926    51.1\n",
        "Fiji                     2592    18.3\n",
        "Indonesia                2702  1811.6\n",
        "Malaysia                 2875   328.6\n",
        "Panama                   2692    74.3\n",
        "Papua New Guinea         3142   452.9\n",
        "Sao Tome and Principe    3200     1.0\n",
        "Sierra Leone             2526    71.6\n",
        "Solomon Islands          3028    28.0\n",
        "\n",
        "Countries with almost the same rainfall as the Netherlands\n",
        "                 precip    area\n",
        "country                        \n",
        "Burkina Faso        748   273.6\n",
        "Lesotho             788    30.4\n",
        "Mexico              752  1944.0\n",
        "Netherlands         778    33.7\n",
        "Slovak Republic     824    48.1\n",
        "Swaziland           788    17.2\n"
       ]
      }
     ],
     "prompt_number": 23
    },
    {
     "cell_type": "markdown",
     "metadata": {},
     "source": [
      "<a href=\"#back1\">Back to Exercise 1</a>\n",
      "\n",
      "<a name=\"ex2answer\">Answers to Exercise 2</a>"
     ]
    },
    {
     "cell_type": "code",
     "collapsed": false,
     "input": [
      "print 'Countries with almost the same rainfall as Netherlands'\n",
      "print rain[ abs(rain.loc['Netherlands','precip'] - rain.precip) < 50 ]\n",
      "#\n",
      "print\n",
      "rain['totalq'] = rain.precip * rain.area * 1e-3\n",
      "print 'Country with largest influx of rain'\n",
      "print rain.totalq.argmax(), rain.totalq.max(), 'km^3 per year'\n",
      "#\n",
      "print\n",
      "#rain = rain.dropna()  # Drop the NaN values\n",
      "rain.sort(columns='totalq',ascending=False,inplace=True)\n",
      "print rain[:5]\n",
      "#\n",
      "rain.totalq[:10].plot(kind='bar')"
     ],
     "language": "python",
     "metadata": {},
     "outputs": [
      {
       "output_type": "stream",
       "stream": "stdout",
       "text": [
        "Countries with almost the same rainfall as Netherlands\n",
        "                 precip    area\n",
        "country                        \n",
        "Burkina Faso        748   273.6\n",
        "Lesotho             788    30.4\n",
        "Mexico              752  1944.0\n",
        "Netherlands         778    33.7\n",
        "Slovak Republic     824    48.1\n",
        "Swaziland           788    17.2\n",
        "\n",
        "Country with largest influx of rain\n",
        "Brazil 15074.6508 km^3 per year\n",
        "\n",
        "                    precip     area      totalq\n",
        "country                                        \n",
        "Brazil                1782   8459.4  15074.6508\n",
        "Russian Federation     460  16376.9   7533.3740\n",
        "United States          715   9147.4   6540.3910\n",
        "China                  645   9327.5   6016.2375\n",
        "Indonesia             2702   1811.6   4894.9432\n"
       ]
      },
      {
       "metadata": {},
       "output_type": "pyout",
       "prompt_number": 24,
       "text": [
        "<matplotlib.axes.AxesSubplot at 0x1085defd0>"
       ]
      },
      {
       "metadata": {},
       "output_type": "display_data",
       "png": "[encoded data removed]",
       "text": [
        "<matplotlib.figure.Figure at 0x107e51690>"
       ]
      }
     ],
     "prompt_number": 24
    },
    {
     "cell_type": "markdown",
     "metadata": {},
     "source": [
      "<a href=\"#back2\">Back to Exercise 2</a>\n",
      "\n",
      "<a name=\"ex3answer\">Answers to Exercise 3</a>"
     ]
    },
    {
     "cell_type": "code",
     "collapsed": false,
     "input": [
      "import numpy as np\n",
      "import matplotlib.pyplot as plt\n",
      "%matplotlib inline\n",
      "from pandas import read_csv\n",
      "rain = read_csv('rainfall_delft_2012.dat',skiprows=23,parse_dates=['YYYYMMDD'])\n",
      "#\n",
      "monthlyrain = np.zeros(12)\n",
      "for i in range(len(rain)):\n",
      "    month = rain.iloc[i,1].month\n",
      "    monthlyrain[month-1] += rain.iloc[i,2]\n",
      "print monthlyrain\n",
      "#\n",
      "plt.bar(np.arange(12),monthlyrain/10,width=1)\n",
      "plt.xlim(0.5,12.5)\n",
      "plt.xlabel('month')\n",
      "plt.ylabel('monthly rainfall (mm/month)')\n",
      "#a=xticks(arange(12)+0.5,['J','F','M','A','M','J','J','A','S','O','N','D'])\n",
      "plt.xlim(0,12)"
     ],
     "language": "python",
     "metadata": {},
     "outputs": [
      {
       "output_type": "stream",
       "stream": "stdout",
       "text": [
        "[  949.   275.   288.   588.   590.  1132.  1389.  1026.   549.  1879.\n",
        "   673.  1546.]\n"
       ]
      },
      {
       "metadata": {},
       "output_type": "pyout",
       "prompt_number": 25,
       "text": [
        "(0, 12)"
       ]
      },
      {
       "metadata": {},
       "output_type": "display_data",
       "png": "[encoded data removed]",
       "text": [
        "<matplotlib.figure.Figure at 0x1078355d0>"
       ]
      }
     ],
     "prompt_number": 25
    },
    {
     "cell_type": "code",
     "collapsed": false,
     "input": [
      "from pandas import read_csv\n",
      "rain = read_csv('rainfall_delft_2012.dat',skiprows=23,skipinitialspace=True,parse_dates=['YYYYMMDD'], index_col=['YYYYMMDD'])\n",
      "s = rain.resample('M',how='mean',kind='period')\n",
      "print s.head()\n",
      "s.RD.plot()\n",
      "print s['2012-01']\n",
      "s.index\n",
      "#\n",
      "#d = rain.resample('M',how='sum')"
     ],
     "language": "python",
     "metadata": {},
     "outputs": [
      {
       "output_type": "stream",
       "stream": "stdout",
       "text": [
        "          STN         RD        SX  Unnamed: 4\n",
        "YYYYMMDD                                      \n",
        "2012-01   449  30.612903  0.000000         NaN\n",
        "2012-02   449   9.482759  0.793103         NaN\n",
        "2012-03   449   9.290323  0.000000         NaN\n",
        "2012-04   449  19.600000  0.000000         NaN\n",
        "2012-05   449  19.032258  0.000000         NaN\n",
        "          STN         RD  SX  Unnamed: 4\n",
        "YYYYMMDD                                \n",
        "2012-01   449  30.612903   0         NaN\n"
       ]
      },
      {
       "metadata": {},
       "output_type": "pyout",
       "prompt_number": 26,
       "text": [
        "<class 'pandas.tseries.period.PeriodIndex'>\n",
        "freq: M\n",
        "[2012-01, ..., 2012-12]\n",
        "length: 12"
       ]
      },
      {
       "metadata": {},
       "output_type": "display_data",
       "png": "[encoded data removed]",
       "text": [
        "<matplotlib.figure.Figure at 0x1086adb90>"
       ]
      }
     ],
     "prompt_number": 26
    },
    {
     "cell_type": "markdown",
     "metadata": {},
     "source": [
      "<a href=\"#back2\">Back to Exercise 2</a>\n",
      "\n",
      "<a name=\"ex3answer\">Answers to Exercise 3</a>"
     ]
    },
    {
     "cell_type": "code",
     "collapsed": false,
     "input": [],
     "language": "python",
     "metadata": {},
     "outputs": [],
     "prompt_number": 26
    },
    {
     "cell_type": "markdown",
     "metadata": {},
     "source": [
      "<a name=\"ex3answer\">Answers to Exercise 3</a>"
     ]
    },
    {
     "cell_type": "code",
     "collapsed": false,
     "input": [
      "from pandas import read_csv\n",
      "##rain = read_csv('rainfall_delft_all.dat',skiprows=23,skipinitialspace=True,parse_dates=['YYYYMMDD'],index_col='YYYYMMDD')\n",
      "rain = read_csv('rainfall_delft_all.dat',skiprows=23,skipinitialspace=True,parse_dates=['YYYYMMDD'])"
     ],
     "language": "python",
     "metadata": {},
     "outputs": [],
     "prompt_number": 27
    },
    {
     "cell_type": "code",
     "collapsed": false,
     "input": [
      "rain['month'] = [d.month for d in rain['YYYYMMDD']]\n",
      "marchrain = rain.RD[rain.month==3]\n",
      "marchrain = reshape(marchrain,(62,31))\n",
      "marchrain = sum(marchrain,1)\n",
      "marchrain = marchrain / 10.0 # To convert units to mm\n",
      "years = arange(1952,1952+len(marchrain))\n",
      "imax = argmax(marchrain)\n",
      "print 'Wetted March in dataset: ',years[imax],'with total rainfall: ',marchrain[imax],'mm'\n",
      "bar( years[ marchrain>100 ], marchrain[ marchrain>100 ], color='b')\n",
      "bar( years[ (marchrain<100) & (marchrain>50) ], marchrain[ (marchrain<100) & (marchrain>50) ], color='g')\n",
      "bar( years[ marchrain<50 ], marchrain[ marchrain<50 ], color='k')\n",
      "xlabel('year')\n",
      "ylabel('Total rainfall in March in mm')\n",
      "xt = xticks(rotation=40)"
     ],
     "language": "python",
     "metadata": {},
     "outputs": [
      {
       "ename": "NameError",
       "evalue": "name 'reshape' is not defined",
       "output_type": "pyerr",
       "traceback": [
        "\u001b[0;31m---------------------------------------------------------------------------\u001b[0m\n\u001b[0;31mNameError\u001b[0m                                 Traceback (most recent call last)",
        "\u001b[0;32m<ipython-input-28-289e17c2be3a>\u001b[0m in \u001b[0;36m<module>\u001b[0;34m()\u001b[0m\n\u001b[1;32m      1\u001b[0m \u001b[0mrain\u001b[0m\u001b[0;34m[\u001b[0m\u001b[0;34m'month'\u001b[0m\u001b[0;34m]\u001b[0m \u001b[0;34m=\u001b[0m \u001b[0;34m[\u001b[0m\u001b[0md\u001b[0m\u001b[0;34m.\u001b[0m\u001b[0mmonth\u001b[0m \u001b[0;32mfor\u001b[0m \u001b[0md\u001b[0m \u001b[0;32min\u001b[0m \u001b[0mrain\u001b[0m\u001b[0;34m[\u001b[0m\u001b[0;34m'YYYYMMDD'\u001b[0m\u001b[0;34m]\u001b[0m\u001b[0;34m]\u001b[0m\u001b[0;34m\u001b[0m\u001b[0m\n\u001b[1;32m      2\u001b[0m \u001b[0mmarchrain\u001b[0m \u001b[0;34m=\u001b[0m \u001b[0mrain\u001b[0m\u001b[0;34m.\u001b[0m\u001b[0mRD\u001b[0m\u001b[0;34m[\u001b[0m\u001b[0mrain\u001b[0m\u001b[0;34m.\u001b[0m\u001b[0mmonth\u001b[0m\u001b[0;34m==\u001b[0m\u001b[0;36m3\u001b[0m\u001b[0;34m]\u001b[0m\u001b[0;34m\u001b[0m\u001b[0m\n\u001b[0;32m----> 3\u001b[0;31m \u001b[0mmarchrain\u001b[0m \u001b[0;34m=\u001b[0m \u001b[0mreshape\u001b[0m\u001b[0;34m(\u001b[0m\u001b[0mmarchrain\u001b[0m\u001b[0;34m,\u001b[0m\u001b[0;34m(\u001b[0m\u001b[0;36m62\u001b[0m\u001b[0;34m,\u001b[0m\u001b[0;36m31\u001b[0m\u001b[0;34m)\u001b[0m\u001b[0;34m)\u001b[0m\u001b[0;34m\u001b[0m\u001b[0m\n\u001b[0m\u001b[1;32m      4\u001b[0m \u001b[0mmarchrain\u001b[0m \u001b[0;34m=\u001b[0m \u001b[0msum\u001b[0m\u001b[0;34m(\u001b[0m\u001b[0mmarchrain\u001b[0m\u001b[0;34m,\u001b[0m\u001b[0;36m1\u001b[0m\u001b[0;34m)\u001b[0m\u001b[0;34m\u001b[0m\u001b[0m\n\u001b[1;32m      5\u001b[0m \u001b[0mmarchrain\u001b[0m \u001b[0;34m=\u001b[0m \u001b[0mmarchrain\u001b[0m \u001b[0;34m/\u001b[0m \u001b[0;36m10.0\u001b[0m \u001b[0;31m# To convert units to mm\u001b[0m\u001b[0;34m\u001b[0m\u001b[0m\n",
        "\u001b[0;31mNameError\u001b[0m: name 'reshape' is not defined"
       ]
      }
     ],
     "prompt_number": 28
    },
    {
     "cell_type": "code",
     "collapsed": false,
     "input": [
      "#s = rain.groupby([rain.index.year,rain.index.month]).sum()"
     ],
     "language": "python",
     "metadata": {},
     "outputs": []
    },
    {
     "cell_type": "code",
     "collapsed": false,
     "input": [
      "rain.loc['Russian Federation']"
     ],
     "language": "python",
     "metadata": {},
     "outputs": []
    },
    {
     "cell_type": "code",
     "collapsed": false,
     "input": [],
     "language": "python",
     "metadata": {},
     "outputs": []
    }
   ],
   "metadata": {}
  }
 ]
}