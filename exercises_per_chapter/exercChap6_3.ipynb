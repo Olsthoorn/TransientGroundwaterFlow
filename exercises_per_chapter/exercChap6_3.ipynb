{
 "cells": [
  {
   "cell_type": "markdown",
   "metadata": {},
   "source": [
    "## Exercises chapter 6.3 (Theis)"
   ]
  },
  {
   "cell_type": "code",
   "execution_count": 1,
   "metadata": {
    "collapsed": true
   },
   "outputs": [],
   "source": [
    "import numpy as np\n",
    "import matplotlib.pyplot as plt\n",
    "from scipy.special import expi\n",
    "def W(u): return -expi(-u) # Theis well function"
   ]
  },
  {
   "cell_type": "markdown",
   "metadata": {},
   "source": [
    "### Theis type curve\n",
    "\n",
    "There are four ways to implement the Theis well function $W(u)$\n",
    "\n",
    "1. Using scipy.special.expi()\n",
    "1. Integrating the integral form of the Theis solution\n",
    "1. Implementing the power series form of the Theis solution.\n",
    "1. Approximate the well function by its logarithmic form.\n",
    "\n",
    "Implement all four ways and show them in the same graph as type curves\n",
    "1. On double log scale versus 1/u\n",
    "1. On semi log scale versus 1/u"
   ]
  },
  {
   "cell_type": "code",
   "execution_count": null,
   "metadata": {
    "collapsed": true
   },
   "outputs": [],
   "source": []
  },
  {
   "cell_type": "markdown",
   "metadata": {},
   "source": [
    "### Theis drawdown and radius of influence\n",
    "\n",
    "Compute the Theis drawdown\n",
    "\n",
    "+ $Q = 1200$ m3/d\n",
    "+ $kD = 900$ m2/d\n",
    "+ $S_y = 0.2$ \n",
    "+ $t =$ np.logspace(-3, 2, 51)\n",
    "\n",
    "and show it as a function of r on semi-log scale\n",
    "\n",
    "1. Using one of the exact implementations\n",
    "2. Using the approximate expression.\n",
    "3. Plot in this figure the radius of influence. That is plot for all times a marker on coordinate $(r, z=0)$"
   ]
  },
  {
   "cell_type": "code",
   "execution_count": null,
   "metadata": {
    "collapsed": true
   },
   "outputs": [],
   "source": []
  },
  {
   "cell_type": "markdown",
   "metadata": {},
   "source": [
    "### Bouwput (superposition in space)\n",
    "\n",
    "A square building excavation of 50 x 50 m has to be pumped dry to be able to work in it. For this, the level of the water table aquifer has to be lowered by 4 m. The plan is to use four well at the corners of the pit. the pit has to remain dry for 6 months. The aquifer has a transmissivity of $kD = 600$ m2/d and a specific yield of $S_y = 0.2$.\n",
    "\n",
    "The plan is to use wells with a capacity of Q = 1200 m3/d.\n",
    "\n",
    "As a criterion for reaching the required drawdown, use the drawdown at the center of the building pit.\n",
    "\n",
    "1. How long before the pit has to be dry must the pumping start?\n",
    "2. After the desired drawdown has been reached, the pump capacity may be reduced.\n",
    "    Assume that the pumps run as computed for 1 week more than the initial pumping period.\n",
    "    Assume that the pumps will be run at a fixed lower flow thereafter.\n",
    "    What has to be the pump capacity for the remaining period, such that the desired drawdown is maintained till the end of the construction period?\n",
    "    \n"
   ]
  },
  {
   "cell_type": "markdown",
   "metadata": {},
   "source": [
    "### Well along river, discharge from river\n",
    "\n",
    "A well is installed at some distance from a straight river. Position the y-axis along the river and the x-axis perpendicular to it. Assume the contact between the water table aquifer and the river is direct.\n",
    "\n",
    "Use the following data\n",
    "\n",
    "+ $kD = 900$ m2/d\n",
    "+ $S_y = 0.23$\n",
    "+ $x_w = 500$ m, the x-coordinate of the well, $y_w=0$\n",
    "\n",
    "\n",
    "1. Derive the specific discharge $q$ [L2/d] in the aquifer at distance $r$ from the well pumping at a flow $Q_0$ since $t=0$ from a water-table aquifer.\n",
    "2. Compute the specific discharge from or into the aquifer at the river (groundwater-river exchange).\n",
    "3. Compute this specic discharge at a large number of points along the river.\n",
    "4. Compute the total exchange between groundwater and the river caused by this well."
   ]
  },
  {
   "cell_type": "code",
   "execution_count": null,
   "metadata": {
    "collapsed": true
   },
   "outputs": [],
   "source": []
  },
  {
   "cell_type": "markdown",
   "metadata": {},
   "source": [
    "### Pumping test\n",
    "\n",
    "Below are the data obtained for 3 piezometers during a pumping test in a confined aquifer. The discharge is Q = 720 m2/d. The piezometers are at 25, 75 and 150 m from the well. kD = 900 m2/d and Sy = 0.22\n",
    "\n",
    "The data for this pumping test are given below, measurement times $t_{min}$ in minutes and the drawdown $dd$ as a python dictionary with as keys the distance for the piezometers.\n"
   ]
  },
  {
   "cell_type": "code",
   "execution_count": 2,
   "metadata": {
    "collapsed": false
   },
   "outputs": [],
   "source": [
    "# sampling times in minutes\n",
    "t_min = np.array([1, 2, 3, 5, 7, 10, 15, 30, 45, 60, 120, 180, 240, 300, 360,\n",
    "                  420, 480, 540, 600, 1440, 1680, 1800, 1920])\n",
    "\n",
    "# drawdown at sampling times for the three piezometers\n",
    "dd = {} # initialize epty dictionary\n",
    "dd['25'] = np.array([0.044, 0.121, 0.172, 0.280, 0.319, 0.407, 0.502, 0.622, 0.731, 0.820,\n",
    "           0.968, 1.064, 1.101, 1.131, 1.189, 1.271, 1.270, 1.225, 1.289, 1.459, 1.598, 1.621, 1.590])\n",
    "\n",
    "\n",
    "dd['75'] = np.array([0.000, 0.000, 0.002, 0.012, 0.027, 0.051, 0.097, 0.188, 0.265, 0.327, 0.492,\n",
    "           0.549, 0.625, 0.689, 0.708, 0.717, 0.761, 0.819, 0.808, 1.020, 1.006, 1.072, 1.111])\n",
    "\n",
    "dd['150'] = np.array([0.000, 0.000, 0.000, 0.000, 0.000, 0.001, 0.005, 0.032, 0.062, 0.099, 0.196,\n",
    "            0.273, 0.329, 0.369, 0.408, 0.443, 0.469, 0.477, 0.506, 0.727, 0.726, 0.759, 0.784])\n"
   ]
  },
  {
   "cell_type": "markdown",
   "metadata": {},
   "source": [
    "#### double log\n",
    "\n",
    "1. Show the drawdown in a double log plot as a function of time t\n",
    "1. Show the drawdown in a double log plot as a funtion of $t/r^2$\n",
    "1. Show the drawdown in a semi-log plot as a function of $t$\n",
    "1. Show the drawdown in a semi-log plot as a function of $t/r^2$\n",
    "\n",
    "Hint you can plot all four plots on the same figure by using"
   ]
  },
  {
   "cell_type": "markdown",
   "metadata": {},
   "source": [
    "I defined a function preparePlots to generate a figure with for subplots in an array [2x2] with the proper\n",
    "axis properties, labels and titles and, especially fontsizes such that they do not overlap.\n",
    "\n",
    "I was quite some work to figure out how to do that in matplotlib."
   ]
  },
  {
   "cell_type": "code",
   "execution_count": 3,
   "metadata": {
    "collapsed": false
   },
   "outputs": [],
   "source": [
    "def preparePlots():\n",
    "    \"\"\"Prepares and returns 4 axes and a figure and plots them (but not yet show them)\"\"\"\n",
    "    \n",
    "    # default axes properties, specify as dictionaries\n",
    "    defaults = [{}, {}, {}, {}]\n",
    "    defaults[0] = {'xlabel':'time [t]', 'ylabel':'dd [m]', 'xscale':'log', 'yscale':'log','title':'drawdown vs time'}\n",
    "    defaults[1] = {'xlabel':'time [t]', 'ylabel':'dd [m]', 'xscale':'log', 'yscale':'log', 'title':'drawdown vs t/r^2'}\n",
    "    defaults[2] = {'xlabel':'time [t]', 'ylabel':'dd [m]', 'xscale':'log', 'yscale':'linear', 'title':'drawdown vs time'}\n",
    "    defaults[3] = {'xlabel':'time [t]', 'ylabel':'dd [m]', 'xscale':'log', 'yscale':'linear', 'title':'drawdown vs t/r^2'}\n",
    "\n",
    "    # xlabel, ylabel accept fontdict to set properties\n",
    "    fontdict = {'fontsize':8}\n",
    "\n",
    "    fig= plt.figure()\n",
    "    ax = []\n",
    "    for i in range(4): # geneate four axes on the same figure\n",
    "        axes = fig.add_subplot(2,2,i+1)  # 4 axes in an array [2x2]\n",
    "        axes.set(**defaults[i]) # use defaults specified above (** means \"unpack dictionary)\n",
    "        #axes.set_title(defaults[i]['title'], fontdict=fontdict) # alternative way to set title with fontsize\n",
    "        axes.title.set_fontsize(8) # most clean way to set title fontsize\n",
    "        axes.set_xlabel(axes.get_xlabel(), fontdict=fontdict) # set fontsize by means of fontdict\n",
    "        axes.set_ylabel(axes.get_ylabel(), fontdict=fontdict) # same\n",
    "        axes.tick_params(axis='both', which='major', labelsize=6) # set fontsize of ticks\n",
    "        ax.append(axes)\n",
    "    return ax"
   ]
  },
  {
   "cell_type": "markdown",
   "metadata": {},
   "source": [
    "The next step is to plot the data and the figure and show them with plt.show()\n",
    "\n",
    "First define a function to compute the drawdown"
   ]
  },
  {
   "cell_type": "code",
   "execution_count": 4,
   "metadata": {
    "collapsed": false
   },
   "outputs": [
    {
     "data": {
      "image/png": "[encoded data removed]",
      "text/plain": [
       "<matplotlib.figure.Figure at 0x106d00320>"
      ]
     },
     "metadata": {},
     "output_type": "display_data"
    }
   ],
   "source": [
    "t = t_min/24./60. # [d], sampling times\n",
    "\n",
    "ax = preparePlots()\n",
    "\n",
    "# plot the piezometers\n",
    "for r in [25, 75, 150]:\n",
    "    ax[0].plot(t, dd[str(r)])\n",
    "    #ax[1].plt(....)  # adapt to make the plot of t/r**2 vs dd\n",
    "    ax[2].plot(t, dd[str(r)])\n",
    "    #ax[3].plt(....)\n",
    "\n",
    "plt.show()            "
   ]
  },
  {
   "cell_type": "markdown",
   "metadata": {},
   "source": [
    "Interpret the test on double log scale\n",
    "\n",
    "+ prepare a double log axes (with labels, title etc\n",
    "+ plot the data $t/r^2$ vs $dd$\n",
    "+ use the well fucntion as\n",
    "+ $ s = A\\, W(B \\,\\frac t {r^2}) $\n",
    "+ Adapt A and B by trial and error until the data matches the previous expression as well as possible.\n",
    "+ From the obtained values of A and B determine the $kD$ and the $S_y$\n",
    "\n"
   ]
  },
  {
   "cell_type": "code",
   "execution_count": null,
   "metadata": {
    "collapsed": true
   },
   "outputs": [],
   "source": []
  },
  {
   "cell_type": "markdown",
   "metadata": {},
   "source": [
    "Interpret the test on semi-log scale\n",
    "\n",
    "+ prepare a semilog axes (with labbles, titles etc)\n",
    "+ plot the data $t/r^2$ versus $dd$\n",
    "+ use the simplified (logarithmic) well function\n",
    "+ determine the $kD$ and $S$ from the change of the $dd$ per log cycle and the intercept of the $dd$ with $dd=0$"
   ]
  },
  {
   "cell_type": "markdown",
   "metadata": {},
   "source": [
    "### Superposition in time\n",
    "\n",
    "In Egypt, in the Western Sahara along the desert road from Cairo to Alexandria there are various fruit producing enterprises that pump groundwater for irrigation. One of them is 500 ha, which need 2.0 m irrigation water per year. The southern neighbour, 8 km away cultivates 200 ha, also completely on groundwater, requiring 1.8 m/y. The northern neighbor at 10 m distance cultivates 300 ha, requiring 2.2 m/y. The middle one started cultvation 20 years ago, its southern neighbor, 15 years and its northern neighbor 12 years. The extraction is from the nubian sandstone aquifer, that has a transmissivity of kD=600 m2/d and a storage coefficient S = 0.001. The initial groundwater level was 40 m below ground surface. And the maximum depth of the water table that is still economically viable is 200 m below ground surface.\n",
    "\n",
    "Compute the drawdowns, assuming the transmissivity and storage coefficients are constant and conclude if and if so when the wells hit the economic lowest water level of 100 m below ground surface. Place the wells near the road and measure the drawdown at 250 m from the well as a representative location for the entire cultivated area.\n",
    "\n",
    "In an area there are four wells that were constructed one year after the other\n"
   ]
  },
  {
   "cell_type": "code",
   "execution_count": 15,
   "metadata": {
    "collapsed": false
   },
   "outputs": [
    {
     "data": {
      "image/png": "[encoded data removed]",
      "text/plain": [
       "<matplotlib.figure.Figure at 0x1118c39b0>"
      ]
     },
     "metadata": {},
     "output_type": "display_data"
    }
   ],
   "source": [
    "import pdb\n",
    "aYear = 365.\n",
    "kD = 600 * aYear # m3/y\n",
    "S = 0.001\n",
    "name = ['South', 'Center', 'North']\n",
    "hirr = np.array([1.8, 2.0, 2.2])  # irrgation layer per year\n",
    "area = np.array([2.e6, 5.e6, 3.e6]) # cultivated area\n",
    "xw = np.array([-8000.,  0., 10000.]) # well coordinate\n",
    "yw = np.array([    0.,  0.,     0.]) # well coordinate\n",
    "x0 = np.array([-8000.,  0., 10000.]) # observation point\n",
    "y0 = np.array([ 250., 250.,   250.])  # observation point\n",
    "tSt= np.array([ -15., -20.,  -12.])  # start times relative to present in years\n",
    "\n",
    "t   = np.linspace(-20., 50., 71)  # 70 years of simulation time\n",
    "Q   = area * hirr # m3/year\n",
    "r = np.sqrt((xw- x0[1])**2 + (yw - y0[1])**2 ) # distance central cultivated area\n",
    "\n",
    "hInit = -40. # initial water level\n",
    "\n",
    "s = np.zeros(t.shape) - hInit\n",
    "for i in range(3):\n",
    "    time = t- tSt[i]\n",
    "    U = r[i]**2 * S /(4 * kD * time[time>0])\n",
    "    s[time>0] += Q[i] / (4 * np.pi * kD) * W(U)\n",
    "    \n",
    "ax = plt.figure().add_subplot(111)\n",
    "ax.set(xlabel='t [y]', ylabel='elevation [m]',\n",
    "       title='Head below ground surface over time in field {}'.format(name[i]))\n",
    "ax.grid(True)\n",
    "ax.invert_yaxis()\n",
    "ax.plot(t, s)\n",
    "plt.show()\n",
    "\n",
    "\n"
   ]
  },
  {
   "cell_type": "code",
   "execution_count": null,
   "metadata": {
    "collapsed": true
   },
   "outputs": [],
   "source": []
  }
 ],
 "metadata": {
  "anaconda-cloud": {},
  "kernelspec": {
   "display_name": "Python [default]",
   "language": "python",
   "name": "python3"
  },
  "language_info": {
   "codemirror_mode": {
    "name": "ipython",
    "version": 3
   },
   "file_extension": ".py",
   "mimetype": "text/x-python",
   "name": "python",
   "nbconvert_exporter": "python",
   "pygments_lexer": "ipython3",
   "version": "3.5.2"
  }
 },
 "nbformat": 4,
 "nbformat_minor": 1
}
