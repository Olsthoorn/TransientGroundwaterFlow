{
 "cells": [
  {
   "cell_type": "markdown",
   "metadata": {},
   "source": [
    "## Exercises chapter 5.3\n",
    "\n",
    "### Exercise p51-1\n",
    "\n",
    "1. All drawdown due to a sudden change of river state are expressedin a simple erfc-function. Can you express the argument u using a ratio of the distance $x$ from teh river and some characteristic distance $X$ that is valid for a fixed time?\n",
    "\n",
    "    $$ s(x,t) = s_0 \\, erfc(u), \\,\\,\\,\\,\\,u = \\sqrt {\\frac {x^2 S} {4 kD t}} $$\n",
    "\n",
    "    just write  $u = \\frac x X$, so that $X= \\sqrt {\\frac {4 kD t} S} = \\sigma \\sqrt 2$\n",
    "\n",
    "1. What is the ratio of $\\frac x X$ for $s(x,t)= 0.5 s_0$ ?\n",
    "\n",
    "    So try values for x/X to find the value for which erfc(x/X) = 0.5.\n",
    "\n",
    "1. How could you express the drawdown as a ration between time and a characteristic time $T$ for a fixed distance $x$?\n",
    "\n",
    "    $$ u = \\sqrt{\\frac {x^2 S} {4 kD t}} = \\sqrt {\\frac T t} $$\n",
    "\n",
    "    with \n",
    "\n",
    "    $$ T = \\frac {x^2 S} {4 kD} $$ \n",
    "\n",
    "1. What is the ratio of $\\frac t T$ for $s(x,t) = 0.5s_0$ ?\n",
    "\n",
    "1. At what time, expressed in terms of t/T would you expect the head to change at a given distance, x=??\n",
    "\n",
    "1. Given the mathematical expression for the drawdown, derive yourself the expression for the discharge $Q(c, t)$\n",
    "\n",
    "1. Assume that:\n",
    "    + $kD = 400$ m2/d\n",
    "    + $S = 0.1$\n",
    "    + $A = 2.0$ m \n",
    "    \n",
    "    Show the effect of this change at x = 10, 100 and 1000 m.\n"
   ]
  },
  {
   "cell_type": "markdown",
   "metadata": {},
   "source": []
  },
  {
   "cell_type": "markdown",
   "metadata": {},
   "source": [
    "### Excercise p53-12\n",
    "\n",
    "How long will it take until the head in the center of a 10 m thick aquitard with resistance  $c=5000$ d has reached half the head change suddenly applied at both its top and its bottom?"
   ]
  },
  {
   "cell_type": "code",
   "execution_count": null,
   "metadata": {
    "collapsed": true
   },
   "outputs": [],
   "source": []
  },
  {
   "cell_type": "markdown",
   "metadata": {},
   "source": [
    "### Exercise p56\n",
    "\n",
    "Consider a situation with $kD= 400$ m2/d and $S_y=0.1$. The watr level A = [1.0, -0.5, +0.5, -0.25] at t=[0.5, 0.8,1.0, 2.0] d.\n",
    "1. Show the groundwater level as a function of time for $x=50$ m for $0\\le t \\le 5$ d. \n"
   ]
  },
  {
   "cell_type": "code",
   "execution_count": null,
   "metadata": {
    "collapsed": true
   },
   "outputs": [],
   "source": []
  },
  {
   "cell_type": "markdown",
   "metadata": {},
   "source": [
    "### Exercise p62_1\n",
    "\n",
    "Set up a mirror scheme for the case of a strip of land bounded by straight surface water on either side, where the surface water stage (level) of the right-hand side canal suddenly changes by a fixed value.\n",
    "+ $L = 500$ m\n",
    "+ $kD = 600$ m2/d\n",
    "+ $S_y = 0.2$\n",
    "+ $A = 1.0$ m\n",
    "\n",
    "\n",
    "1. Show the head change for a number of times.\n",
    "1. Show on the hand of the obtained mirror scheme that the result is correct, i.e. that the result with all its mirror strips matches the boundary conditions exactly."
   ]
  },
  {
   "cell_type": "code",
   "execution_count": null,
   "metadata": {
    "collapsed": true
   },
   "outputs": [],
   "source": []
  },
  {
   "cell_type": "markdown",
   "metadata": {},
   "source": [
    "### Exercise concerning section 5.6\n",
    "\n",
    "1. Set up a mirror scheme for the case of a strip of land bounded by straight surface water on either side, where the surface water stage on both sides is suddenly lowered by A m\n",
    "1. Compute the same situation with the equation at the bottom of page63.\n",
    "1. Show that both yield exactly the same numerical results.\n"
   ]
  },
  {
   "cell_type": "code",
   "execution_count": null,
   "metadata": {
    "collapsed": true
   },
   "outputs": [],
   "source": []
  },
  {
   "cell_type": "markdown",
   "metadata": {},
   "source": [
    "### Exercise, section 5.6.2\n",
    "\n",
    "Derive the characteristic time and half time for the groundwater basin yourself."
   ]
  },
  {
   "cell_type": "code",
   "execution_count": null,
   "metadata": {
    "collapsed": true
   },
   "outputs": [],
   "source": []
  },
  {
   "cell_type": "markdown",
   "metadata": {},
   "source": [
    "### Exercise, equation 5.15\n",
    "\n",
    "Show a few of the terms of equation 5.15"
   ]
  },
  {
   "cell_type": "code",
   "execution_count": null,
   "metadata": {
    "collapsed": true
   },
   "outputs": [],
   "source": []
  }
 ],
 "metadata": {
  "anaconda-cloud": {},
  "kernelspec": {
   "display_name": "Python [default]",
   "language": "python",
   "name": "python3"
  },
  "language_info": {
   "codemirror_mode": {
    "name": "ipython",
    "version": 3
   },
   "file_extension": ".py",
   "mimetype": "text/x-python",
   "name": "python",
   "nbconvert_exporter": "python",
   "pygments_lexer": "ipython3",
   "version": "3.5.2"
  }
 },
 "nbformat": 4,
 "nbformat_minor": 1
}
