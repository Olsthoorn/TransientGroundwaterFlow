{
 "cells": [
  {
   "cell_type": "markdown",
   "id": "fifty-terrain",
   "metadata": {},
   "source": [
    "# Assignment Transient Groundwater course 2020-2021\n",
    "\n",
    "@ prof. dr.ir. T.N. Olsthoorn Jan 20, 2021"
   ]
  },
  {
   "cell_type": "markdown",
   "id": "proved-study",
   "metadata": {},
   "source": [
    "A groundwater extraction station with three wells is to be realized in a very long, 5 km wide, almost straight valley. The valley is bounded by bedrock while the sediments below the water table can be considered a 40 m thick, layer of sand on top of pratically impervious material. A river, that may be considered fully penetrating and in direct contact with the aquifer, flows along one of the valley walls. The water table is 5 m below ground surface at the center line of the valley, where the wells are to be installed. The three wells will be placed 500 m apart along the center line of the valley and they will pump 2400 m3/d each.\n",
    "\n",
    "One pumping well and three observation wells were installed first, and a pumping test was done on it to determine the aquifer properties, i.e. its transmissivity `kD` and its storage coefficient `Sy`. The pumping lasted for 1 montsh (30 days) at a rate of 600 m3/d. During this time, the heads in the well and in the piezometers were monitored from which the drawdown relative to the initial situation was determined. These darwdowns are  provided.\n",
    "\n",
    "_**Assignment questions:**_\n",
    "\n",
    "    1) With the drawdown data given, ata determine the aquifer properties `kD` and `S`.\n",
    "    \n",
    "    2) What will be the development of the drawdown in the wells assuming they are fully penetrating and are not clogged?\n",
    "    \n",
    "    3) Show this development along a line perpendicular to the valley axis and along the line through the three wells and parallel to the valley axis.\n",
    "    \n",
    "    4) Show the drawdown after it has become steady srate.\n",
    "    \n",
    "    5) What is the required depth of the pumps, given that the wells have an extra drawdown due to partial penetration and clogging which doubles the drawdown relative to the case of unclogged fully penetrating well and given that the top of the pump has te be at least 1.5 m below the water table in the well."
   ]
  },
  {
   "cell_type": "markdown",
   "id": "dietary-packaging",
   "metadata": {},
   "source": [
    "For myself:\n",
    "\n",
    "To set up the assigment\n",
    "\n",
    "Specify the properties and implement the pumping test and the pumping staton"
   ]
  },
  {
   "cell_type": "code",
   "execution_count": 3,
   "id": "binding-persian",
   "metadata": {},
   "outputs": [],
   "source": [
    "import numpy as np\n",
    "import matplotlib.pyplot as plt\n",
    "from scipy.signal import lfilter\n",
    "from scipy.special import exp1 as W # Theis well function\n",
    "import pandas as pd\n",
    "import os\n",
    "import pdb\n",
    "\n",
    "def newfig(title='title', xlabel='xlabel', ylabel='ylabel', xlim=None, ylim=None, \n",
    "           xscale=None, yscale=None, fontsize=15, size_inches=(10, 8)):\n",
    "    fig, ax = plt.subplots()\n",
    "    fig.set_size_inches(size_inches)\n",
    "    ax.set_title(title,   fontsize=fontsize)\n",
    "    ax.set_xlabel(xlabel, fontsize=fontsize)\n",
    "    ax.set_ylabel(ylabel, fontsize=fontsize)\n",
    "    if xscale: ax.set_xscale(xscale)\n",
    "    if yscale: ax.set_ysvale(yscale)\n",
    "    if xlim: ax.set_xlim(xlim)\n",
    "    if ylim: ax.set_ylim(ylim)\n",
    "    ax.grid()\n",
    "    return ax\n",
    "\n",
    "def noise(time=None, dt=0.01, sigma=0.002, T=3):\n",
    "    n = int(time[-1] / dt + 1)\n",
    "    t = dt * np.arange(n)\n",
    "    r = sigma * (np.random.rand(n) - 0.5)\n",
    "    b = np.exp(- time / T)\n",
    "    ruis = lfilter(b, 1, r) \n",
    "    return np.interp(time, t, ruis)"
   ]
  },
  {
   "cell_type": "code",
   "execution_count": 4,
   "id": "desperate-oasis",
   "metadata": {},
   "outputs": [],
   "source": [
    "participants = os.path.abspath('../../../2021/Participants_HWR_2020-2022_2020-12-08.xlsx')"
   ]
  },
  {
   "cell_type": "code",
   "execution_count": 5,
   "id": "focused-pennsylvania",
   "metadata": {},
   "outputs": [
    {
     "ename": "NameError",
     "evalue": "name 'student_data' is not defined",
     "output_type": "error",
     "traceback": [
      "\u001b[0;31m---------------------------------------------------------------------------\u001b[0m",
      "\u001b[0;31mNameError\u001b[0m                                 Traceback (most recent call last)",
      "\u001b[0;32m<ipython-input-5-8402f36c11b2>\u001b[0m in \u001b[0;36m<module>\u001b[0;34m\u001b[0m\n\u001b[0;32m----> 1\u001b[0;31m \u001b[0mstudent_data\u001b[0m\u001b[0;34m\u001b[0m\u001b[0;34m\u001b[0m\u001b[0m\n\u001b[0m",
      "\u001b[0;31mNameError\u001b[0m: name 'student_data' is not defined"
     ]
    }
   ],
   "source": [
    "student_data"
   ]
  },
  {
   "cell_type": "code",
   "execution_count": 31,
   "id": "immediate-hayes",
   "metadata": {},
   "outputs": [
    {
     "data": {
      "text/plain": [
       "['1079102',\n",
       " '1081168',\n",
       " '1077398',\n",
       " '1082043',\n",
       " '1080655',\n",
       " '1050865',\n",
       " '1068711',\n",
       " '1080513',\n",
       " '1079554',\n",
       " '1077716',\n",
       " '1074591',\n",
       " '1060427',\n",
       " '1051337',\n",
       " '1082894']"
      ]
     },
     "execution_count": 31,
     "metadata": {},
     "output_type": "execute_result"
    }
   ],
   "source": [
    "list(students['Person no.'].values)"
   ]
  },
  {
   "cell_type": "code",
   "execution_count": 6,
   "id": "graphic-detroit",
   "metadata": {},
   "outputs": [
    {
     "data": {
      "text/plain": [
       "['Jagne_Sainabou_1079102',\n",
       " 'Mohammed_Gutoof Osman Ali_1081168',\n",
       " 'Bakare_Kamaldeen Teniola_1077398',\n",
       " 'Frem_Michel_1082043',\n",
       " 'Ali_Ahmed Hassan Aboalbasher_1080655',\n",
       " 'Vincent_Kevin_1050865',\n",
       " 'Mwende_Bob Sammy Munyoki_1068711',\n",
       " 'Monir_Jamilurahman_1080513',\n",
       " 'Turay_Ibrahim_1079554',\n",
       " 'Eiman_Fatima_1077716',\n",
       " 'Das_Sourav Kumar_1074591',\n",
       " 'Dukuray_Mohamed Abdulai_1060427',\n",
       " 'Mahmoud_Hesham Hussien Elsayed_1051337',\n",
       " 'Alqrinawi_Fuad Younis Mahmoud_1082894']"
      ]
     },
     "execution_count": 6,
     "metadata": {},
     "output_type": "execute_result"
    }
   ],
   "source": [
    "students_data = pd.read_excel(participants, index_col='No.', dtype=str)\n",
    "students_data.index = [int(p) for p in students_data.index]\n",
    "students = ['_'.join(list(students_data.loc[i, [\"Last name\", \"First name\", \"Person no.\"]])) for i in students_data.index]\n",
    "students"
   ]
  },
  {
   "cell_type": "markdown",
   "id": "legal-harvest",
   "metadata": {},
   "source": [
    "## Pumping test\n",
    "\n",
    "## Generate data with noise for each student"
   ]
  },
  {
   "cell_type": "code",
   "execution_count": 1,
   "id": "weekly-bloom",
   "metadata": {},
   "outputs": [
    {
     "ename": "NameError",
     "evalue": "name 'students' is not defined",
     "output_type": "error",
     "traceback": [
      "\u001b[0;31m---------------------------------------------------------------------------\u001b[0m",
      "\u001b[0;31mNameError\u001b[0m                                 Traceback (most recent call last)",
      "\u001b[0;32m<ipython-input-1-8e09eeafca06>\u001b[0m in \u001b[0;36m<module>\u001b[0;34m\u001b[0m\n\u001b[0;32m----> 1\u001b[0;31m \u001b[0;32mfor\u001b[0m \u001b[0mstudent\u001b[0m \u001b[0;32min\u001b[0m \u001b[0mstudents\u001b[0m\u001b[0;34m:\u001b[0m\u001b[0;34m\u001b[0m\u001b[0;34m\u001b[0m\u001b[0m\n\u001b[0m\u001b[1;32m      2\u001b[0m     \u001b[0mS\u001b[0m \u001b[0;34m=\u001b[0m \u001b[0mnp\u001b[0m\u001b[0;34m.\u001b[0m\u001b[0mrandom\u001b[0m\u001b[0;34m.\u001b[0m\u001b[0mchoice\u001b[0m\u001b[0;34m(\u001b[0m\u001b[0;34m[\u001b[0m\u001b[0;36m0.16\u001b[0m\u001b[0;34m,\u001b[0m \u001b[0;36m0.18\u001b[0m\u001b[0;34m,\u001b[0m \u001b[0;36m0.20\u001b[0m\u001b[0;34m,\u001b[0m \u001b[0;36m0.22\u001b[0m\u001b[0;34m,\u001b[0m \u001b[0;36m0.24\u001b[0m\u001b[0;34m]\u001b[0m\u001b[0;34m)\u001b[0m\u001b[0;34m\u001b[0m\u001b[0;34m\u001b[0m\u001b[0m\n\u001b[1;32m      3\u001b[0m     \u001b[0mk\u001b[0m \u001b[0;34m=\u001b[0m \u001b[0mnp\u001b[0m\u001b[0;34m.\u001b[0m\u001b[0mrandom\u001b[0m\u001b[0;34m.\u001b[0m\u001b[0mchoice\u001b[0m\u001b[0;34m(\u001b[0m\u001b[0;34m[\u001b[0m\u001b[0;36m25\u001b[0m\u001b[0;34m,\u001b[0m \u001b[0;36m27\u001b[0m\u001b[0;34m,\u001b[0m \u001b[0;36m30\u001b[0m\u001b[0;34m,\u001b[0m \u001b[0;36m31\u001b[0m\u001b[0;34m,\u001b[0m \u001b[0;36m33\u001b[0m\u001b[0;34m,\u001b[0m \u001b[0;36m35\u001b[0m\u001b[0;34m]\u001b[0m\u001b[0;34m)\u001b[0m\u001b[0;34m\u001b[0m\u001b[0;34m\u001b[0m\u001b[0m\n\u001b[1;32m      4\u001b[0m     \u001b[0mD\u001b[0m \u001b[0;34m=\u001b[0m \u001b[0;36m50\u001b[0m\u001b[0;34m\u001b[0m\u001b[0;34m\u001b[0m\u001b[0m\n\u001b[1;32m      5\u001b[0m \u001b[0;34m\u001b[0m\u001b[0m\n",
      "\u001b[0;31mNameError\u001b[0m: name 'students' is not defined"
     ]
    }
   ],
   "source": [
    "for student in students:\n",
    "    S = np.random.choice([0.16, 0.18, 0.20, 0.22, 0.24])\n",
    "    k = np.random.choice([25, 27, 30, 31, 33, 35])\n",
    "    D = 50\n",
    "\n",
    "    r_pz = [0.25, np.random.choice([8, 10, 11, 13]),\n",
    "                  np.random.choice([16, 18, 19, 20, 22, 25, 27]),\n",
    "                  np.random.choice([35, 38, 40, 43, 45, 48])]\n",
    "    \n",
    "\n",
    "    Q = np.random.choice([500, 600, 650, 700]) # m3/d\n",
    "    time = np.logspace(np.log10(0.001), np.log10(30), 100)\n",
    "\n",
    "    # For exam\n",
    "    exam = True\n",
    "    if exam:\n",
    "        S = [0.15]\n",
    "        k = [30.]\n",
    "        r_pz = [50]\n",
    "        Q = [650]\n",
    "    \n",
    "    \n",
    "    ppdd = np.zeros((len(time), len(r_pz)))\n",
    "    for ir, r in enumerate(r_pz):\n",
    "        u = r **2 * S / (4 * k * D * time)\n",
    "        ppdd[:, ir] = Q / (4 * np.pi * k * D) * W(u) + noise(time=time)\n",
    "\n",
    "    columns = ['r={:.0f} m'.format(r) for r in r_pz]\n",
    "    data = pd.DataFrame(ppdd, columns=columns, index=time)\n",
    "    data.index.name='days'\n",
    "    \"Save the data to excel under the name of the student.\"\n",
    "    data.to_excel(student + '.xlsx')\n",
    "\n",
    "data"
   ]
  },
  {
   "cell_type": "markdown",
   "id": "forbidden-defensive",
   "metadata": {},
   "source": [
    "# For exam\n",
    "\n"
   ]
  },
  {
   "cell_type": "code",
   "execution_count": 14,
   "id": "gorgeous-mechanism",
   "metadata": {},
   "outputs": [
    {
     "data": {
      "text/html": [
       "<div>\n",
       "<style scoped>\n",
       "    .dataframe tbody tr th:only-of-type {\n",
       "        vertical-align: middle;\n",
       "    }\n",
       "\n",
       "    .dataframe tbody tr th {\n",
       "        vertical-align: top;\n",
       "    }\n",
       "\n",
       "    .dataframe thead th {\n",
       "        text-align: right;\n",
       "    }\n",
       "</style>\n",
       "<table border=\"1\" class=\"dataframe\">\n",
       "  <thead>\n",
       "    <tr style=\"text-align: right;\">\n",
       "      <th></th>\n",
       "      <th>r=50 m</th>\n",
       "    </tr>\n",
       "    <tr>\n",
       "      <th>days</th>\n",
       "      <th></th>\n",
       "    </tr>\n",
       "  </thead>\n",
       "  <tbody>\n",
       "    <tr>\n",
       "      <th>0.001000</th>\n",
       "      <td>-0.000032</td>\n",
       "    </tr>\n",
       "    <tr>\n",
       "      <th>0.001110</th>\n",
       "      <td>-0.000043</td>\n",
       "    </tr>\n",
       "    <tr>\n",
       "      <th>0.001232</th>\n",
       "      <td>-0.000054</td>\n",
       "    </tr>\n",
       "    <tr>\n",
       "      <th>0.001367</th>\n",
       "      <td>-0.000067</td>\n",
       "    </tr>\n",
       "    <tr>\n",
       "      <th>0.001517</th>\n",
       "      <td>-0.000082</td>\n",
       "    </tr>\n",
       "    <tr>\n",
       "      <th>...</th>\n",
       "      <td>...</td>\n",
       "    </tr>\n",
       "    <tr>\n",
       "      <th>19.780054</th>\n",
       "      <td>0.185337</td>\n",
       "    </tr>\n",
       "    <tr>\n",
       "      <th>21.950828</th>\n",
       "      <td>0.184263</td>\n",
       "    </tr>\n",
       "    <tr>\n",
       "      <th>24.359836</th>\n",
       "      <td>0.184033</td>\n",
       "    </tr>\n",
       "    <tr>\n",
       "      <th>27.033222</th>\n",
       "      <td>0.195608</td>\n",
       "    </tr>\n",
       "    <tr>\n",
       "      <th>30.000000</th>\n",
       "      <td>0.201103</td>\n",
       "    </tr>\n",
       "  </tbody>\n",
       "</table>\n",
       "<p>100 rows × 1 columns</p>\n",
       "</div>"
      ],
      "text/plain": [
       "             r=50 m\n",
       "days               \n",
       "0.001000  -0.000032\n",
       "0.001110  -0.000043\n",
       "0.001232  -0.000054\n",
       "0.001367  -0.000067\n",
       "0.001517  -0.000082\n",
       "...             ...\n",
       "19.780054  0.185337\n",
       "21.950828  0.184263\n",
       "24.359836  0.184033\n",
       "27.033222  0.195608\n",
       "30.000000  0.201103\n",
       "\n",
       "[100 rows x 1 columns]"
      ]
     },
     "execution_count": 14,
     "metadata": {},
     "output_type": "execute_result"
    }
   ],
   "source": [
    "for student in [\"exam_2021_02_23\"]:\n",
    "    S = np.random.choice([0.16, 0.18, 0.20, 0.22, 0.24])\n",
    "    k = np.random.choice([25, 27, 30, 31, 33, 35])\n",
    "    D = 50\n",
    "\n",
    "    r_pz = [0.25, np.random.choice([8, 10, 11, 13]),\n",
    "                  np.random.choice([16, 18, 19, 20, 22, 25, 27]),\n",
    "                  np.random.choice([35, 38, 40, 43, 45, 48])]\n",
    "    \n",
    "\n",
    "    Q = np.random.choice([500, 600, 650, 700]) # m3/d\n",
    "    time = np.logspace(np.log10(0.001), np.log10(30), 100)\n",
    "\n",
    "    exam = True\n",
    "    if exam:\n",
    "        S = 0.15\n",
    "        k = 30.\n",
    "        r_pz = [50]\n",
    "        Q = 650\n",
    "    \n",
    "    \n",
    "    ppdd = np.zeros((len(time), len(r_pz)))\n",
    "    for ir, r in enumerate(r_pz):\n",
    "        u = r **2 * S / (4 * k * D * time)\n",
    "        ppdd[:, ir] = Q / (4 * np.pi * k * D) * W(u) + noise(time=time)\n",
    "\n",
    "    columns = ['r={:.0f} m'.format(r) for r in r_pz]\n",
    "    data = pd.DataFrame(ppdd, columns=columns, index=time)\n",
    "    data.index.name='days'\n",
    "    \"Save the data to excel under the name of the student.\"\n",
    "    data.to_excel(student + '.xlsx')\n",
    "\n",
    "data"
   ]
  },
  {
   "cell_type": "code",
   "execution_count": 16,
   "id": "opening-princess",
   "metadata": {},
   "outputs": [
    {
     "data": {
      "text/plain": [
       "<matplotlib.legend.Legend at 0x7f9f4fbecf50>"
      ]
     },
     "execution_count": 16,
     "metadata": {},
     "output_type": "execute_result"
    },
    {
     "data": {
      "image/png": "[encoded data removed]",
      "text/plain": [
       "<Figure size 720x576 with 1 Axes>"
      ]
     },
     "metadata": {
      "needs_background": "light"
     },
     "output_type": "display_data"
    },
    {
     "data": {
      "image/png": "[encoded data removed]",
      "text/plain": [
       "<Figure size 720x576 with 1 Axes>"
      ]
     },
     "metadata": {
      "needs_background": "light"
     },
     "output_type": "display_data"
    }
   ],
   "source": [
    "\n",
    "ylim = (0.2, -0.02)\n",
    "ax = newfig(\"Drawdown during pumping test kD={:.1f}, S={:.2f}\".format(k * D, S),\n",
    "            \"time [d]\", \"drawdown\", ylim=ylim)\n",
    "for ir, r in enumerate(r_pz):\n",
    "    ax.plot(time, ppdd[:, ir], '.-', label='piezom r={:5.2f} m'.format(r))\n",
    "ax.legend()\n",
    "           \n",
    "ax = newfig(\"Drawdown during pumping test\", \"time [d]\", \"drawdown\", xscale='log', ylim=ylim)\n",
    "for ir, r in enumerate(r_pz):\n",
    "    ax.plot(time, ppdd[:, ir], '.-', label='piezom r={:5.2f} m'.format(r))\n",
    "ax.legend()\n",
    "        \n",
    "def pplog(y0=None, a=None, time=time):\n",
    "    \"\"\"Return a linear line on half-log scale.\"\"\"\n",
    "    print(\"dd per log cycle = {:.3g}\".format(a))\n",
    "    print(\"Intersection time with zero drawdown = {:.3g} d\".format(10 **(-y0/a)))\n",
    "    return y0 + a * np.log10(time)\n",
    "\n",
    "y0, a= 0.165, 0.074\n",
    "t0 = 10 ** (-y0 / a)\n",
    "\n",
    "#ax.plot(time, pplog(y0=y0, a=a), '--', color='orange', label='linear approximation')\n",
    "ax.legend()"
   ]
  },
  {
   "cell_type": "code",
   "execution_count": 162,
   "id": "durable-shade",
   "metadata": {},
   "outputs": [
    {
     "data": {
      "text/plain": [
       "'/Users/Theo/Instituten-Groepen-Overleggen/IHE/git/TransientGroundwaterFlow/excercises_notebooks'"
      ]
     },
     "execution_count": 162,
     "metadata": {},
     "output_type": "execute_result"
    }
   ],
   "source": [
    "pwd"
   ]
  },
  {
   "cell_type": "code",
   "execution_count": 161,
   "id": "controlled-spanking",
   "metadata": {},
   "outputs": [],
   "source": [
    "data.to_excel(\"test_data.xlsx\")"
   ]
  },
  {
   "cell_type": "code",
   "execution_count": 44,
   "id": "interracial-crystal",
   "metadata": {},
   "outputs": [
    {
     "name": "stdout",
     "output_type": "stream",
     "text": [
      "kD = 1.49e+03 m2/d, S = 0.197, r_inf(t=30.0) = 713.6 m\n"
     ]
    }
   ],
   "source": [
    "kD_ = Q / (4 * np.pi * a) * np.log(10)\n",
    "S_ =  2.25 * kD_ * t0 / r_pz[1] ** 2\n",
    "r_inf = np.sqrt(2.25 * kD_ / S_ * time[-1])\n",
    "print(\"kD = {:.3g} m2/d, S = {:.3g}, r_inf(t={:.1f}) = {:.1f} m\".format(kD_, S_, time[-1], r_inf))"
   ]
  },
  {
   "cell_type": "code",
   "execution_count": null,
   "id": "verified-currency",
   "metadata": {},
   "outputs": [],
   "source": [
    "stot = np.zeros((len(times), len(y), len(x)))\n",
    "\n",
    "for it, t in enumerate(times):\n",
    "    for y in [-500, 0, 500]:\n",
    "        for n in range(10):\n",
    "            sign = (-1) ** n\n",
    "            r1 = np.sqrt((sign * (2 * (n - 0) * L + x)) **2 + y ** 2)\n",
    "            r2 = np.sqrt((sign * (2 * (n - 1) * L + x)) **2 + y ** 2)\n",
    "            r3 = np.sqrt((sign * (2 * (n - 0) * L - x)) **2 + y ** 2)\n",
    "            r4 = np.sqrt((sign * (2 * (n - 1) * L - x)) **2 + y ** 2)\n",
    "            u = \n",
    "            s = Q / (4 * np.pi * kD) * (W(u()) + W(u) + W(u) + W(u)\n",
    "        stot[it] += s\n",
    "\n"
   ]
  }
 ],
 "metadata": {
  "kernelspec": {
   "display_name": "Python 3",
   "language": "python",
   "name": "python3"
  },
  "language_info": {
   "codemirror_mode": {
    "name": "ipython",
    "version": 3
   },
   "file_extension": ".py",
   "mimetype": "text/x-python",
   "name": "python",
   "nbconvert_exporter": "python",
   "pygments_lexer": "ipython3",
   "version": "3.7.7"
  }
 },
 "nbformat": 4,
 "nbformat_minor": 5
}
