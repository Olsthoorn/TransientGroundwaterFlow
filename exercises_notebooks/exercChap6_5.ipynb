{
 "cells": [
  {
   "cell_type": "markdown",
   "metadata": {},
   "source": [
    "# Excercises Chapter 6.5  Hantush, a well in a semi-confined aquifer\n",
    "\n"
   ]
  },
  {
   "cell_type": "markdown",
   "metadata": {},
   "source": [
    "### Hantush type curves\n",
    "\n",
    "1. Implement the Hantush well function\n",
    "\n",
    "    $$ s(r,t) = \\intop_u^\\infty \\frac {e^{-y- \\frac { \\left( \\frac r {2 \\lambda} \\right)^2} y}} y dy, \\,\\,\\,\\,\\,u = \\frac {r^2 S} {4 kD t} $$\n",
    "    \n",
    "2. Plot the Hantush type curves for different values of r/L\n",
    "3. add the Theis type curve\n",
    "    \n",
    "    $$W(u) = -expi(-u),\\,\\,\\,\\,\\,\\, \\# \\,\\,expi\\,\\, comes\\,\\, from\\,\\, scipy.special$$   "
   ]
  },
  {
   "cell_type": "code",
   "execution_count": 4,
   "metadata": {
    "collapsed": false
   },
   "outputs": [
    {
     "ename": "IndentationError",
     "evalue": "expected an indented block (<ipython-input-4-c7623d4da08a>, line 15)",
     "output_type": "error",
     "traceback": [
      "\u001b[0;36m  File \u001b[0;32m\"<ipython-input-4-c7623d4da08a>\"\u001b[0;36m, line \u001b[0;32m15\u001b[0m\n\u001b[0;31m    return w\u001b[0m\n\u001b[0m         ^\u001b[0m\n\u001b[0;31mIndentationError\u001b[0m\u001b[0;31m:\u001b[0m expected an indented block\n"
     ]
    }
   ],
   "source": [
    "import numpy as np\n",
    "from scipy.special import expi\n",
    "import matplotlib.pyplot as plt\n",
    "\n",
    "def W(u): return -expi(-u)  # Theis\n",
    "def Wh(U, rho):\n",
    "    \"\"\"Hantush's well function\"\"\"\n",
    "    w = np.zeros(len(U))\n",
    "    for i, u in enumerate(U):\n",
    "        # Code comes here\n",
    "        #\n",
    "        #\n",
    "        #\n",
    "        #\n",
    "    return w"
   ]
  },
  {
   "cell_type": "code",
   "execution_count": 5,
   "metadata": {
    "collapsed": false
   },
   "outputs": [
    {
     "ename": "NameError",
     "evalue": "name 'plt' is not defined",
     "output_type": "error",
     "traceback": [
      "\u001b[0;31m---------------------------------------------------------------------------\u001b[0m",
      "\u001b[0;31mNameError\u001b[0m                                 Traceback (most recent call last)",
      "\u001b[0;32m<ipython-input-5-a14b5e938d13>\u001b[0m in \u001b[0;36m<module>\u001b[0;34m()\u001b[0m\n\u001b[0;32m----> 1\u001b[0;31m \u001b[0max\u001b[0m \u001b[0;34m=\u001b[0m \u001b[0mplt\u001b[0m\u001b[0;34m.\u001b[0m\u001b[0mfigure\u001b[0m\u001b[0;34m(\u001b[0m\u001b[0;34m)\u001b[0m\u001b[0;34m.\u001b[0m\u001b[0madd_subplot\u001b[0m\u001b[0;34m(\u001b[0m\u001b[0;36m111\u001b[0m\u001b[0;34m)\u001b[0m\u001b[0;34m\u001b[0m\u001b[0m\n\u001b[0m\u001b[1;32m      2\u001b[0m ax.set(xlabel='1/u', ylabel='W(u), W(U,r/L)',  title='Theis and Hantush type curves',\n\u001b[1;32m      3\u001b[0m       xscale='log', yscale='log')\n\u001b[1;32m      4\u001b[0m \u001b[0max\u001b[0m\u001b[0;34m.\u001b[0m\u001b[0mgrid\u001b[0m\u001b[0;34m(\u001b[0m\u001b[0;32mTrue\u001b[0m\u001b[0;34m)\u001b[0m\u001b[0;34m\u001b[0m\u001b[0m\n\u001b[1;32m      5\u001b[0m \u001b[0;34m\u001b[0m\u001b[0m\n",
      "\u001b[0;31mNameError\u001b[0m: name 'plt' is not defined"
     ]
    }
   ],
   "source": [
    "ax = plt.figure().add_subplot(111)\n",
    "ax.set(xlabel='1/u', ylabel='W(u), W(U,r/L)',  title='Theis and Hantush type curves',\n",
    "      xscale='log', yscale='log')\n",
    "ax.grid(True)\n",
    "\n",
    "rho = np.array([3, 2, 1, 0.5, 0.3, 0.2, 0.1, 0.05, 0.03, 0.02, 0.01])\n",
    "\n",
    "u = np.logspace(-6, 1, 601)\n",
    "ax.plot(1/u, W(u), label='Theis')\n",
    "\n",
    "for rh in rho:\n",
    "    # plot the Hantush type curves\n",
    "    #\n",
    "    ax.legend(loc='best', fontsize='x-small')\n",
    "plt.show()"
   ]
  },
  {
   "cell_type": "code",
   "execution_count": 3,
   "metadata": {
    "collapsed": false
   },
   "outputs": [
    {
     "ename": "NameError",
     "evalue": "name 'plt' is not defined",
     "output_type": "error",
     "traceback": [
      "\u001b[0;31m---------------------------------------------------------------------------\u001b[0m",
      "\u001b[0;31mNameError\u001b[0m                                 Traceback (most recent call last)",
      "\u001b[0;32m<ipython-input-3-e5a253226d42>\u001b[0m in \u001b[0;36m<module>\u001b[0;34m()\u001b[0m\n\u001b[1;32m      1\u001b[0m \u001b[0;32mfrom\u001b[0m \u001b[0mscipy\u001b[0m\u001b[0;34m.\u001b[0m\u001b[0mspecial\u001b[0m \u001b[0;32mimport\u001b[0m \u001b[0mk0\u001b[0m\u001b[0;34m\u001b[0m\u001b[0m\n\u001b[0;32m----> 2\u001b[0;31m \u001b[0max\u001b[0m \u001b[0;34m=\u001b[0m \u001b[0mplt\u001b[0m\u001b[0;34m.\u001b[0m\u001b[0mfigure\u001b[0m\u001b[0;34m(\u001b[0m\u001b[0;34m)\u001b[0m\u001b[0;34m.\u001b[0m\u001b[0madd_subplot\u001b[0m\u001b[0;34m(\u001b[0m\u001b[0;36m111\u001b[0m\u001b[0;34m)\u001b[0m\u001b[0;34m\u001b[0m\u001b[0m\n\u001b[0m\u001b[1;32m      3\u001b[0m ax.set(xlabel='1/u', ylabel='W(u), W(U,r/L)',  title='Theis and Hantush type curves',\n\u001b[1;32m      4\u001b[0m       xscale='log', yscale='linear')\n\u001b[1;32m      5\u001b[0m \u001b[0max\u001b[0m\u001b[0;34m.\u001b[0m\u001b[0mgrid\u001b[0m\u001b[0;34m(\u001b[0m\u001b[0;32mTrue\u001b[0m\u001b[0;34m)\u001b[0m\u001b[0;34m\u001b[0m\u001b[0m\n",
      "\u001b[0;31mNameError\u001b[0m: name 'plt' is not defined"
     ]
    }
   ],
   "source": [
    "from scipy.special import k0\n",
    "ax = plt.figure().add_subplot(111)\n",
    "ax.set(xlabel='1/u', ylabel='W(u), W(U,r/L)',  title='Theis and Hantush type curves',\n",
    "      xscale='log', yscale='linear')\n",
    "ax.grid(True)\n",
    "ax.invert_yaxis()\n",
    "\n",
    "rho = np.array([3, 2, 1, 0.5, 0.3, 0.2, 0.1, 0.05, 0.03, 0.02, 0.01])\n",
    "\n",
    "# Plot the same cures on semi-log x scale\n",
    "\n",
    "plt.show()"
   ]
  },
  {
   "cell_type": "markdown",
   "metadata": {},
   "source": [
    "1. Consider an aquifer with constant transmissivity, $kD=900$ m2/d an $S=0.001$ with $c=400$ d. For a observation point at r=600 m, determinewhen the drawdonw has becomesteady state (to at least 95%). Use the Hantush type cuves to determine your answer."
   ]
  },
  {
   "cell_type": "markdown",
   "metadata": {},
   "source": [
    "#### Exercise p110.14\n",
    "\n",
    "The head below a building pit of 50 x 50 m in a semi-confined aquifer with kD=1000 m2/d, c=360 d and S=0.002, has to be lowered by 3.5 m. The wells are placed at the corners of the building pit. How long one needs to pump to reach steady state drawdown and what is the final drawdown in the center of the building pit. Show both the transient drawdown and the steady state drawdown."
   ]
  },
  {
   "cell_type": "markdown",
   "metadata": {},
   "source": [
    "### Pumping test in a semi-confined aquifer"
   ]
  },
  {
   "cell_type": "markdown",
   "metadata": {},
   "source": [
    "Q = 760 # m3/d, pump extraction"
   ]
  },
  {
   "cell_type": "code",
   "execution_count": 55,
   "metadata": {
    "collapsed": false
   },
   "outputs": [],
   "source": [
    "#              r [m]            t[d]             dd[m]\n",
    "data = np.array(\n",
    "      [[  3.00000000e+01,   1.53000000e-02,   1.38000000e-01],\n",
    "       [  3.00000000e+01,   1.81000000e-02,   1.41000000e-01],\n",
    "       [  3.00000000e+01,   2.29000000e-02,   1.50000000e-01],\n",
    "       [  3.00000000e+01,   2.92000000e-02,   1.56000000e-01],\n",
    "       [  3.00000000e+01,   3.61000000e-02,   1.63000000e-01],\n",
    "       [  3.00000000e+01,   4.58000000e-02,   1.71000000e-01],\n",
    "       [  3.00000000e+01,   6.60000000e-02,   1.80000000e-01],\n",
    "       [  3.00000000e+01,   8.68000000e-02,   1.90000000e-01],\n",
    "       [  3.00000000e+01,   1.25000000e-01,   2.01000000e-01],\n",
    "       [  3.00000000e+01,   1.67000000e-01,   2.10000000e-01],\n",
    "       [  3.00000000e+01,   2.08000000e-01,   2.17000000e-01],\n",
    "       [  3.00000000e+01,   2.50000000e-01,   2.20000000e-01],\n",
    "       [  3.00000000e+01,   2.92000000e-01,   2.24000000e-01],\n",
    "       [  3.00000000e+01,   3.33000000e-01,   2.28000000e-01],\n",
    "       [  6.00000000e+01,   1.88000000e-02,   8.10000000e-02],\n",
    "       [  6.00000000e+01,   2.36000000e-02,   8.90000000e-02],\n",
    "       [  6.00000000e+01,   2.99000000e-02,   9.40000000e-02],\n",
    "       [  6.00000000e+01,   3.68000000e-02,   1.01000000e-01],\n",
    "       [  6.00000000e+01,   4.72000000e-02,   1.09000000e-01],\n",
    "       [  6.00000000e+01,   6.67000000e-02,   1.20000000e-01],\n",
    "       [  6.00000000e+01,   8.82000000e-02,   1.27000000e-01],\n",
    "       [  6.00000000e+01,   1.25000000e-01,   1.37000000e-01],\n",
    "       [  6.00000000e+01,   1.67000000e-01,   1.48000000e-01],\n",
    "       [  6.00000000e+01,   2.08000000e-01,   1.55000000e-01],\n",
    "       [  6.00000000e+01,   2.50000000e-01,   1.58000000e-01],\n",
    "       [  6.00000000e+01,   2.92000000e-01,   1.60000000e-01],\n",
    "       [  6.00000000e+01,   3.33000000e-01,   1.64000000e-01],\n",
    "       [  9.00000000e+01,   2.43000000e-02,   6.90000000e-02],\n",
    "       [  9.00000000e+01,   3.06000000e-02,   7.70000000e-02],\n",
    "       [  9.00000000e+01,   3.75000000e-02,   8.30000000e-02],\n",
    "       [  9.00000000e+01,   4.68000000e-02,   9.10000000e-02],\n",
    "       [  9.00000000e+01,   6.74000000e-02,   1.00000000e-01],\n",
    "       [  9.00000000e+01,   8.96000000e-02,   1.09000000e-01],\n",
    "       [  9.00000000e+01,   1.25000000e-01,   1.20000000e-01],\n",
    "       [  9.00000000e+01,   1.67000000e-01,   1.29000000e-01],\n",
    "       [  9.00000000e+01,   2.08000000e-01,   1.36000000e-01],\n",
    "       [  9.00000000e+01,   2.50000000e-01,   1.41000000e-01],\n",
    "       [  9.00000000e+01,   2.92000000e-01,   1.42000000e-01],\n",
    "       [  9.00000000e+01,   3.33000000e-01,   1.43000000e-01],\n",
    "       [  1.20000000e+02,   2.50000000e-02,   5.70000000e-02],\n",
    "       [  1.20000000e+02,   3.13000000e-02,   6.30000000e-02],\n",
    "       [  1.20000000e+02,   3.82000000e-02,   6.80000000e-02],\n",
    "       [  1.20000000e+02,   5.00000000e-02,   7.50000000e-02],\n",
    "       [  1.20000000e+02,   6.81000000e-02,   8.60000000e-02],\n",
    "       [  1.20000000e+02,   9.03000000e-02,   9.20000000e-02],\n",
    "       [  1.20000000e+02,   1.25000000e-01,   1.05000000e-01],\n",
    "       [  1.20000000e+02,   1.67000000e-01,   1.13000000e-01],\n",
    "       [  1.20000000e+02,   2.08000000e-01,   1.22000000e-01],\n",
    "       [  1.20000000e+02,   2.50000000e-01,   1.25000000e-01],\n",
    "       [  1.20000000e+02,   2.92000000e-01,   1.27000000e-01],\n",
    "       [  1.20000000e+02,   3.33000000e-01,   1.29000000e-01]])"
   ]
  },
  {
   "cell_type": "code",
   "execution_count": 67,
   "metadata": {
    "collapsed": false
   },
   "outputs": [
    {
     "data": {
      "image/png": "[encoded data removed]",
      "text/plain": [
       "<matplotlib.figure.Figure at 0x111c8e898>"
      ]
     },
     "metadata": {},
     "output_type": "display_data"
    }
   ],
   "source": [
    "ax= plt.figure().add_subplot(111)\n",
    "ax.set(xlabel='t [d]', ylabel='dd [m]', title='Pumping test Dalem K&dR (1994)')\n",
    "ax.grid(True)\n",
    "for r in [30, 60, 90, 120]:\n",
    "    plt.plot( data[data[:,0]==r,1], data[data[:,0]==r, 2], label='r='+str(r)+'m')\n",
    "plt.show()"
   ]
  },
  {
   "cell_type": "markdown",
   "metadata": {},
   "source": [
    "Work out this pumping test in double-log graphic\n",
    "\n",
    "+ plot the Hantush-Theis type curves like before.\n",
    "+ Add the plot of the dawdown vs $t/r^2$\n",
    "+ Write the drawdown data a as $s = A\\, W_h(B \\, t/r^2)$\n",
    "    that is: muliply the dd by $A$ and $t/r^2$ by $B$\n",
    "+ experiment with $A$ and $B$ until the best possible fit between the data and the type curves is obtained.\n",
    "+ when done determine $kD$ and $S$ from $A$ and $B$\n",
    "+ determine L from the r/L of the best matching curve for each piezometer"
   ]
  },
  {
   "cell_type": "markdown",
   "metadata": {},
   "source": [
    "Work out this pumping test in semi-log graphic\n",
    "\n",
    "+ Plot the drawdown on semi-log scale versus $t/r^2$\n",
    "+ From the straight portion of the drawdown curve determine kD\n",
    "+ From the intercept of the straight line with 0 determine S\n",
    "+ From the final steady-state drawdown determine r/L\n",
    "+ Compare the results with those obtained from the double log analysis"
   ]
  },
  {
   "cell_type": "markdown",
   "metadata": {},
   "source": []
  },
  {
   "cell_type": "markdown",
   "metadata": {},
   "source": [
    "In the digital syllabus is an example of a pumping test analysis with delayed yield. See if you understand the approach by which it was analyzed."
   ]
  },
  {
   "cell_type": "code",
   "execution_count": null,
   "metadata": {
    "collapsed": true
   },
   "outputs": [],
   "source": []
  }
 ],
 "metadata": {
  "kernelspec": {
   "display_name": "Python [default]",
   "language": "python",
   "name": "python3"
  },
  "language_info": {
   "codemirror_mode": {
    "name": "ipython",
    "version": 3
   },
   "file_extension": ".py",
   "mimetype": "text/x-python",
   "name": "python",
   "nbconvert_exporter": "python",
   "pygments_lexer": "ipython3",
   "version": "3.5.2"
  }
 },
 "nbformat": 4,
 "nbformat_minor": 1
}
