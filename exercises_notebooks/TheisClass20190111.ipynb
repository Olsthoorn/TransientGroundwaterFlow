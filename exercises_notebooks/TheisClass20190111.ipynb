{
 "cells": [
  {
   "cell_type": "markdown",
   "metadata": {},
   "source": [
    "<figure>\n",
    "  <IMG SRC=\"../logo/logo.png\" WIDTH=250 ALIGN=\"right\">\n",
    "</figure>\n",
    "\n",
    "\n",
    "# Exercise with Theis wells\n",
    "\n",
    "## Interpreting pumping tests\n",
    "\n",
    "### Partially worked out in class on  2019-01-11"
   ]
  },
  {
   "cell_type": "markdown",
   "metadata": {},
   "source": [
    "In this notebook we do the following:\n",
    "\n",
    "1. Show how a drawdown is computed for a transient well in a uniform aquifer (Theis)\n",
    "2. Show how the Theis and Hantush well functions can be implemented by direct integration as expressed in their mathematical representations.\n",
    "3. Compare them with the exponential integral `exp1(..)` in module `scipy.signal`.\n",
    "4. Interpret a pumping test, using the horizontal and vertical shift of the Theis type cure such that it matches the data (both on double logarthmic graphs.\n",
    "5. Interpret the same test using drawdown per log-cycle and the intersection of the simple logartihmic approximation of the Theis curve with zero drawdown on a graph with linear drawdown axis and logarithmide $t/r^2$ axis."
   ]
  },
  {
   "cell_type": "markdown",
   "metadata": {},
   "source": [
    "## Computing a well drawdown with the Theis formula"
   ]
  },
  {
   "cell_type": "markdown",
   "metadata": {},
   "source": [
    "The Theis well function is, in fact, the exponential intergral that lives in `scipy.special` as `exp1`."
   ]
  },
  {
   "cell_type": "markdown",
   "metadata": {},
   "source": [
    "#### Import modules that we will need"
   ]
  },
  {
   "cell_type": "code",
   "execution_count": 1,
   "metadata": {},
   "outputs": [],
   "source": [
    "import numpy as np\n",
    "from scipy.special import exp1 # this is Theis's well function (exponential integral)\n",
    "import matplotlib.pyplot as plt"
   ]
  },
  {
   "cell_type": "markdown",
   "metadata": {},
   "source": [
    "#### Simple example, just compute the drawdown given $kD$, $S$, $r$ and $t$ using `exp1(..)`"
   ]
  },
  {
   "cell_type": "code",
   "execution_count": 2,
   "metadata": {},
   "outputs": [],
   "source": [
    "# Aquifer properties\n",
    "kD = 900 # m2/d\n",
    "S = 0.25 # [-]\n",
    "\n",
    "# Only for semi-confined (Hantush) flow we need the resistance of the overlying layer\n",
    "c  = 300 # d\n",
    "lamb = np.sqrt(kD * c) # characteristic length of semi-confined system."
   ]
  },
  {
   "cell_type": "code",
   "execution_count": 3,
   "metadata": {},
   "outputs": [
    {
     "name": "stdout",
     "output_type": "stream",
     "text": [
      "Drawdown s = 1.108e-05 m\n"
     ]
    }
   ],
   "source": [
    "# Parameters specifying the case\n",
    "Q = 1200 # m3/d\n",
    "r = 350 # m\n",
    "t = 1.2 # d\n",
    "\n",
    "# compute u from the ordinary parameters\n",
    "u = r**2 * S / (4 * kD * t)\n",
    "\n",
    "# compute the drawdown using function exp1 (=exponential integral)\n",
    "s = Q/(4 * np.pi * kD) * exp1(u)\n",
    "\n",
    "print('Drawdown s = {:.4g} m'.format(s))"
   ]
  },
  {
   "cell_type": "markdown",
   "metadata": {},
   "source": [
    "By superposition you may know compute the combined drawdown due to an arbitrary number of wells at arbitraty position and arbitrary times."
   ]
  },
  {
   "cell_type": "markdown",
   "metadata": {},
   "source": [
    "## Theis type curve"
   ]
  },
  {
   "cell_type": "markdown",
   "metadata": {},
   "source": [
    "The Theis type curve is the Theis well function. It's the exponential integral\n",
    "$$ exp1 = \\intop _u ^\\infty \\frac {e^{-y}) y dy $$\n",
    "and lives in the module `scipy.special`. It was already imported above.\n",
    "\n",
    "To show the type curve, we may just plot it."
   ]
  },
  {
   "cell_type": "code",
   "execution_count": 4,
   "metadata": {},
   "outputs": [
    {
     "data": {
      "image/png": "[encoded data removed]",
      "text/plain": [
       "<Figure size 432x288 with 1 Axes>"
      ]
     },
     "metadata": {
      "needs_background": "light"
     },
     "output_type": "display_data"
    }
   ],
   "source": [
    "# get u values to use on the x-axis\n",
    "u = np.logspace(-5, 1, 61)\n",
    "\n",
    "# set up the figure\n",
    "plt.title('Theis type curve')\n",
    "plt.xlabel('1/u')\n",
    "plt.ylabel('W(u)')\n",
    "plt.xscale('log')\n",
    "plt.yscale('log')\n",
    "plt.grid()\n",
    "\n",
    "plt.plot(1/u, exp1(u)) # plot well function versus 1/u\n",
    "\n",
    "plt.show()"
   ]
  },
  {
   "cell_type": "markdown",
   "metadata": {},
   "source": [
    "## Compute Theis' and Hantush' well function by integration"
   ]
  },
  {
   "cell_type": "markdown",
   "metadata": {},
   "source": [
    "### Theis and Hantush"
   ]
  },
  {
   "cell_type": "markdown",
   "metadata": {},
   "source": [
    "Theis (1935) well function:\n",
    "$$ W(u) = exp1(u) = \\intop_u ^\\infty \\frac {e^{-y}} {y} dy $$\n",
    "\n",
    "Hantush (1956) well function\n",
    "$$ W_h(u) = \\intop_u ^\\infty \\frac {e^{-y - \\frac {\\left( \\frac {\\rho} 2 \\right)^2} y}} y dy $$"
   ]
  },
  {
   "cell_type": "markdown",
   "metadata": {},
   "source": [
    "Hantush' well function is not available in the scipy-special module. Therefore, we have to implement it ourselves. This may be done in a very basis way, by numerically evaluating the integra. Below we'll do that for both the Theis and Hantush functions and compare them with the `exp1` from the `scipy.special` module to check."
   ]
  },
  {
   "cell_type": "code",
   "execution_count": 7,
   "metadata": {},
   "outputs": [
    {
     "name": "stdout",
     "output_type": "stream",
     "text": [
      "exp1(u)    = 1.8229239584193906 , From sicpy.special\n",
      "W(u))      = 1.8229742553684722 , Evaluated Theis integral\n",
      "Wh(u, rho) = 0.24998993620609194 , Evaluated Hantush integral. Note: rho = r/lambda\n"
     ]
    }
   ],
   "source": [
    "def W(u):\n",
    "    '''Return Theis well function value by integration'''\n",
    "    y = np.logspace(np.log10(u), 20, num=5000)\n",
    "    arg = np.exp(-y) / y\n",
    "    dy = np.diff(y)\n",
    "    return np.sum(0.5 * (arg[:-1] + arg[1:]) * dy)\n",
    "\n",
    "def Wh(u, rho):\n",
    "    '''Return Hantush well function value, by intergration'''\n",
    "    y = np.logspace(np.log10(u), 20, 5000)\n",
    "    arg = np.exp(-y - (rho/2)**2 / y) / y\n",
    "    dy = np.diff(y)\n",
    "    return np.sum(0.5 * (arg[:-1] + arg[1:]) * dy)\n",
    "\n",
    "# verify\n",
    "\n",
    "u = 0.1  # choose any u\n",
    "r = 1000 # choose some distance\n",
    "\n",
    "print('exp1(u)    =',exp1(u),', From sicpy.special')\n",
    "print('W(u))      =',W(u),', Evaluated Theis integral')\n",
    "print('Wh(u, rho) =',Wh(u, r/lamb),', Evaluated Hantush integral. Note: rho = r/lambda') # we already had a value for lambda"
   ]
  },
  {
   "cell_type": "markdown",
   "metadata": {},
   "source": [
    "Try $rho \\rightarrow 0$, i.e. $r \\rightarrow 0$ or $\\lambda \\rightarrow \\infty$. Note also that $\\lambda \\rightarrow \\infty$ is equivalent to $c \\rightarrow \\infty$ which means that the  aquitard covering the aquifer becomes impermeable and, therefore, the aquifer itself the becomes confined and so $W_h(u, \\rho \\rightarrow 0) \\rightarrow W(u) $"
   ]
  },
  {
   "cell_type": "markdown",
   "metadata": {},
   "source": [
    "For large $t$, i.e. for small $u$, the Hantush solution will become steady state. However, the stead-steade solution for the drawdown in a semi-confined aquifer is\n",
    "$$ s(r) = \\frac Q {2 \\pi kD} \\mbox{K}_0\\left(\\frac r \\lambda\\right)$$\n",
    "so that with the Hantush solution\n",
    "$$s(r, t) = \\frac Q {4 \\pi kD} \\mbox{W}_h\\left(u, \\frac r \\lambda\\right)$$\n",
    "\n",
    "\n",
    "Mathmatically this is expressed as\n",
    "\n",
    "$$\\mbox{W}_h\\left(u_{t\\rightarrow\\infty},\\frac{r}{\\lambda}\\right)=2\\mbox{K}_{0}\\left(\\frac{r}{\\lambda}\\right)$$"
   ]
  },
  {
   "cell_type": "code",
   "execution_count": 18,
   "metadata": {},
   "outputs": [
    {
     "name": "stdout",
     "output_type": "stream",
     "text": [
      "This 1.16986 should be about equal to 1.16982, which is true given the outcomes.\n"
     ]
    }
   ],
   "source": [
    "from scipy.special import k0 as K0 # Get bessel function K0 from scientific library\n",
    "\n",
    "u, r, lamb = 0.000000001, 350, 450.; \n",
    "\n",
    "print(f'This {Wh(u, r/lamb):.6g} should be about equal to {2 * K0(r/lamb):.6g}, which is true given the outcomes.')"
   ]
  },
  {
   "cell_type": "markdown",
   "metadata": {},
   "source": [
    "We don't use Hantush in the rest of this notebook, because the aquifer was confined."
   ]
  },
  {
   "cell_type": "markdown",
   "metadata": {},
   "source": [
    "# Intepret a real-world pumping test in a confined aquifer"
   ]
  },
  {
   "cell_type": "markdown",
   "metadata": {},
   "source": [
    "Pumping tests are done to get values for the aquifer properties. In the case of a confined aquifer, the drawdowns are expected to closely resemble the Theis type curve.\n",
    "\n",
    "The classical way uses the Theis curve (axes are $1/u$ and $W(u)$) on double log paper. Using $1/u$ instead of $u$ is because the type curve becomes more intutive this way with the drawdown climbing when $t$ increases (note that $1/u$ is proportional to $t$).\n",
    "\n",
    "Because $1/u$ is porportional to $t/r^2$, all data having the same $t/r^2$ will plot on the same $1/u$. Hence, the data of all piezometers will fall on the same line.\n",
    "\n",
    "Because the axis of the type curve and the are different by a constant factor, both the data and the $1/u$ can be matched by a horizontal shift on the log scale.\n",
    "Further, also the drawdown data and the well function are different by a constant factor. Therefore, both the data and the type curve can be matched by a vertical shift when using a log scale.\n",
    "\n",
    "In total, this implies that on double log scales, the data and the type curve have the same shape and one can be shifted over the other to make them overlap, to match them.\n",
    "The required horizontal and vertical shift to make both graphs match determines the two factors from which we obtain the transmissivity and the strorage coefficient.\n",
    "\n",
    "This is the classic way, and we'll show this below using a real-world example."
   ]
  },
  {
   "cell_type": "markdown",
   "metadata": {},
   "source": [
    "Let's show the situation by reading a picture\n",
    "\n",
    "![Korendijk](Korendijk_situation.png)"
   ]
  },
  {
   "cell_type": "code",
   "execution_count": 20,
   "metadata": {},
   "outputs": [
    {
     "name": "stdout",
     "output_type": "stream",
     "text": [
      "Dalem_data.txt\r\n",
      "Dalem_situation.png\r\n",
      "Korendijk_data.txt\r\n",
      "Korendijk_situation.png\r\n",
      "Strip-of-land-both-sides-equal-rise.ipynb\r\n",
      "TheisClass20190111.ipynb\r\n"
     ]
    }
   ],
   "source": [
    "ls # this show the file in the directory"
   ]
  },
  {
   "cell_type": "code",
   "execution_count": 21,
   "metadata": {},
   "outputs": [],
   "source": [
    "fname ='Korendijk_data.txt' # Data from Krusemand & De Ridder (see biblography at the end)\n",
    "\n",
    "data = np.loadtxt(fname,  skiprows=1) # load the dat into python, skip header row"
   ]
  },
  {
   "cell_type": "code",
   "execution_count": 22,
   "metadata": {},
   "outputs": [
    {
     "data": {
      "text/plain": [
       "array([[30.  , 30.  ,  0.1 ,  0.04],\n",
       "       [30.  , 30.  ,  0.25,  0.08],\n",
       "       [30.  , 30.  ,  0.5 ,  0.13],\n",
       "       [30.  , 30.  ,  0.7 ,  0.18]])"
      ]
     },
     "execution_count": 22,
     "metadata": {},
     "output_type": "execute_result"
    }
   ],
   "source": [
    "# Show the data (just first 4 lines)\n",
    "# The columns are [r[m], z[m], t[minutes], s[m]] (see first line of the data file)\n",
    "data[:4] "
   ]
  },
  {
   "cell_type": "code",
   "execution_count": 23,
   "metadata": {},
   "outputs": [],
   "source": [
    "# The times are minutes, first make sure they are converted to days !"
   ]
  },
  {
   "cell_type": "code",
   "execution_count": 24,
   "metadata": {},
   "outputs": [
    {
     "data": {
      "text/plain": [
       "array([[3.00000000e+01, 3.00000000e+01, 6.94444444e-05, 4.00000000e-02],\n",
       "       [3.00000000e+01, 3.00000000e+01, 1.73611111e-04, 8.00000000e-02],\n",
       "       [3.00000000e+01, 3.00000000e+01, 3.47222222e-04, 1.30000000e-01],\n",
       "       [3.00000000e+01, 3.00000000e+01, 4.86111111e-04, 1.80000000e-01]])"
      ]
     },
     "execution_count": 24,
     "metadata": {},
     "output_type": "execute_result"
    }
   ],
   "source": [
    "data[:, 2] /= 24 * 60  # convert column 3 from minutes to days\n",
    "data[:4] # show"
   ]
  },
  {
   "cell_type": "code",
   "execution_count": 25,
   "metadata": {},
   "outputs": [
    {
     "data": {
      "image/png": "[encoded data removed]",
      "text/plain": [
       "<Figure size 432x288 with 1 Axes>"
      ]
     },
     "metadata": {
      "needs_background": "light"
     },
     "output_type": "display_data"
    }
   ],
   "source": [
    "# The unique values of the first column also define the number of piezometers we have.\n",
    "distances = np.unique(data[:, 0])\n",
    "\n",
    "# set up the figure\n",
    "plt.title(fname)\n",
    "plt.ylabel('dd [m]')\n",
    "plt.xlabel('$t/r^2$ [d/m2]')\n",
    "plt.xscale('log')\n",
    "plt.yscale('log')\n",
    "plt.grid()\n",
    "\n",
    "# plt the data for each piezometer\n",
    "for r in distances:\n",
    "    I = data[:, 0] == r # this is logical indexing\n",
    "\n",
    "    # select the desired times\n",
    "    t = data[I,2] # [d]\n",
    "    \n",
    "    plt.plot(t / r**2, data[I,3], '.',\n",
    "             label='$t/r^2$= {:.1f} m'.format(r)) # '.' means plot as dots\n",
    "\n",
    "# Two constants that we optimize by trial and error\n",
    "# until the measurements and the data match as well s possible\n",
    "A = .165           # we will plot A * W(u)\n",
    "B = 0.00000015     # we'll use B * (1/u) for the horizontal axis of the Type curve\n",
    "\n",
    "u = np.logspace(-3, 1, 41)\n",
    "\n",
    "# plot shifted type curve\n",
    "plt.plot(B *1/u, A * exp1(u), 'k', lw=3, label='Theis type curve' )\n",
    "\n",
    "plt.legend()\n",
    "plt.show()"
   ]
  },
  {
   "cell_type": "markdown",
   "metadata": {},
   "source": [
    "## Interpretation of the results (getting $kD$ and $S$)"
   ]
  },
  {
   "cell_type": "markdown",
   "metadata": {},
   "source": [
    "We plotted $A W(u)$ to make the Theis type curve match drawdown $s$. This implies\n",
    "$$ s = A \\,W(u) $$\n",
    "while the Theis drawdown is\n",
    "$$ s  = \\frac Q {4 \\pi kD} W(u) $$\n",
    "So that\n",
    "$$A = \\frac Q {4 \\pi kD}$$\n",
    "And, because we now found $A$ by trial and error, we have $kD$ from\n",
    "$$ kD  = \\frac Q {4 \\pi A} $$"
   ]
  },
  {
   "cell_type": "markdown",
   "metadata": {},
   "source": [
    "We also make the Theis curve match the data by not using $1/u$ but $B \\times 1/u$ on the horizontal axis, this way making the type curve's horizontal axis the same as the $t / r^2$ in the data graph.\n",
    "\n",
    "Therefore we have\n",
    "$$ \\frac t {r^2} = \\frac B u = B \\frac {4 kD t} {r^2 S} = B \\frac {4 kD } S  \\left( \\frac t {r^2} \\right) $$\n",
    "This implies\n",
    "$$ B \\frac {4 kD} S = 1 $$\n",
    "so that\n",
    "$$ S = 4 kD B$$\n",
    "With $B$ and $kD$ known, this yields $S$."
   ]
  },
  {
   "cell_type": "code",
   "execution_count": 27,
   "metadata": {},
   "outputs": [
    {
     "name": "stdout",
     "output_type": "stream",
     "text": [
      "kD = 367 m2/d\n",
      "S  = 0.00022 [-]\n"
     ]
    }
   ],
   "source": [
    "# Putting this into practice using the actual extraction Q\n",
    "Q = 760 # m3/d\n",
    "\n",
    "# Getting kD first, using optimized value of A\n",
    "kD = Q / (4 * np.pi * A)\n",
    "print('kD = {:.0f} m2/d'.format(kD))\n",
    "\n",
    "# Then with kD now known and the optimized value of B\n",
    "S = 4* B * kD\n",
    "print('S  = {:.3g} [-]'.format(S))"
   ]
  },
  {
   "cell_type": "markdown",
   "metadata": {},
   "source": [
    "## Intepretation using the simplified solution of Theis"
   ]
  },
  {
   "cell_type": "markdown",
   "metadata": {},
   "source": [
    "The simplified Theis solution was obtained from its power series expansion and ignoring all terms of $u$ and higher powers of $u$. This yielded"
   ]
  },
  {
   "cell_type": "markdown",
   "metadata": {},
   "source": [
    "$$W(u) \\approx \\ln \\left( \\frac {2.25 kD t} {r^2 S} \\right) $$\n",
    "\n",
    "which is value for large-enough $t / r^2$, when the Theis drawdown increases linarly with the log of time. This is easily shown by drawing the type curve with a linear vertical and a logarithmic horizontal axis.\n"
   ]
  },
  {
   "cell_type": "code",
   "execution_count": 28,
   "metadata": {},
   "outputs": [
    {
     "data": {
      "image/png": "[encoded data removed]",
      "text/plain": [
       "<Figure size 432x288 with 1 Axes>"
      ]
     },
     "metadata": {
      "needs_background": "light"
     },
     "output_type": "display_data"
    }
   ],
   "source": [
    "# get u values to use on the x-axis\n",
    "u = np.logspace(-5, 1, 61)\n",
    "\n",
    "# set up the figure\n",
    "plt.title('Theis type curve')\n",
    "plt.xlabel('1/u')\n",
    "plt.ylabel('W(u)')\n",
    "plt.xscale('log')\n",
    "#plt.yscale('log')\n",
    "plt.grid()\n",
    "\n",
    "plt.plot(1/u, exp1(u), label='Theis well function') # plot well function versus 1/u\n",
    "plt.plot(1/u, np.log(0.56 / u), lw=0.5, label='approximation')\n",
    "plt.plot(4/2.25, 0, '.', label='approximation = 0') # inter section of straigh line approximation with zero\n",
    "plt.legend()\n",
    "plt.show()"
   ]
  },
  {
   "cell_type": "markdown",
   "metadata": {},
   "source": [
    "As the curve shows, the point where the oblique straigt-line part of the drawdown curve intersects the zero-drawdown $W(u)=0$ is about $u=1$.\n",
    "\n",
    "The exact point follows from\n",
    "$$ 1 = \\frac {2.25 kD t} {r^2 S} = \\frac {2.25} 4 \\frac { 4 kD t} {r^2 S} = \\frac {0.56} u $$\n",
    "Hence,\n",
    "$$u \\approx 1.8$$\n",
    "which can also be read from the intesection given by the orange line in the figure above."
   ]
  },
  {
   "cell_type": "markdown",
   "metadata": {},
   "source": [
    "Plot the data versus log $t/r^2$"
   ]
  },
  {
   "cell_type": "code",
   "execution_count": 29,
   "metadata": {},
   "outputs": [
    {
     "data": {
      "image/png": "[encoded data removed]",
      "text/plain": [
       "<Figure size 432x288 with 1 Axes>"
      ]
     },
     "metadata": {
      "needs_background": "light"
     },
     "output_type": "display_data"
    }
   ],
   "source": [
    "# The unique values of the first column also define the number of piezometers we have.\n",
    "distances = np.unique(data[:, 0])\n",
    "\n",
    "# set up the figure\n",
    "plt.title(fname)\n",
    "plt.ylabel('dd [m]')\n",
    "plt.xlabel('$t/r^2$ [d/m2]')\n",
    "plt.xscale('log')\n",
    "#plt.yscale('log')\n",
    "plt.grid()\n",
    "\n",
    "# plt the data for each piezometer\n",
    "for r in distances:\n",
    "    I = data[:, 0] == r # this is logical indexing\n",
    "\n",
    "    # select the desired times\n",
    "    t = data[I,2]\n",
    "    \n",
    "    plt.plot(t / r**2, data[I,3], '.',\n",
    "             label='$t/r^2$= {:.1f} m'.format(r)) # '.' means plot as dots\n",
    "\n",
    "# Two constants that we optimize by trial and error\n",
    "# until the measurements and the data match as well s possible\n",
    "A = .165           # we will plot A * W(u)\n",
    "B = 0.00000015     # we'll use B * (1/u) for the horizontal axis of the Type curve\n",
    "\n",
    "u = np.logspace(-3, 1, 41)\n",
    "\n",
    "# plot shifted type curve\n",
    "plt.plot(B *1/u, A * np.log(0.56 / u), 'k', lw=0.5, label='approxmated straight line' )\n",
    "\n",
    "plt.legend()\n",
    "plt.show()"
   ]
  },
  {
   "cell_type": "markdown",
   "metadata": {},
   "source": [
    "we get the transmissivty from the drawdown per log-cycle of the straight portion of the data curve (here the black line). It is read from the curve, i.e. about 0.39 m\n",
    "\n",
    "$$ s(10t) - s(t) = \\frac Q {4 \\pi kD} \\left(\n",
    "\\ln \\frac {2.25 kD 10 t} {r^2 S} -\n",
    "\\ln \\frac {2.25 kD t} {r^2 S} \\right) =\n",
    "\\frac Q {4 \\pi kD} \\ln 10 = \\frac {2.3 Q} {4 \\pi kD}$$\n",
    "\n",
    "Hence,"
   ]
  },
  {
   "cell_type": "markdown",
   "metadata": {},
   "source": [
    "$$ kD =  \\frac {2.3 Q} {4 \\pi \\left( s(10t) - s(t)\\right)} $$"
   ]
  },
  {
   "cell_type": "code",
   "execution_count": 30,
   "metadata": {},
   "outputs": [
    {
     "data": {
      "text/plain": [
       "'kD = 357 m2/d'"
      ]
     },
     "execution_count": 30,
     "metadata": {},
     "output_type": "execute_result"
    }
   ],
   "source": [
    "kD = 2.3 * Q / (4 * np.pi * 0.39)\n",
    "'kD = {:.0f} m2/d'.format(kD)"
   ]
  },
  {
   "cell_type": "markdown",
   "metadata": {},
   "source": [
    "The storage coefficient follows from the intersection of the approximated well function (i.e. the ln(...)) with zero.\n",
    "\n",
    "$s = 0 \\rightarrow \\ln(..) = 0$, therefore, the argument of the log is 1 for $t/r^2 = (t /r^2)_0$\n",
    "\n",
    "$$ \\frac {2.25 kD t_0} {r^2 S} = 1 $$ \n",
    "Hence,\n",
    "$$ S = 2.25 kD \\left( \\frac t {r^2} \\right)_0 $$\n",
    "\n",
    "From the graph we read $(t/r^2)_0 = 3\\times10^{-7}$"
   ]
  },
  {
   "cell_type": "code",
   "execution_count": 31,
   "metadata": {},
   "outputs": [
    {
     "data": {
      "text/plain": [
       "'S = 0.000241'"
      ]
     },
     "execution_count": 31,
     "metadata": {},
     "output_type": "execute_result"
    }
   ],
   "source": [
    "S = 2.25 * kD * 3e-7\n",
    "'S = {:.3g}'.format(S)"
   ]
  },
  {
   "cell_type": "markdown",
   "metadata": {},
   "source": [
    "As can be see, the intepretation using the simplified straight line approximation of the Theis curve leads to the same results. That is, almost the same results. The differces are due to the error in reading the data from the graph. These errors are negligible compared to the other uncertainties, like the differences between the drawdown curves of the individual piezometers which should theoretically fall on the same line. They do not because the real-world aquifer is not as uniform as the analytial solution assumes."
   ]
  },
  {
   "cell_type": "markdown",
   "metadata": {},
   "source": [
    "## Bibliography\n",
    "\n",
    "Kruseman, G.P. & N.D. de Ridder (1994) Pumping test analysis. is on the Internet."
   ]
  },
  {
   "cell_type": "code",
   "execution_count": null,
   "metadata": {},
   "outputs": [],
   "source": []
  }
 ],
 "metadata": {
  "kernelspec": {
   "display_name": "Python 3",
   "language": "python",
   "name": "python3"
  },
  "language_info": {
   "codemirror_mode": {
    "name": "ipython",
    "version": 3
   },
   "file_extension": ".py",
   "mimetype": "text/x-python",
   "name": "python",
   "nbconvert_exporter": "python",
   "pygments_lexer": "ipython3",
   "version": "3.7.4"
  }
 },
 "nbformat": 4,
 "nbformat_minor": 2
}
