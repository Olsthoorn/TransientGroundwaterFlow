{
 "cells": [
  {
   "cell_type": "markdown",
   "metadata": {},
   "source": [
    "# Transient course, first notebook exercise\n",
    "\n",
    "## This notebook shows the notebook, python and a little bit of groundwater\n",
    "\n",
    "### It's meant to be a getting accustomed with notebooks in Python for groundwater and anything else.\n",
    "\n",
    "Delft, December 22, 2016\n",
    "\n",
    "#### There are many tutorials on any aspect of Python and notebooks, see the Internet and also YouTube.\n",
    "\n",
    "Ok, let's go:\n",
    "\n",
    "This cell is a **markdown** cell, that is a text cell in which formatting can be done using mardown instructions. There is a tutorial under the Help menu at the top of this file.\n",
    "\n",
    "Markdown is like *this* and like **this** and like the headers at the top of this file.\n",
    "\n",
    "The amazing thing is that you can also write mathematical formulas that will be typeset professionally once the cell is executed by pressing SHIFT-ENTER together.\n",
    "\n",
    "Some examples are given below. To see how it works op a cell by clicking on it. Executing an open cell by pressing SHIFT ENTER. For help see under Help in the menu above. Als look at the keyboard shortcuts under help. They are useful to getting fast with notebook.\n",
    "\n",
    "## Formulas are TeX (LaTex)\n",
    "\n",
    "Mathematical formulas can be entered as TeX (LaTex) the language use worldwide for entering math in documents. It's easy as you will see. There is codes for greek letters ($\\alpha, \\beta, \\dots$), special things like the square root $\\sqrt{\\dots}$, fractions $\\frac Q {2 \\pi kD}$, the integral $\\intop_a^\\infty\\dots dx$, the sum $\\sum_{i=0}^\\infty(\\dots)$, superscipt $a^b$, subscript $a_b$, derivatives ${\\frac {\\partial^2 \\phi} {\\partial x^2}}$ and so on. It's extremely effective. If you look for a workprocessor that naturally incorporate math formulas and delivers beautifully formatted documents without you doing effort for it, go for LyX. It's free. It never chrashes, and you can de math by hand in it, by directly manipulating your formulas without ever making errors. It en angineer and scientist's favorate, because it reduces the need to learn LaTex to an absolute minimum. And what's more, you can directly copy text including the formulas into these notebooks.\n",
    "\n",
    "#### Greek letters\n",
    "\n",
    "Lower case\n",
    "$$ \\alpha \\beta \\gamma \\delta \\epsilon \\eta \\sigma \\tau \\zeta \\xi \\theta \\pi \\lambda \\phi \\psi \\omega $$\n",
    "\n",
    "Upper case\n",
    "$$ \\Gamma \\Delta \\Sigma \\Xi \\Theta \\Pi\n",
    "\\Lambda \\Phi \\Psi \\Omega $$\n",
    "\n",
    "Not all upercase work, because some of the uppercase letters such as Alpha an Beta are just A and B as in Latin.\n",
    "\n",
    "#### Some formulas\n",
    "\n",
    "Math formulas are either $in-line$ or $$outstanding$$\n",
    "\n",
    "As can be seen, the in-line formulas are placed between single dollars and the outstanding ones between double dollars.\n",
    "\n",
    "Words with special meaning start with a \"\\\" (back-slash) like\n",
    "\n",
    "$$ \\sum, \\intop, \\sqrt{a \\times b \\times c} \\,\\,\\,\\,  \\frac {a} {b} $$\n",
    "\n",
    "Underscore and upperscore go like this\n",
    "\n",
    "$$ s_x a^{2\\sqrt{2 \\pi r}} \\intop_{-\\infty}^\\infty \\sum_{n=1}^N $$\n",
    "\n",
    "Functions like exp, ln, sin, cos, tan etc. will be put in the correct font if precended by a \"\\\"\n",
    "\n",
    "$$ \\exp(2 \\pi i \\theta) \\ln \\frac r \\lambda \\sin (2 \\pi \\alpha) \\cos( \\ln \\frac {3 k} {5 \\sqrt{\\sigma}}) $$\n",
    "\n",
    "$$  \\ln \\left( \\frac {2 \\pi \\zeta} {\\exp(2 i)} \\right) $$\n",
    "\n",
    "You get nice big parentheses, absolute and brackets like this\n",
    "\n",
    "$$ s = \\left| \\left[ \\frac Q {2 \\pi kD} \\ln \\left( \\frac r \\lambda \\right) \\right] \\right|_{i=1}^{k=\\infty}  $$\n",
    "\n",
    "Great, smaller, approximate etc like this\n",
    "\n",
    "$$ a \\le b \\gg c \\ge d \\approx \\Gamma $$\n",
    "\n",
    "Limits, and arrows, see also the hat on pi:\n",
    "\n",
    "$$ \\lim_{x\\rightarrow 0} K_0 \\left( \\frac r \\lambda \\right) = \\hat {\\pi} $$\n",
    "\n",
    "Some other examples:\n",
    "\n",
    "$$ s(r) = \\frac {Q} {4 \\pi kD} K_0 \\frac {r} {\\lambda} $$\n",
    "\n",
    "$$ y = \\intop_{-\\infty}^\\infty \\frac 1 y dy $$\n",
    "\n",
    "In short,everything is possible and not that difficult.\n",
    "\n",
    "This way of generating fomumlas is called TeX or LateX."
   ]
  },
  {
   "cell_type": "markdown",
   "metadata": {},
   "source": [
    "#### Our first code\n",
    "\n",
    "Below is our first cell with code.\n",
    "\n",
    "First things first:\n",
    "\n",
    "We start with importing the python modules that we will always use when doing  engineering work with Python."
   ]
  },
  {
   "cell_type": "code",
   "execution_count": null,
   "metadata": {
    "collapsed": true
   },
   "outputs": [],
   "source": [
    "import numpy as np # import numerical package and locally call it np\n",
    "import matplotlib.pyplot as plt\n",
    "from scipy.special import k0  # import the K0-bessel function\n",
    "import scipy # import scientific package"
   ]
  },
  {
   "cell_type": "code",
   "execution_count": 2,
   "metadata": {
    "collapsed": false
   },
   "outputs": [
    {
     "name": "stdout",
     "output_type": "stream",
     "text": [
      "0.305770989598\n",
      "0.305770989598\n",
      "0.305770989598\n"
     ]
    }
   ],
   "source": [
    "K0 = scipy.special.k0 # assign variable name K0 to function k0\n",
    "# this makes K0 and k0 point at the same memory location where the\n",
    "# code for the besselfunction is located. The function can be\n",
    "# evoqued by putting parenthesis behing the function name k0()\n",
    "# Functions that need arguments have to be given them like k0(1.2)\n",
    "\n",
    "a = 1.23  # crate a name a and assign a value 1.23 to it\n",
    "# that is: store the value 1.23 somewhere in the memory of the computer and \n",
    "# generate a name a, and let the name a be a pointer that poitns at the store\n",
    "# value in memory (this is what happens when a value is assigned to a new\n",
    "# valriable)\n",
    "\n",
    "# now we can use both k0 and K0 for the same thing\n",
    "print( k0(a))\n",
    "print( K0(a))\n",
    "print( scipy.special.k0(a))"
   ]
  },
  {
   "cell_type": "markdown",
   "metadata": {},
   "source": [
    "Let's compute steady state groundwater drawdown due to pumping a well in\n",
    "1. a confined aquifer with fixed circular bounary at R=400 m\n",
    "1. a semi-confined aquifer where the covering toplayer has a resistance c d\n"
   ]
  },
  {
   "cell_type": "code",
   "execution_count": 1,
   "metadata": {
    "collapsed": false
   },
   "outputs": [
    {
     "ename": "NameError",
     "evalue": "name 'np' is not defined",
     "output_type": "error",
     "traceback": [
      "\u001b[0;31m---------------------------------------------------------------------------\u001b[0m",
      "\u001b[0;31mNameError\u001b[0m                                 Traceback (most recent call last)",
      "\u001b[0;32m<ipython-input-1-33a23bdfcc53>\u001b[0m in \u001b[0;36m<module>\u001b[0;34m()\u001b[0m\n\u001b[1;32m     12\u001b[0m \u001b[0mR\u001b[0m \u001b[0;34m=\u001b[0m \u001b[0;36m400.\u001b[0m \u001b[0;31m# m\u001b[0m\u001b[0;34m\u001b[0m\u001b[0m\n\u001b[1;32m     13\u001b[0m \u001b[0mc\u001b[0m \u001b[0;34m=\u001b[0m \u001b[0;36m350.\u001b[0m \u001b[0;31m# d\u001b[0m\u001b[0;34m\u001b[0m\u001b[0m\n\u001b[0;32m---> 14\u001b[0;31m \u001b[0mlam\u001b[0m \u001b[0;34m=\u001b[0m \u001b[0mnp\u001b[0m\u001b[0;34m.\u001b[0m\u001b[0msqrt\u001b[0m\u001b[0;34m(\u001b[0m\u001b[0mkD\u001b[0m \u001b[0;34m*\u001b[0m \u001b[0mc\u001b[0m\u001b[0;34m)\u001b[0m  \u001b[0;31m# m. spreading lenght of semi-confined aquifer\u001b[0m\u001b[0;34m\u001b[0m\u001b[0m\n\u001b[0m\u001b[1;32m     15\u001b[0m \u001b[0mr\u001b[0m \u001b[0;34m=\u001b[0m \u001b[0mnp\u001b[0m\u001b[0;34m.\u001b[0m\u001b[0mlogspace\u001b[0m\u001b[0;34m(\u001b[0m\u001b[0;34m-\u001b[0m\u001b[0;36m2\u001b[0m\u001b[0;34m,\u001b[0m \u001b[0;36m4\u001b[0m\u001b[0;34m,\u001b[0m \u001b[0;36m41\u001b[0m\u001b[0;34m)\u001b[0m \u001b[0;31m# generate a series of distance values\u001b[0m\u001b[0;34m\u001b[0m\u001b[0m\n",
      "\u001b[0;31mNameError\u001b[0m: name 'np' is not defined"
     ]
    }
   ],
   "source": [
    "# use comments (i.e. text after \"#\" to tell the dimension and what it is)\n",
    "Q = 1200. # m3/d \n",
    "\"\"\"\n",
    "    a dot behing the number like 2. or 2.0 tells that\n",
    "    the number is a float and not an integer. Sometimes this is important\n",
    "    mostly not, because python will convert the integer to a floating\n",
    "    point if the context demands is\n",
    "\"\"\"\n",
    "    \n",
    "kD = 900. # m2/d\n",
    "r = 150. # m\n",
    "R = 400. # m\n",
    "c = 350. # d\n",
    "lam = np.sqrt(kD * c)  # m. spreading lenght of semi-confined aquifer\n",
    "r = np.logspace(-2, 4, 41) # generate a series of distance values"
   ]
  },
  {
   "cell_type": "code",
   "execution_count": 38,
   "metadata": {
    "collapsed": false
   },
   "outputs": [
    {
     "name": "stdout",
     "output_type": "stream",
     "text": [
      "[  1.00000000e-02   1.41253754e-02   1.99526231e-02   2.81838293e-02\n",
      "   3.98107171e-02   5.62341325e-02   7.94328235e-02   1.12201845e-01\n",
      "   1.58489319e-01   2.23872114e-01   3.16227766e-01   4.46683592e-01\n",
      "   6.30957344e-01   8.91250938e-01   1.25892541e+00   1.77827941e+00\n",
      "   2.51188643e+00   3.54813389e+00   5.01187234e+00   7.07945784e+00\n",
      "   1.00000000e+01   1.41253754e+01   1.99526231e+01   2.81838293e+01\n",
      "   3.98107171e+01   5.62341325e+01   7.94328235e+01   1.12201845e+02\n",
      "   1.58489319e+02   2.23872114e+02   3.16227766e+02   4.46683592e+02\n",
      "   6.30957344e+02   8.91250938e+02   1.25892541e+03   1.77827941e+03\n",
      "   2.51188643e+03   3.54813389e+03   5.01187234e+03   7.07945784e+03\n",
      "   1.00000000e+04]\n",
      "\n",
      "Here are the values of r:\n",
      " [  1.00000000e-02   1.41253754e-02   1.99526231e-02   2.81838293e-02\n",
      "   3.98107171e-02   5.62341325e-02   7.94328235e-02   1.12201845e-01\n",
      "   1.58489319e-01   2.23872114e-01   3.16227766e-01   4.46683592e-01\n",
      "   6.30957344e-01   8.91250938e-01   1.25892541e+00   1.77827941e+00\n",
      "   2.51188643e+00   3.54813389e+00   5.01187234e+00   7.07945784e+00\n",
      "   1.00000000e+01   1.41253754e+01   1.99526231e+01   2.81838293e+01\n",
      "   3.98107171e+01   5.62341325e+01   7.94328235e+01   1.12201845e+02\n",
      "   1.58489319e+02   2.23872114e+02   3.16227766e+02   4.46683592e+02\n",
      "   6.30957344e+02   8.91250938e+02   1.25892541e+03   1.77827941e+03\n",
      "   2.51188643e+03   3.54813389e+03   5.01187234e+03   7.07945784e+03\n",
      "   1.00000000e+04] \n",
      "...Done.\n",
      "\n",
      "\"\\n\" means a new line, therfore:\n",
      "\n",
      "\n",
      " were tree new lines\n"
     ]
    }
   ],
   "source": [
    "# To show r\n",
    "print(r)\n",
    "print('\\nHere are the values of r:\\n',r,'\\n...Done.\\n')\n",
    "print('\"\\\\n\" means a new line, therfore:\\n\\n\\n','were tree new lines')"
   ]
  },
  {
   "cell_type": "code",
   "execution_count": 39,
   "metadata": {
    "collapsed": false
   },
   "outputs": [],
   "source": [
    "s1 = Q / (2 * np.pi * kD) * np.log(R /r)  # drawdownin confined aquifer\n",
    "s2 = Q / (2 * np.pi * kD) * k0(r / lam) # drawdown in semi-confine aquifer\n",
    "\n",
    "# approximation of head in semiconfined aquifer\n",
    "s3 = Q / (2 * np.pi * kD) * np.log(1.123 * lam / r)"
   ]
  },
  {
   "cell_type": "code",
   "execution_count": 40,
   "metadata": {
    "collapsed": false
   },
   "outputs": [
    {
     "data": {
      "image/png": "[encoded data removed]",
      "text/plain": [
       "<matplotlib.figure.Figure at 0x110cdcb70>"
      ]
     },
     "metadata": {},
     "output_type": "display_data"
    }
   ],
   "source": [
    "fig = plt.figure()\n",
    "ax = fig.add_subplot(111) # one plot on the current axes\n",
    "ax.set(xlabel='r [m]', ylabel='head [m]', xscale='log',\n",
    "      title='Three steady state drawdown lines')\n",
    "\n",
    "ax.plot(r, s1, 'r', linewidth=3, label='confined')\n",
    "ax.plot(r, s2, 'g-', label='semi-confined')\n",
    "ax.plot(r, s3, 'x', label='semi-confined, approximation')\n",
    "\n",
    "ax.grid(True) # also plot grid lines\n",
    "\n",
    "ax.invert_yaxis()  # turn y-axis upside down\n",
    "ax.legend(loc='best', fontsize='small')\n",
    "plt.show()  # don't forget plt.show()"
   ]
  },
  {
   "cell_type": "markdown",
   "metadata": {},
   "source": [
    "It can be seen that the approximation is good over a large range of r (the approximation (crosses) overlap the exact values (green line)).\n",
    "\n",
    "The red line is also a straight line on semi-log graph, but its absolute level depends on the distance R of the circular bounary where the head is fixed at 0. It was taken at R=400 m. If you make R=1.123 * lam, then you'll see that the red line matches the other two."
   ]
  },
  {
   "cell_type": "markdown",
   "metadata": {
    "collapsed": false
   },
   "source": [
    "To generate series of numbers we can use\n",
    "\n",
    "1. range([start,], end [,interval])  # gives a list not an array \n",
    "2. np.arange([start,] end, interval) # gives an array\n",
    "3. np.linspace(start, end, number_of_points) # gives an array\n",
    "4. np.logspace(log10(start), log10(end), number__of_points) # array\n",
    "5. np.ones((Ny[,Nx[,Nz] ...]) gives an array of 1's\n",
    "5. np.zeros(Ny[,Nx[,Nz] ...]) gives an array of 0's \n",
    "\n",
    "Examples"
   ]
  },
  {
   "cell_type": "code",
   "execution_count": 41,
   "metadata": {
    "collapsed": false
   },
   "outputs": [
    {
     "name": "stdout",
     "output_type": "stream",
     "text": [
      "range(2, 5, 2)\n",
      "2\n",
      "4\n",
      "6\n",
      "8\n",
      "10\n"
     ]
    }
   ],
   "source": [
    "print(range(2, 5, 2))\n",
    "\n",
    "for i in range(2, 11, 2):\n",
    "    print(i)"
   ]
  },
  {
   "cell_type": "code",
   "execution_count": 42,
   "metadata": {
    "collapsed": false
   },
   "outputs": [
    {
     "name": "stdout",
     "output_type": "stream",
     "text": [
      "\n",
      "from array   :\n",
      " [ 2.   2.3  2.6  2.9  3.2  3.5  3.8  4.1  4.4  4.7]\n",
      "\n",
      "from linspace:\n",
      " [ 2.   2.3  2.6  2.9  3.2  3.5  3.8  4.1  4.4  4.7  5. ]\n",
      "\n",
      "from logspace:\n",
      " [  0.1          0.15848932   0.25118864   0.39810717   0.63095734   1.\n",
      "   1.58489319   2.51188643   3.98107171   6.30957344  10.        ]\n",
      "\n",
      "from zeros   :\n",
      " [[ 0.  0.  0.  0.]\n",
      " [ 0.  0.  0.  0.]\n",
      " [ 0.  0.  0.  0.]]\n",
      "\n",
      "from ones    : \n",
      " [[ 1.  1.  1.]\n",
      " [ 1.  1.  1.]\n",
      " [ 1.  1.  1.]\n",
      " [ 1.  1.  1.]]\n"
     ]
    }
   ],
   "source": [
    "# The numpy way:\n",
    "print('\\nfrom array   :\\n',np.arange(2, 5, 0.3))\n",
    "print('\\nfrom linspace:\\n', np.linspace(2, 5, 11))\n",
    "print('\\nfrom logspace:\\n', np.logspace(-1, 1, 11))\n",
    "print('\\nfrom zeros   :\\n', np.zeros((3,4)))\n",
    "print('\\nfrom ones    : \\n', np.ones((4,3)))"
   ]
  },
  {
   "cell_type": "markdown",
   "metadata": {},
   "source": [
    "# Succes !!"
   ]
  }
 ],
 "metadata": {
  "anaconda-cloud": {},
  "kernelspec": {
   "display_name": "Python [default]",
   "language": "python",
   "name": "python3"
  },
  "language_info": {
   "codemirror_mode": {
    "name": "ipython",
    "version": 3
   },
   "file_extension": ".py",
   "mimetype": "text/x-python",
   "name": "python",
   "nbconvert_exporter": "python",
   "pygments_lexer": "ipython3",
   "version": "3.5.2"
  }
 },
 "nbformat": 4,
 "nbformat_minor": 1
}
