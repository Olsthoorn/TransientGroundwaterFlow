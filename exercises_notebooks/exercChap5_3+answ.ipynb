{
 "cells": [
  {
   "cell_type": "markdown",
   "metadata": {},
   "source": [
    "## Exercises chaptr 5.3 (Sinuoidal fluctuations)\n",
    "\n",
    "### Exercise 6-7 p47\n",
    "\n",
    "Let the solution to the diffusion equation for the confined aquifer be\n",
    "\n",
    "$$ s(x,t) = A e^{-a x} \\sin(\\theta_0 + \\omega t - ax )$$\n",
    "\n",
    "with:\n",
    "+ $kD = 1000 m2/d$\n",
    "+ $S = 10^{-3}$\n",
    "+ $A = 2 m$\n",
    "+ $\\theta_0 = 0.25 \\pi$, arbitrary constant\n",
    "+ $T = 24 $ h, the cycle time\n",
    "+ $ \\omega = \\frac {2 \\pi} T$ frequency [1/T]\n",
    "+ $ a = \\sqrt{ \\frac {\\omega S} {2 kD}} $ damping factor\n",
    "\n",
    "take time in days and show the head-change s(x,t), include the discharge $Q(x,t)$\n",
    "\n",
    "$$ Q(x,t) = -kD \\frac {\\partial s(x,t)} {\\partial x} $$\n",
    "\n",
    "$$ Q(x,t) = \\cdots $$\n"
   ]
  },
  {
   "cell_type": "code",
   "execution_count": null,
   "metadata": {
    "collapsed": true
   },
   "outputs": [],
   "source": [
    "import numpy as np\n",
    "import matplotlib.pyplot as plt"
   ]
  },
  {
   "cell_type": "code",
   "execution_count": null,
   "metadata": {
    "collapsed": true
   },
   "outputs": [],
   "source": [
    "# The wave and its envelopes"
   ]
  },
  {
   "cell_type": "code",
   "execution_count": null,
   "metadata": {
    "collapsed": true
   },
   "outputs": [],
   "source": [
    "# The discharge"
   ]
  },
  {
   "cell_type": "code",
   "execution_count": null,
   "metadata": {
    "collapsed": true
   },
   "outputs": [],
   "source": [
    "# How far inland is the effect of the tide still 1 cm?"
   ]
  },
  {
   "cell_type": "code",
   "execution_count": null,
   "metadata": {
    "collapsed": true
   },
   "outputs": [],
   "source": [
    "# What is the velocity of the wave ?"
   ]
  },
  {
   "cell_type": "markdown",
   "metadata": {},
   "source": [
    "### Exercise 13, p48\n",
    "\n",
    "Create a cimplex input using 4 sines, each with a different initial angle $\\theta_0$, amplitude $A$ and angular velocity $\\omega$ \n",
    "\n",
    "+ A = [ 0.5, 2.0, 1.25, 1.0] m\n",
    "+ $\\theta_0$ = [0.1, 0.3, 0, 0.4] $\\times \\frac \\pi 2$\n",
    "+ $\\omega = 2 \\pi$ / [12, 11, 7, 3]   /h \n",
    "\n",
    "Show the result:"
   ]
  },
  {
   "cell_type": "code",
   "execution_count": null,
   "metadata": {
    "collapsed": true
   },
   "outputs": [],
   "source": []
  },
  {
   "cell_type": "markdown",
   "metadata": {},
   "source": [
    "### Exercise 3, p48\n",
    "\n",
    "What is the penetration depth of daily, seasonal, and centennial temperature?\n",
    "\n",
    "+ prosity $\\epsilon = 0.35$\n",
    "+ $\\lambda = 3$ W/m/K\n",
    "+ $c_w = 4018$ J/K/kg\n",
    "+ $c_s = 800$ J/K/kg\n",
    "+ $\\rho_w = 1000$ kg/m3\n",
    "+ $\\rho_s = 2650$ kg/m3\n",
    "\n",
    "Heat conductance of matrix + water?\n",
    "Heat capacity of matrix + water?"
   ]
  },
  {
   "cell_type": "code",
   "execution_count": 2,
   "metadata": {
    "collapsed": true
   },
   "outputs": [],
   "source": [
    "# Depth of penetration of head wave"
   ]
  },
  {
   "cell_type": "code",
   "execution_count": null,
   "metadata": {
    "collapsed": true
   },
   "outputs": [],
   "source": []
  }
 ],
 "metadata": {
  "anaconda-cloud": {},
  "kernelspec": {
   "display_name": "Python [default]",
   "language": "python",
   "name": "python3"
  },
  "language_info": {
   "codemirror_mode": {
    "name": "ipython",
    "version": 3
   },
   "file_extension": ".py",
   "mimetype": "text/x-python",
   "name": "python",
   "nbconvert_exporter": "python",
   "pygments_lexer": "ipython3",
   "version": "3.5.2"
  }
 },
 "nbformat": 4,
 "nbformat_minor": 1
}
