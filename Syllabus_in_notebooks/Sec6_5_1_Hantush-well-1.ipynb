{
 "cells": [
  {
   "cell_type": "markdown",
   "metadata": {},
   "source": [
    "# Section 6.5.1\n",
    "# Hantush wells introduction type curves\n",
    "\n",
    "IHE, module transient groundwater\n",
    "\n",
    "Olsthoorn, 2019-01-03"
   ]
  },
  {
   "cell_type": "markdown",
   "metadata": {},
   "source": [
    "Hantush (1956) considered the transient flow due to a well with a constant extraction since $t=0$ placed in a uniform confined aquifer of infinite extent covered by a layer with constant vertical resistance $c$ above which a constant head is maintained."
   ]
  },
  {
   "cell_type": "markdown",
   "metadata": {},
   "source": [
    "The partial differential equation now contains the leakage between the aquifer and the layer with maintained head."
   ]
  },
  {
   "cell_type": "markdown",
   "metadata": {},
   "source": [
    "$$ \\frac {\\partial s^2} {\\partial r^2} + \\frac 1 r \\frac {\\partial \\phi} {\\partial r} \n",
    "- \\frac s {kD c} = \\frac S {kD} \\frac {\\partial s} {\\partial t} $$\n",
    "\n",
    "$$ s(x, t) = 0$$\n",
    "\n",
    "$$ Q = kD (2 \\pi r) \\frac {\\partial \\phi} {\\partial r}, \\,\\,\\, \\mathtt{for}\\,\\,\\, r=r_0 $$"
   ]
  },
  {
   "cell_type": "markdown",
   "metadata": {},
   "source": [
    "The solution may be opbtained by straighforward Lapace transformation and looking up de result from the Laplace inversions table. It reads with\n",
    "$$ \\lambda = \\sqrt{ kD c} $$"
   ]
  },
  {
   "cell_type": "markdown",
   "metadata": {},
   "source": [
    "$$ s(r, t) = \\frac Q {4 \\pi kD} W_h(u, \\frac r \\lambda),\\,\\,\\,\\, u = \\frac {r^2 S} {4 kD t}$$"
   ]
  },
  {
   "cell_type": "markdown",
   "metadata": {},
   "source": [
    "where $W_h(..)$ is the so-called Hantush well function, which, obviously differs from the Theis well function\n",
    "\n",
    "Theis:\n",
    "\n",
    "$$ W(z) = \\mathtt{exp1}(z) = \\intop _z ^\\infty \\frac {e^{-y}} {y} dy $$\n",
    "\n",
    "Hantush:\n",
    "\n",
    "$$ W_h(z, \\rho) = \\intop_u ^\\infty \\frac {e^{-y-\\left(\\frac \\rho 2 \\right)^2}} y dy $$\n",
    "\n",
    "with $\\rho = \\frac r \\lambda $ and $u = \\frac {r^2 S} {4 kD t} $"
   ]
  },
  {
   "cell_type": "code",
   "execution_count": 6,
   "metadata": {},
   "outputs": [],
   "source": [
    "from scipy.special import exp1\n",
    "from scipy.integrate import quad\n",
    "import numpy as np\n",
    "import matplotlib.pyplot as plt"
   ]
  },
  {
   "cell_type": "markdown",
   "metadata": {},
   "source": [
    "## Implementing the integral"
   ]
  },
  {
   "cell_type": "code",
   "execution_count": 16,
   "metadata": {},
   "outputs": [
    {
     "name": "stdout",
     "output_type": "stream",
     "text": [
      "Hantush quad :\n",
      "1.1 ms ± 37.4 µs per loop (mean ± std. dev. of 7 runs, 1000 loops each)\n",
      "[2.7449201210813685 2.7104287908047175 1.6703650224009043\n",
      " 0.21607038863750141 4.1483598657236765e-06]\n",
      "Hantush series:\n",
      "1.02 ms ± 90.2 µs per loop (mean ± std. dev. of 7 runs, 1000 loops each)\n",
      "[2.74492012e+00 2.71042879e+00 1.67036502e+00 2.16070389e-01\n",
      " 4.14835987e-06]\n"
     ]
    }
   ],
   "source": [
    "\n",
    "def Wh(u, rho):\n",
    "    '''Numerical integration using quad'''\n",
    "    def kernel(y, rho): return np.exp(-y - (rho / 2)**2 /y)  / y\n",
    "    def wh(u, rho):     return quad(kernel, u, np.inf, (rho,))\n",
    "    wh = np.frompyfunc(wh, 2, 2)\n",
    "    return wh(u, rho)[0]\n",
    "\n",
    "\n",
    "def Wh2(u, rho, tol=1e-14):\n",
    "    '''Return Hantush using summation.\n",
    "    \n",
    "    This implementation works but has a limited reach; for very small\n",
    "    values of u (u<0.001) the solution will deteriorate into nonsense,\n",
    "    '''\n",
    "    #import pdb\n",
    "    #pdb.set_trace()\n",
    "    tau = (rho/2)**2 / u\n",
    "    f0 = 1\n",
    "    E =  exp1(u)\n",
    "    w0= f0 * E\n",
    "    W = w0\n",
    "    for n in range(1, 500):\n",
    "        E = (1/n) * (np.exp(-u) - u * E)\n",
    "        f0 = -f0 / n * tau\n",
    "        w1 = f0 * E\n",
    "        #print(w1)\n",
    "        if np.max(abs(w0 + w1)) < tol: # use w0 + w1 because terms alternate sign\n",
    "            #print('succes')\n",
    "            break\n",
    "        W += w1\n",
    "        w0 = w1 # remember previous value\n",
    "    return W\n",
    "\n",
    "# Timing and test\n",
    "u = np.array([1e-3, 1e-2, 1e-1, 1, 10])\n",
    "rho=0.3\n",
    "print(\"Hantush quad :\")\n",
    "%timeit Wh(u, rho)\n",
    "print(Wh(u, rho))\n",
    "print(\"Hantush series:\")\n",
    "%timeit Wh2(u, rho)\n",
    "print(Wh2(u, rho))"
   ]
  },
  {
   "cell_type": "markdown",
   "metadata": {},
   "source": [
    "In conclusies both implementations function equally well."
   ]
  },
  {
   "cell_type": "markdown",
   "metadata": {},
   "source": [
    "## Hantush Type curves"
   ]
  },
  {
   "cell_type": "code",
   "execution_count": 18,
   "metadata": {},
   "outputs": [
    {
     "data": {
      "image/png": "[encoded data removed]",
      "text/plain": [
       "<Figure size 432x288 with 1 Axes>"
      ]
     },
     "metadata": {
      "needs_background": "light"
     },
     "output_type": "display_data"
    }
   ],
   "source": [
    "u = np.logspace(-6, 1)\n",
    "rhos = [0.01, 0.03, 0.1, 0.3, 1]\n",
    "\n",
    "plt.title('Hantush type curves (integral implementation)')\n",
    "plt.xlabel('1/u')\n",
    "plt.ylabel('Wh')\n",
    "plt.xscale('log')\n",
    "plt.yscale('log')\n",
    "plt.ylim((0.1, 100))\n",
    "plt.grid()\n",
    "\n",
    "plt.plot(1/u, exp1(u), label='Theis')\n",
    "for rho in rhos:\n",
    "    plt.plot(1/u, Wh(u, rho), label='rho={:.2f}'.format(rho))\n",
    "    #plt.plot(1/u, Wh2(u, rho), label='rho={:.2f}'.format(rho))\n",
    "    # This breaks down for higher times when became stationary. At least with 500 terms.\n",
    "    \n",
    "plt.legend()\n",
    "plt.show()"
   ]
  }
 ],
 "metadata": {
  "kernelspec": {
   "display_name": "Python 3",
   "language": "python",
   "name": "python3"
  },
  "language_info": {
   "codemirror_mode": {
    "name": "ipython",
    "version": 3
   },
   "file_extension": ".py",
   "mimetype": "text/x-python",
   "name": "python",
   "nbconvert_exporter": "python",
   "pygments_lexer": "ipython3",
   "version": "3.7.7"
  }
 },
 "nbformat": 4,
 "nbformat_minor": 2
}
