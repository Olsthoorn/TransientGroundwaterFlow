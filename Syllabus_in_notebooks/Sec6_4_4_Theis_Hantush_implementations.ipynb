{
 "cells": [
  {
   "cell_type": "markdown",
   "metadata": {},
   "source": [
    "# Section 6.4.4\n",
    "# Theis and Hantush type curves (timing the functions)\n",
    "\n",
    "Here we do some testing of Theis and Hantush well function computations using a variety if implementations in Python.\n",
    "\n",
    "We have implemented 4 variants of the Theis well functions and four variants of the Hantush well function compared them and timed time.\n",
    "\n",
    "While we can directly use `scipy.special.exp1` for the Theis well function, there is no function in `scipy.special` for the equivalent Hantush wellf function. That's why we have to integrate it ourselves. Be most straight forward and in fact best way is to integrate the kernal of the formula numerically and for that use the `scipy.integrate.quad` method, as it is fast, stable and at least 10 didgets accurate.\n",
    "\n",
    "Ed J.M. Veling in has warned that accurate computation of Hantush is essential for many applications and has shown in a paper how to to accurately compute it. In this notebook we explore some implementations of the function and test their performance.\n",
    "\n",
    "@TO 2020-12-14"
   ]
  },
  {
   "cell_type": "markdown",
   "metadata": {},
   "source": [
    "# Theis and Hantush well functions\n",
    "\n",
    "\n",
    "## Theis well function ($\\mbox{W(}u)$)\n",
    "\n",
    "$$s(r, t) = \\frac{Q_0} {4 \\pi kD} W_{theis}(u),\\,\\,\\,\\,\\,u=\\frac{r^2 S }{4 kD t}$$\n",
    "\n",
    "The Theis well function is mathematically known as the exponential integral or $\\mbox{expint}(z)$. In Python this function is avaialble in the `scipy.special` module as `exp1`. So you import it as\n",
    "\n",
    "    from scipy.special import exp1\n",
    "\n",
    "or\n",
    "\n",
    "    from scipy.special import exp1 as Wth\n",
    "\n",
    "This renames exp1 to Wth, if you should prefer it.\n",
    "\n",
    "$$ W_{theis} = \\mbox{expint}(u) = \\mbox{scipy.special.exp1}(u)$$\n",
    "\n",
    "There exist two mathematical formulaa for the exponential integral\n",
    "\n",
    "$$W(u) = exp1(u) = \\mbox{expint}(u) = \\intop_u^\\infty \\frac{e^{-y}} y dy$$\n",
    "\n",
    "Then there is the power series form:\n",
    "\n",
    "$$\\mbox{expint}(u) = \\sum_0^\\infty\\left[-\\gamma - \\ln u + u -\\frac{u^2}{2 \\times 2!}\n",
    "+\\frac{u^3}{3 \\times 3!} - \\frac{u^4}{4 \\times 4!} - ...\\right],\\,\\,\\,\\,\\,\\gamma=0.577216...$$\n",
    "\n",
    "The $\\gamma$ is so-called Euler's constant, a basic math constant like $e$, $\\pi$ etc.\n",
    "\n",
    "The second, power series form of Theis's well function comes in very handy for understanding the function's behavior and straight-forward analysis of pumping tests for wells in confined and unconfined aquifers that show `Theis` behavior, by which we mean, there is no equilibrium ever, because all the extractd water originates from storage in the aquifer only.\n",
    "\n",
    "# Hantush's well function ($\\mbox{Wh}(u, \\rho)$).\n",
    "\n",
    "Hantush considers transient drawdown due to a well well in a semie-confined aquifer. Hence there is an drawdwown-induced infiltration from an adjacent layer, in which the head is assumed constant. This means that extrated water comes not only from storage (which is the case initially) but also from this induced infiltration. After longer times the full extraction originates from this induced infiltration, due to which the drawdown becomes stationary. But in very early times, the drawdown of the Theis and Hantush wells are the same. So, also the mathematical form of the Hantush solution resembles that of the Theis solution.\n",
    "\n",
    "$$s(r, t) = \\frac {Q_0}{4 \\pi kD} Wh(u, \\rho),\\,\\,\\,\\,\\,u=\\frac{r^2 S}{4 kD t}, \\,\\,\\,\\rho = \\frac r \\lambda$$\n",
    "\n",
    "where $\\lambda = \\sqrt{kD c}$.\n",
    "\n",
    "Like it is the case with the Theis well function, the Hantush well function can be written as an definite integral\n",
    "\n",
    "$$W_h(u,\\rho) = \\intop_u^\\infty \\frac{e^{-y -\\frac{\\left(\\frac{\\rho}{2}\\right)^2}{y} }}{y} dy$$"
   ]
  },
  {
   "cell_type": "markdown",
   "metadata": {},
   "source": [
    "The Hantush well function may also be computed as a power series:\n",
    "\n",
    "$$ W_h(u, \\rho) = \\sum_{n=0}^{\\infty}\\frac {-1^n} {n!} \\left( \\frac \\rho 2 \\right)^{2n} u^{-n} E_{n+1}\\left(\\frac {\\rho^2} {4 u} \\right) $$\n",
    "\n",
    "$$ E_{n+1} = \\frac 1 n \\left[ e^{-u} - u E_n (u) \\right] , \\,\\,(n=1, 2, 3, ...) $$\n",
    "\n",
    "In which $E_i$ is the ith repeated integral of the exponential function and $E_1 = \\mbox{expint}$.\n",
    "\n",
    "Four methods are implemented below. But in conclusion, just stay with the one using the quad as it is fast enough and extremely accurate."
   ]
  },
  {
   "cell_type": "markdown",
   "metadata": {},
   "source": [
    "# Import required functionality"
   ]
  },
  {
   "cell_type": "code",
   "execution_count": 250,
   "metadata": {},
   "outputs": [],
   "source": [
    "import numpy as np\n",
    "from scipy.integrate import quad\n",
    "from scipy.special import exp1\n",
    "import matplotlib.pyplot as plt\n",
    "from timeit import timeit\n",
    "import pdb\n",
    "\n",
    "# Handy for object inspection:\n",
    "attribs = lambda obj: [o for o in dir(obj) if not o.startswith('_')]\n",
    "\n",
    "def newfig(title='title', xlabel='xlabel', ylabel='ylabel',\n",
    "                   xlim=None, ylim=None, xscale='linear', yscale='linear',\n",
    "                   size_inches=(12, 8)):\n",
    "    fig, ax = plt.subplots()\n",
    "    fig.set_size_inches(size_inches)\n",
    "    ax.set_title(title)\n",
    "    ax.set_xlabel(xlabel)\n",
    "    ax.set_ylabel(ylabel)\n",
    "    if xlim: ax.set_xlim(xlim)\n",
    "    if ylim: ax.set_ylim(ylim)\n",
    "    ax.set_xscale(xscale)\n",
    "    ax.set_yscale(yscale)\n",
    "    ax.grid()\n",
    "    return ax"
   ]
  },
  {
   "cell_type": "markdown",
   "metadata": {},
   "source": [
    "## Two variant implementations of the Theis well fuction\n",
    "\n",
    "    W_theis0: exp1 directly from scipy.special\n",
    "    W_theis1: by integration using scipy and numpy functionality.\n"
   ]
  },
  {
   "cell_type": "code",
   "execution_count": 184,
   "metadata": {},
   "outputs": [],
   "source": [
    "def W_theis0(u):\n",
    "    \"\"\"Return Theis well function using scipy.special function exp1 directly.\"\"\"\n",
    "    return exp1(u)"
   ]
  },
  {
   "cell_type": "code",
   "execution_count": 251,
   "metadata": {},
   "outputs": [],
   "source": [
    "def W_theis1(u):\n",
    "    \"\"\"Return Theis well function by integrating using scipy functionality.\n",
    "    \n",
    "    This turns out to be a very accurate yet fast impementation, about as fast\n",
    "    as the exp1 function form scipy.special.\n",
    "    \n",
    "    In fact we define three functions and finally compute the desired answer\n",
    "    with the last one. The three functions are nicely packages in the overall\n",
    "    W_theis1 function.\n",
    "    \"\"\"\n",
    "    def funcTh(y): return np.exp(-y)  / y\n",
    "    def Wth2(u):   return quad(funcTh, u, np.inf)\n",
    "    WTh = np.frompyfunc(Wth2, 1, 2)\n",
    "    return Wth(u)"
   ]
  },
  {
   "cell_type": "code",
   "execution_count": 239,
   "metadata": {},
   "outputs": [],
   "source": [
    "def W_theis2(u, practically_log_inf=20, steps_per_log_cycle=50):\n",
    "    \"\"\"Theis well function using smart integration\"\"\"\n",
    "    if np.isscalar(u):\n",
    "        u = np.array([u])\n",
    "    # Genereate integration point from first u tot practially inf and mix with the \n",
    "    # given u, so they are in the array of u values.\n",
    "    lu0 = np.log10(u[0])\n",
    "    n = int((practically_log_inf - lu0) * steps_per_log_cycle)\n",
    "    uu = np.unique(np.hstack((np.logspace(lu0, practically_log_inf, n), u)))\n",
    "    kernel = np.exp(-uu)\n",
    "    dlnu = np.diff(np.log(uu))\n",
    "    Wuu = np.cumsum(np.hstack((0, (kernel[:-1] + kernel[1:]) * dlnu / 2)))\n",
    "    Wuu = Wuu[-1] - Wuu # This holds the integral from each uu to infinity\n",
    "    # So now just look up the Wuu values where uu is u\n",
    "    W = np.zeros_like(u)\n",
    "    for i, ui in enumerate(u):\n",
    "        W[i] = Wuu[np.where(uu==ui)[0][0]]\n",
    "    return W"
   ]
  },
  {
   "cell_type": "code",
   "execution_count": 240,
   "metadata": {},
   "outputs": [],
   "source": [
    "def W_theis3(u):\n",
    "    \"\"\"Return Theis well function using power series.\"\"\"\n",
    "    tol = 1e-16\n",
    "    gam = 0.577216\n",
    "\n",
    "    if np.isscalar(u):\n",
    "        u = np.array([u])\n",
    "    u1 = u[u <= 15] # All outcomes for u > 15 are identical to zero\n",
    "    terms0 = u1\n",
    "    W = -gam - np.log(u1) + terms0\n",
    "    for i in range(2, 250):\n",
    "        terms1 = -terms0 * u1 * (i -1) / (i * i)\n",
    "        W += terms1\n",
    "        if np.max(np.abs(terms0 + terms1)) < tol:\n",
    "            break\n",
    "        terms0 = terms1\n",
    "    return np.hstack((W, np.zeros_like(u[u > 15])))"
   ]
  },
  {
   "cell_type": "markdown",
   "metadata": {},
   "source": [
    "## Four variant implementations of the Hantush well function"
   ]
  },
  {
   "cell_type": "code",
   "execution_count": 243,
   "metadata": {},
   "outputs": [],
   "source": [
    "def W_hantush0(u, rho, tol=1e-14):\n",
    "    '''Hantush well function implemented as power series\n",
    "    \n",
    "    This implementation works but has a limited reach; for very small\n",
    "    values of u (u<0.001) the solution will deteriorate into nonsense,\n",
    "    '''\n",
    "    tau = (rho/2)**2 / u\n",
    "    f0 = 1\n",
    "    E =  exp1(u)\n",
    "    w0= f0 * E\n",
    "    W = w0\n",
    "    for n in range(1, 500):\n",
    "        E = (1/n) * (np.exp(-u) - u * E)\n",
    "        f0 = -f0 / n * tau\n",
    "        w1 = f0 * E\n",
    "        #print(w1)\n",
    "        if np.max(abs(w0 + w1)) < tol: # use w0 + w1 because terms alternate sign\n",
    "            #print('succes')\n",
    "            break\n",
    "        W += w1\n",
    "        w0 = w1 # remember previous value\n",
    "    return W\n",
    "    "
   ]
  },
  {
   "cell_type": "code",
   "execution_count": 150,
   "metadata": {},
   "outputs": [],
   "source": [
    "def W_hantush1(u, rho):\n",
    "    \"\"\"Return Hantush well function by straight-forward integration.\n",
    "    \n",
    "    A large number of points are required to be accurate, but it won't\n",
    "    still be as accurate as the quad method from scipy.integrate which is\n",
    "    also at least as fast.\n",
    "    \n",
    "    \"\"\"\n",
    "    if np.isscalar(u):\n",
    "        u = np.asarray([u])\n",
    "\n",
    "    w = np.zeros_like(u)\n",
    "    for i, uu in enumerate(u):\n",
    "        y = np.logspace(np.log10(uu), 10, 5000)\n",
    "        arg = np.exp(-y - (rho/2) ** 2 / y ) / y\n",
    "        w[i] = np.sum(np.diff(y) * 0.5 * (arg[:-1]+ arg[1:]))\n",
    "    return w"
   ]
  },
  {
   "cell_type": "code",
   "execution_count": 136,
   "metadata": {},
   "outputs": [],
   "source": [
    "def W_hantush2(u, rho):\n",
    "    \"\"\"Return Hantush well function by integration trying to be smarter.\n",
    "    \n",
    "    This function is no faster than the previous one with 5000 points.\n",
    "    \n",
    "    Parameters\n",
    "    ----------\n",
    "    u = np.ndarray of floats\n",
    "        an array of u values u = r**2 S  / (4 kD t)\n",
    "    rho: float\n",
    "        value of r/lambda with lambda = sqrt(kD c)    \n",
    "    \"\"\"\n",
    "    if np.isscalar(u):\n",
    "        u = np.asarray([u])\n",
    "    uu = np.unique(np.hstack((np.logspace(np.log10(np.min(u)), 10, 5000), u)))\n",
    "    arg  = np.exp(-uu - (rho/2) ** 2 / uu) / uu\n",
    "    duu = np.diff(uu)\n",
    "    S = np.hstack((0, (arg[1:] + arg[:-1])* duu / 2))\n",
    "    Wsum = np.zeros_like(u)\n",
    "    for i, ui in enumerate(u):\n",
    "        Wsum[i] = np.sum(S[uu > ui])\n",
    "    return Wsum"
   ]
  },
  {
   "cell_type": "code",
   "execution_count": 238,
   "metadata": {},
   "outputs": [],
   "source": [
    "def W_hantush3(u, rho):\n",
    "    \"\"\"Return Hantush well function by integration using scipy functinality.\n",
    "    \n",
    "    This turns out to be a very accurate yet fast impementation, about as fast\n",
    "    as the exp1 function form scipy.special.\n",
    "    \n",
    "    In fact we define three functions and finally compute the desired answer\n",
    "    with the last one. The three functions are nicely packages in the overall\n",
    "    W_theis1 function.\n",
    "\n",
    "    \"\"\"\n",
    "    def whkernel(y, rho): return np.exp(-y - (rho/2) ** 2 / y ) / y    \n",
    "\n",
    "    def whquad(u, rho): return quad(whkernel, u, np.inf, args=(rho))\n",
    "\n",
    "    Wh = np.frompyfunc(whquad, 2, 2) # 2 inputs and tow outputs h and err\n",
    "    \n",
    "    return Wh(u, rho)[0] # cut-off err"
   ]
  },
  {
   "cell_type": "markdown",
   "metadata": {},
   "source": [
    "# Timing the functions"
   ]
  },
  {
   "cell_type": "code",
   "execution_count": 244,
   "metadata": {},
   "outputs": [
    {
     "name": "stdout",
     "output_type": "stream",
     "text": [
      "W_theis0:  [6.33153936 6.10153963 5.87160686]\n",
      "W_theis1:  [6.33153936 6.10153963 5.87160686]\n",
      "W_theis2:  [6.33153802 6.10153834 5.87160562]\n",
      "W_theis3:  [6.33153903 6.1015393  5.87160653]\n",
      "W_hantush0:  [6.32930712 6.09976917 5.87020317]\n",
      "W_hantush1:  [6.32935388 6.09981386 5.87024584]\n",
      "W_hantush2:  [6.32935327 6.09981396 5.87024661]\n",
      "W_hantush3:  [6.32930712144714 6.099769168838761 5.8702031683400975]\n"
     ]
    }
   ],
   "source": [
    "u  = np.logspace(-3, 1, 41)\n",
    "rho = 0.003\n",
    "\n",
    "theis_funcs = [W_theis0, W_theis1, W_theis2, W_theis3]\n",
    "hantush_funcs = [W_hantush0, W_hantush1, W_hantush2, W_hantush3]\n",
    "\n",
    "for i, f in enumerate(theis_funcs):\n",
    "    print(f'W_theis{i}: ', f(u)[:3])\n",
    "    \n",
    "for i, f in enumerate(hantush_funcs):\n",
    "    print(f'W_hantush{i}: ',f(u, rho)[:3])"
   ]
  },
  {
   "cell_type": "code",
   "execution_count": 245,
   "metadata": {},
   "outputs": [
    {
     "name": "stdout",
     "output_type": "stream",
     "text": [
      "W_theis0 :\n",
      "6.05 µs ± 130 ns per loop (mean ± std. dev. of 7 runs, 100000 loops each)\n",
      "W_theis1(u) :\n",
      "7.47 µs ± 117 ns per loop (mean ± std. dev. of 7 runs, 100000 loops each)\n",
      "W_theis2(u) :\n",
      "311 µs ± 8.8 µs per loop (mean ± std. dev. of 7 runs, 1000 loops each)\n",
      "W_theis3(u) :\n",
      "548 µs ± 42.8 µs per loop (mean ± std. dev. of 7 runs, 1000 loops each)\n",
      "W_hantush0(u, rho) :\n",
      "87.4 µs ± 4.23 µs per loop (mean ± std. dev. of 7 runs, 10000 loops each)\n",
      "W_hantus1(, rho) :\n",
      "7.88 ms ± 133 µs per loop (mean ± std. dev. of 7 runs, 100 loops each)\n",
      "W_hantush2(u, rho) :\n",
      "956 µs ± 45.7 µs per loop (mean ± std. dev. of 7 runs, 1000 loops each)\n",
      "W_hantush3(u, rho) :\n",
      "9.46 ms ± 196 µs per loop (mean ± std. dev. of 7 runs, 100 loops each)\n"
     ]
    }
   ],
   "source": [
    "print('W_theis0 :')\n",
    "%timeit W_theis0(u)\n",
    "print('W_theis1(u) :')\n",
    "%timeit W_theis1(u)\n",
    "print('W_theis2(u) :')\n",
    "%timeit W_theis2(u)\n",
    "print('W_theis3(u) :')\n",
    "%timeit W_theis3(u)\n",
    "\n",
    "print('W_hantush0(u, rho) :')\n",
    "%timeit W_hantush0(u, rho)\n",
    "print('W_hantus1(, rho) :')\n",
    "%timeit W_hantush1(u, rho)\n",
    "print('W_hantush2(u, rho) :')\n",
    "%timeit W_hantush2(u, rho)\n",
    "print('W_hantush3(u, rho) :')\n",
    "%timeit W_hantush3(u, rho)"
   ]
  },
  {
   "cell_type": "markdown",
   "metadata": {},
   "source": [
    "# Results of the timing\n",
    "\n",
    "### Theis:\n",
    "\n",
    "    W_theis0 :\n",
    "    6.06 µs ± 261 ns per loop (mean ± std. dev. of 7 runs, 100000 loops each)\n",
    "    W_theis1(u) :\n",
    "    7.11 µs ± 163 ns per loop (mean ± std. dev. of 7 runs, 100000 loops each)\n",
    "    W_theis2(u) :\n",
    "    299 µs ± 6.79 µs per loop (mean ± std. dev. of 7 runs, 1000 loops each)\n",
    "    W_theis3(u) :\n",
    "    553 µs ± 33.7 µs per loop (mean ± std. dev. of 7 runs, 1000 loops each)\n",
    "\n",
    "Their is almost no difference in speed between direcly using exp1 from scipy and integrating numerically using quad. Both are equally accurate.\n",
    "Thex explicit integration is slow just as the summation.\n",
    "\n",
    "\n",
    "### Hantush:\n",
    "\n",
    "    W_hantush0(u, rho) :\n",
    "    86 µs ± 1.69 µs per loop (mean ± std. dev. of 7 runs, 10000 loops each)\n",
    "    W_hantus1(, rho) :\n",
    "    7.53 ms ± 72.9 µs per loop (mean ± std. dev. of 7 runs, 100 loops each)\n",
    "    W_hantush2(u, rho) :\n",
    "    882 µs ± 26.9 µs per loop (mean ± std. dev. of 7 runs, 1000 loops each)\n",
    "    W_hantush3(u, rho) :\n",
    "    8.64 ms ± 75.4 µs per loop (mean ± std. dev. of 7 runs, 100 loops each)\n",
    "\n",
    "Note that my \"smart\" integration (`W_hantush2`) is about 9 time faster than the simple integration and th quad solution. So it turns aout to be smart enough after all.\n",
    "\n",
    "The smart and normal integration methods are equally accurate to 5 didgets with 5000 points and haveing 1e10 as upper limit. The quad method has 10 didgets accuracy.\n",
    "\n",
    "The series method is the slowest of all, 10 times slower than the quad and simple integration methods and 100 times slower than my smart method. But it is as accurate as the quad method. The series method is also very effective.\n",
    "\n",
    "The series method is also not accurate. The number of terms to include must be\n",
    "much larger, which would make it even slower te compute."
   ]
  },
  {
   "cell_type": "code",
   "execution_count": 252,
   "metadata": {},
   "outputs": [
    {
     "data": {
      "image/png": "[encoded data removed]",
      "text/plain": [
       "<Figure size 864x576 with 1 Axes>"
      ]
     },
     "metadata": {
      "needs_background": "light"
     },
     "output_type": "display_data"
    }
   ],
   "source": [
    "rhos = [0., 0.1, 0.3, 1, 3]\n",
    "\n",
    "u = np.logspace(-6, 1, 71)\n",
    "\n",
    "ax = newfig('Hantush type curves', '1/u', 'Wh(u, rho)', xscale='log', yscale='log')\n",
    "\n",
    "ax.plot(1/u, W_theis0(u), lw=3, label='Theis', zorder=100)\n",
    "for rho in rhos:\n",
    "    ax.plot(1/u, W_hantush2(u, rho), '.', label='rho={:.1f}'.format(rho))\n",
    "    ax.plot(1/u, W_hantush3(u, rho), label='rho={:.1f}'.format(rho))\n",
    "ax.legend()\n",
    "plt.show()"
   ]
  },
  {
   "cell_type": "code",
   "execution_count": 253,
   "metadata": {},
   "outputs": [
    {
     "data": {
      "image/png": "[encoded data removed]",
      "text/plain": [
       "<Figure size 864x576 with 1 Axes>"
      ]
     },
     "metadata": {
      "needs_background": "light"
     },
     "output_type": "display_data"
    }
   ],
   "source": [
    "rhos = [0., 0.1, 0.3, 1, 3]\n",
    "\n",
    "u = np.logspace(-6, 1, 71)\n",
    "\n",
    "ax = newfig('Hantush type curves', '1/y', 'W(u, rho)', xscale='log')\n",
    "for rho in rhos:\n",
    "    ax.plot(1/u, W_hantush2(u, rho), '.', label='rho={:.1f}'.format(rho))\n",
    "    ax.plot(1/u, W_hantush3(u, rho), label='rho={:.1f}'.format(rho))    \n",
    "ax.legend()\n",
    "plt.show()"
   ]
  },
  {
   "cell_type": "code",
   "execution_count": null,
   "metadata": {
    "collapsed": true
   },
   "outputs": [],
   "source": []
  }
 ],
 "metadata": {
  "kernelspec": {
   "display_name": "Python 3",
   "language": "python",
   "name": "python3"
  },
  "language_info": {
   "codemirror_mode": {
    "name": "ipython",
    "version": 3
   },
   "file_extension": ".py",
   "mimetype": "text/x-python",
   "name": "python",
   "nbconvert_exporter": "python",
   "pygments_lexer": "ipython3",
   "version": "3.7.7"
  }
 },
 "nbformat": 4,
 "nbformat_minor": 2
}
