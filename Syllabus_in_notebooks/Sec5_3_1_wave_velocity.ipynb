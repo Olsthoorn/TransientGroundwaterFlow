{
 "cells": [
  {
   "cell_type": "markdown",
   "metadata": {},
   "source": [
    "# Section 5.3.1\n",
    "# Wave velocity\n",
    "\n",
    "IHE, Delft, Dec 2019\n",
    "@T.N.Olsthoorn, 2012-12-30\n",
    "\n",
    "\n",
    "## Poblem relates to exercise 10 on page section 5.3.3 of the syllabus\n",
    "\n",
    "The solution for the partial differential equation\n",
    "\n",
    "$$ kD \\frac {\\partial^2 s} {\\partial x} = S \\frac {\\partial s} {\\partial t} $$\n",
    "\n",
    "Given the as a boundary condition $s(0, t) = A \\sin(\\omega t - \\theta) $, met $\\theta$ a constant, is\n",
    "\n",
    "$$ s(x, t) = A e^{-a x} \\sin(\\omega t - ax - \\theta) $$\n",
    "\n",
    "with $\\omega T = 2 \\pi$ and\n",
    "\n",
    "$$ a = \\sqrt{ \\frac {\\omega S} {2 kD} } $$\n",
    "\n",
    "The velocity of the wave is obtained by setting the argument of the $\\sin$ function equal to zero:\n",
    "\n",
    "$$ \\omega t - a x + \\theta = 0 $$\n",
    "\n",
    "then taking the derivatie with respect to time to obtaine $ dx / dt$\n",
    "\n",
    "$$ omega - a \\frac {dx} {dt} = 0 $$\n",
    "\n",
    "and so\n",
    "\n",
    "$$ v = \\frac {dx} {dt} = \\frac \\omega a $$ "
   ]
  },
  {
   "cell_type": "markdown",
   "metadata": {},
   "source": [
    "To show the effect, plot waves at different distances and compute the velocity of the wave."
   ]
  },
  {
   "cell_type": "markdown",
   "metadata": {},
   "source": [
    "### Loading modules"
   ]
  },
  {
   "cell_type": "code",
   "execution_count": 1,
   "metadata": {},
   "outputs": [],
   "source": [
    "import numpy as np\n",
    "import matplotlib.pyplot as plt"
   ]
  },
  {
   "cell_type": "code",
   "execution_count": 2,
   "metadata": {},
   "outputs": [],
   "source": [
    "# Aquifer properties\n",
    "kD = 600 # m2/d\n",
    "S  = 0.1 # [-]\n",
    "\n",
    "T = 1.0 # cycle time in days\n",
    "omega = (2 * np.pi) / T # 2 cycles per day\n",
    "\n",
    "a = np.sqrt(omega * S / (2 * kD)) # 1/m damping and delay factor\n",
    "A = 1.0 # m, wave amplitude"
   ]
  },
  {
   "cell_type": "markdown",
   "metadata": {},
   "source": [
    "We'll show the wave at three different times and als compute and show where it intersects with the $x$-axis.\n",
    "\n",
    "Let's take as the solution, where $\\tau$ is the delay in days that $y=0$  at $x=0$ .\n",
    "\n",
    "$$ y = A e^{-a x} \\sin (\\omega (t -\\tau) - a x) $$\n",
    "\n",
    "Set $y = 0$, implying that the argument of the $\\sin$ must be zero. Hence\n",
    "\n",
    "$$ \\omega (t - \\tau) - a x  = 0 $$\n",
    "\n",
    "yielding\n",
    "\n",
    "$$ x = \\frac {\\omega (t - \\tau)} a + n \\pi$$\n",
    "\n",
    "The points in the plot indicate the position where the wave at a particular time intersects the $x$-axis, hence where $y=0$"
   ]
  },
  {
   "cell_type": "code",
   "execution_count": 3,
   "metadata": {},
   "outputs": [
    {
     "data": {
      "image/png": "[encoded data removed]",
      "text/plain": [
       "<Figure size 432x288 with 1 Axes>"
      ]
     },
     "metadata": {
      "needs_background": "light"
     },
     "output_type": "display_data"
    }
   ],
   "source": [
    "x = np.linspace(0, 300, 101)   # m\n",
    "times = np.array([0, 0.333, 0.667]) # d\n",
    "v = omega/a # m/d, wave velocity in the aquifer\n",
    "tau = 0.27 # time step increment for next plot\n",
    "n = 0\n",
    "\n",
    "plt.title(\"Velocity of wave\")\n",
    "plt.xlabel('x [m]')\n",
    "plt.ylabel('y [m]')\n",
    "plt.grid()\n",
    "\n",
    "# for each curve loop over t\n",
    "for t in times:\n",
    "    y = A * np.exp(-a * x) * np.sin(omega * (t + tau) - a * x)    \n",
    "    plt.plot(x, y, label=\"t = {:.1f}, tau = {:.1f} d\".format(t, tau))\n",
    "    \n",
    "# for x positions, we can just compute for all times at once without looping\n",
    "plt.plot(v * (times + tau)           , np.zeros_like(times), 'ro', label='v was used') # v was used\n",
    "plt.plot((omega * (times + tau)) / a , np.zeros_like(times), 'b.', label='postion computed') # position was used\n",
    "    \n",
    "plt.legend()\n",
    "plt.show()"
   ]
  },
  {
   "cell_type": "code",
   "execution_count": null,
   "metadata": {},
   "outputs": [],
   "source": []
  }
 ],
 "metadata": {
  "kernelspec": {
   "display_name": "Python 3",
   "language": "python",
   "name": "python3"
  },
  "language_info": {
   "codemirror_mode": {
    "name": "ipython",
    "version": 3
   },
   "file_extension": ".py",
   "mimetype": "text/x-python",
   "name": "python",
   "nbconvert_exporter": "python",
   "pygments_lexer": "ipython3",
   "version": "3.7.7"
  }
 },
 "nbformat": 4,
 "nbformat_minor": 2
}
