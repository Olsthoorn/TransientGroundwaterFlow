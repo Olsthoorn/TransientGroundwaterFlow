{
 "cells": [
  {
   "cell_type": "markdown",
   "metadata": {},
   "source": [
    "<figure>\n",
    "  <IMG SRC=\"../logo/logo.png\" WIDTH=250 ALIGN=\"right\">\n",
    "</figure>\n",
    "\n",
    "# Some python knowledge, and techniques useful for your assignment"
   ]
  },
  {
   "cell_type": "markdown",
   "metadata": {},
   "source": [
    "    IHE Transient groundwater\n",
    "    @Theo Olsthoorn\n",
    "    2019-01-17\n",
    "    2019-12-21"
   ]
  },
  {
   "cell_type": "markdown",
   "metadata": {
    "toc": true
   },
   "source": [
    "<h1>Table of Contents<span class=\"tocSkip\"></span></h1>\n",
    "<div class=\"toc\"><ul class=\"toc-item\"><li><span><a href=\"#Introduction\" data-toc-modified-id=\"Introduction-1\"><span class=\"toc-item-num\">1&nbsp;&nbsp;</span>Introduction</a></span></li><li><span><a href=\"#Strings-(unchangable-series-of-characters)\" data-toc-modified-id=\"Strings-(unchangable-series-of-characters)-2\"><span class=\"toc-item-num\">2&nbsp;&nbsp;</span>Strings (unchangable series of characters)</a></span></li><li><span><a href=\"#Tuples-(unchangeble-lists)\" data-toc-modified-id=\"Tuples-(unchangeble-lists)-3\"><span class=\"toc-item-num\">3&nbsp;&nbsp;</span>Tuples (unchangeble lists)</a></span></li><li><span><a href=\"#Lists-are-just-like-tuples,-but-can-be-changed-in-place\" data-toc-modified-id=\"Lists-are-just-like-tuples,-but-can-be-changed-in-place-4\"><span class=\"toc-item-num\">4&nbsp;&nbsp;</span>Lists are just like tuples, but can be changed in place</a></span></li><li><span><a href=\"#(numpy)-arrays,-so-called-ndarrays-(multi-dimensional-arrays)\" data-toc-modified-id=\"(numpy)-arrays,-so-called-ndarrays-(multi-dimensional-arrays)-5\"><span class=\"toc-item-num\">5&nbsp;&nbsp;</span>(numpy) arrays, so-called ndarrays (multi-dimensional arrays)</a></span></li><li><span><a href=\"#Some-ways-to-generate-arrays\" data-toc-modified-id=\"Some-ways-to-generate-arrays-6\"><span class=\"toc-item-num\">6&nbsp;&nbsp;</span>Some ways to generate arrays</a></span></li><li><span><a href=\"#For-loops-with-zipping-and-enumerate\" data-toc-modified-id=\"For-loops-with-zipping-and-enumerate-7\"><span class=\"toc-item-num\">7&nbsp;&nbsp;</span>For-loops with zipping and enumerate</a></span></li><li><span><a href=\"#Superposition,-using-logical-indexing-to-handle-switch-times\" data-toc-modified-id=\"Superposition,-using-logical-indexing-to-handle-switch-times-8\"><span class=\"toc-item-num\">8&nbsp;&nbsp;</span>Superposition, using logical indexing to handle switch times</a></span></li><li><span><a href=\"#Some-elegant-logical-indexing,-which-is-extremely-useful\" data-toc-modified-id=\"Some-elegant-logical-indexing,-which-is-extremely-useful-9\"><span class=\"toc-item-num\">9&nbsp;&nbsp;</span>Some elegant logical indexing, which is extremely useful</a></span></li><li><span><a href=\"#List-comprehensions-to-generate-and-filter-lists\" data-toc-modified-id=\"List-comprehensions-to-generate-and-filter-lists-10\"><span class=\"toc-item-num\">10&nbsp;&nbsp;</span>List comprehensions to generate and filter lists</a></span></li><li><span><a href=\"#Conclusions\" data-toc-modified-id=\"Conclusions-11\"><span class=\"toc-item-num\">11&nbsp;&nbsp;</span>Conclusions</a></span></li></ul></div>"
   ]
  },
  {
   "cell_type": "markdown",
   "metadata": {
    "ExecuteTime": {
     "end_time": "2019-01-17T20:55:11.471174Z",
     "start_time": "2019-01-17T20:55:11.468247Z"
    }
   },
   "source": [
    "## Introduction"
   ]
  },
  {
   "cell_type": "markdown",
   "metadata": {},
   "source": [
    "To help you get up and going with your assignment, I explain in this notebook some features of Python and some techniques in Python that will prove useful."
   ]
  },
  {
   "cell_type": "code",
   "execution_count": 2,
   "metadata": {
    "ExecuteTime": {
     "end_time": "2019-01-17T22:53:51.684154Z",
     "start_time": "2019-01-17T22:53:50.849637Z"
    }
   },
   "outputs": [],
   "source": [
    "import numpy as np\n",
    "import matplotlib.pyplot as plt\n",
    "from scipy.special import exp1"
   ]
  },
  {
   "cell_type": "markdown",
   "metadata": {},
   "source": [
    "## Strings (unchangable series of characters)"
   ]
  },
  {
   "cell_type": "code",
   "execution_count": 3,
   "metadata": {
    "ExecuteTime": {
     "end_time": "2019-01-17T22:53:51.691967Z",
     "start_time": "2019-01-17T22:53:51.687207Z"
    }
   },
   "outputs": [
    {
     "name": "stdout",
     "output_type": "stream",
     "text": [
      "This is a string\n"
     ]
    }
   ],
   "source": [
    "a = 'This is a string'\n",
    "print(a)"
   ]
  },
  {
   "cell_type": "markdown",
   "metadata": {},
   "source": [
    "The function `dir(a)` gives all objects associated with `a`, a string. Show only the public ones, i.e. the ones that do not start with '_'.\n",
    "\n",
    "Here are the functions that can be applied on strings. But there is none with which you can change an existing string; you can, however, replace your string it with a new one."
   ]
  },
  {
   "cell_type": "code",
   "execution_count": 4,
   "metadata": {
    "ExecuteTime": {
     "end_time": "2019-01-17T22:53:51.700309Z",
     "start_time": "2019-01-17T22:53:51.695284Z"
    }
   },
   "outputs": [
    {
     "name": "stdout",
     "output_type": "stream",
     "text": [
      "['capitalize', 'casefold', 'center', 'count', 'encode', 'endswith', 'expandtabs', 'find', 'format', 'format_map', 'index', 'isalnum', 'isalpha', 'isascii', 'isdecimal', 'isdigit', 'isidentifier', 'islower', 'isnumeric', 'isprintable', 'isspace', 'istitle', 'isupper', 'join', 'ljust', 'lower', 'lstrip', 'maketrans', 'partition', 'replace', 'rfind', 'rindex', 'rjust', 'rpartition', 'rsplit', 'rstrip', 'split', 'splitlines', 'startswith', 'strip', 'swapcase', 'title', 'translate', 'upper', 'zfill']\n"
     ]
    }
   ],
   "source": [
    "# I use a list comprehension to generate a list from an iterable (see further down\n",
    "# for explanation)\n",
    "methods = [x for x in dir(a) if not x.startswith('_')]\n",
    "print(methods)"
   ]
  },
  {
   "cell_type": "markdown",
   "metadata": {},
   "source": [
    "Now apply some of these so-called string methods on the string `a`."
   ]
  },
  {
   "cell_type": "code",
   "execution_count": 5,
   "metadata": {
    "ExecuteTime": {
     "end_time": "2019-01-17T22:53:51.819628Z",
     "start_time": "2019-01-17T22:53:51.815285Z"
    }
   },
   "outputs": [
    {
     "name": "stdout",
     "output_type": "stream",
     "text": [
      "This Is A String , result is a with capitalized first letter.\n",
      "This is a string , a is still unchanged.\n"
     ]
    }
   ],
   "source": [
    "print(a.title(), \", result is a with capitalized first letter.\")\n",
    "# Note you get a new string, a is still the same\n",
    "print(a, \", a is still unchanged.\")"
   ]
  },
  {
   "cell_type": "code",
   "execution_count": 6,
   "metadata": {
    "ExecuteTime": {
     "end_time": "2019-01-17T22:53:51.887541Z",
     "start_time": "2019-01-17T22:53:51.879991Z"
    }
   },
   "outputs": [
    {
     "data": {
      "text/plain": [
       "'THIS IS A STRING'"
      ]
     },
     "execution_count": 6,
     "metadata": {},
     "output_type": "execute_result"
    }
   ],
   "source": [
    "a.upper()"
   ]
  },
  {
   "cell_type": "code",
   "execution_count": 7,
   "metadata": {
    "ExecuteTime": {
     "end_time": "2019-01-17T22:53:51.944613Z",
     "start_time": "2019-01-17T22:53:51.938955Z"
    }
   },
   "outputs": [
    {
     "data": {
      "text/plain": [
       "['This', 'is', 'a', 'string']"
      ]
     },
     "execution_count": 7,
     "metadata": {},
     "output_type": "execute_result"
    }
   ],
   "source": [
    "a.split() # split the string on whitespace"
   ]
  },
  {
   "cell_type": "code",
   "execution_count": 8,
   "metadata": {
    "ExecuteTime": {
     "end_time": "2019-01-17T22:53:52.008925Z",
     "start_time": "2019-01-17T22:53:52.003477Z"
    }
   },
   "outputs": [
    {
     "data": {
      "text/plain": [
       "False"
      ]
     },
     "execution_count": 8,
     "metadata": {},
     "output_type": "execute_result"
    }
   ],
   "source": [
    "a.startswith('John')"
   ]
  },
  {
   "cell_type": "code",
   "execution_count": 9,
   "metadata": {
    "ExecuteTime": {
     "end_time": "2019-01-17T22:53:52.074796Z",
     "start_time": "2019-01-17T22:53:52.069390Z"
    }
   },
   "outputs": [
    {
     "data": {
      "text/plain": [
       "True"
      ]
     },
     "execution_count": 9,
     "metadata": {},
     "output_type": "execute_result"
    }
   ],
   "source": [
    "a.endswith('ing')"
   ]
  },
  {
   "cell_type": "code",
   "execution_count": 10,
   "metadata": {
    "ExecuteTime": {
     "end_time": "2019-01-17T22:53:52.139030Z",
     "start_time": "2019-01-17T22:53:52.133599Z"
    }
   },
   "outputs": [
    {
     "data": {
      "text/plain": [
       "True"
      ]
     },
     "execution_count": 10,
     "metadata": {},
     "output_type": "execute_result"
    }
   ],
   "source": [
    "a.upper().endswith('ING')"
   ]
  },
  {
   "cell_type": "markdown",
   "metadata": {},
   "source": [
    "Insert values into a string on successive locations indicated by {}. This is done by applying the function `format` on the string. The aguments of `format(..)` are the values that will be formatted and placed in the successive placeholders `{}`.\n",
    "\n",
    "We can put code inside these placeholders to specify how each value should be formatted. Read the documentation to find out. There is a wealth of possibilities."
   ]
  },
  {
   "cell_type": "code",
   "execution_count": 11,
   "metadata": {
    "ExecuteTime": {
     "end_time": "2019-01-17T22:53:52.429986Z",
     "start_time": "2019-01-17T22:53:52.423729Z"
    }
   },
   "outputs": [
    {
     "data": {
      "text/plain": [
       "'Today is Monday 3 Feb in the year 2019.'"
      ]
     },
     "execution_count": 11,
     "metadata": {},
     "output_type": "execute_result"
    }
   ],
   "source": [
    "'Today is {} {} {} in the year {}.'.format('Monday', 3, 'Feb', 2019)"
   ]
  },
  {
   "cell_type": "markdown",
   "metadata": {},
   "source": [
    "## Tuples (unchangeble lists)"
   ]
  },
  {
   "cell_type": "code",
   "execution_count": 12,
   "metadata": {
    "ExecuteTime": {
     "end_time": "2019-01-17T22:53:52.691858Z",
     "start_time": "2019-01-17T22:53:52.686853Z"
    }
   },
   "outputs": [
    {
     "name": "stdout",
     "output_type": "stream",
     "text": [
      "(1, 2, 'a', 'string', array([9, 3, 4]))\n"
     ]
    }
   ],
   "source": [
    "# a tuple is a list with parentheses ()\n",
    "a = (1, 2, 'a', 'string', np.array([9, 3, 4]))\n",
    "print(a)"
   ]
  },
  {
   "cell_type": "code",
   "execution_count": 13,
   "metadata": {
    "ExecuteTime": {
     "end_time": "2019-01-17T22:53:52.759535Z",
     "start_time": "2019-01-17T22:53:52.753886Z"
    }
   },
   "outputs": [
    {
     "name": "stdout",
     "output_type": "stream",
     "text": [
      "1 , first\n",
      "2 , second\n",
      "[9 3 4] , last\n",
      "string , last but one\n"
     ]
    }
   ],
   "source": [
    "# Items can be accessed by referring to them using a numerix index\n",
    "print(a[0], ', first')\n",
    "print(a[1], ', second')\n",
    "print(a[-1], ', last')\n",
    "print(a[-2], ', last but one')"
   ]
  },
  {
   "cell_type": "markdown",
   "metadata": {},
   "source": [
    "Selection of more than one item at once to get a sub-tuple, is done by by\n",
    "slicing like so: a[:] = 'all' of tuple `a`, `a[:5]` means `a` from start up to but not including item 5, `a[4:]` means `a` from item 4 to the last item.\n",
    "\n",
    "Examples"
   ]
  },
  {
   "cell_type": "code",
   "execution_count": 15,
   "metadata": {
    "ExecuteTime": {
     "end_time": "2019-01-17T22:53:53.052604Z",
     "start_time": "2019-01-17T22:53:53.044365Z"
    }
   },
   "outputs": [
    {
     "name": "stdout",
     "output_type": "stream",
     "text": [
      "('a', 'string', array([9, 3, 4])) , third to last\n",
      "(1, 2) , frist up to last but 3\n",
      "1 , first item\n",
      "[9 3 4] , last item\n",
      "('a', 'string', array([9, 3, 4])) , last 3 items\n"
     ]
    }
   ],
   "source": [
    "print(a[2:], ', third to last')\n",
    "print(a[:-3], ', frist up to last but 3')\n",
    "print(a[0], ', first item')\n",
    "print(a[-1], ', last item')\n",
    "print(a[-3:], ', last 3 items')"
   ]
  },
  {
   "cell_type": "markdown",
   "metadata": {},
   "source": [
    "By slicing (with the colon :) you always get a tuple back, unless the result is only a single item, then you get the item itself  a[0:1] would yield the first item (0 up to but not including 1)])"
   ]
  },
  {
   "cell_type": "markdown",
   "metadata": {},
   "source": [
    "A tuple consisting of only one item is indicated with a comma:"
   ]
  },
  {
   "cell_type": "code",
   "execution_count": 16,
   "metadata": {
    "ExecuteTime": {
     "end_time": "2019-01-17T22:53:53.543553Z",
     "start_time": "2019-01-17T22:53:53.538013Z"
    }
   },
   "outputs": [
    {
     "name": "stdout",
     "output_type": "stream",
     "text": [
      "(2,)  b is a tuple, due to the comma\n",
      "2  c is just aa number, not a tuple\n"
     ]
    }
   ],
   "source": [
    "b = (2,)\n",
    "c = (2)\n",
    "print(b, ' b is a tuple, due to the comma')\n",
    "print(c, ' c is just aa number, not a tuple')"
   ]
  },
  {
   "cell_type": "markdown",
   "metadata": {},
   "source": [
    "A series of items separated by comma's is also a tuple, like in the arguments of a function."
   ]
  },
  {
   "cell_type": "code",
   "execution_count": 17,
   "metadata": {
    "ExecuteTime": {
     "end_time": "2019-01-17T22:53:53.906456Z",
     "start_time": "2019-01-17T22:53:53.900409Z"
    }
   },
   "outputs": [
    {
     "data": {
      "text/plain": [
       "(1, 2, 3, 4)"
      ]
     },
     "execution_count": 17,
     "metadata": {},
     "output_type": "execute_result"
    }
   ],
   "source": [
    "1, 2, 3, 4"
   ]
  },
  {
   "cell_type": "markdown",
   "metadata": {},
   "source": [
    "A single number or any single object ended with a comma indicates a tuple of one item"
   ]
  },
  {
   "cell_type": "code",
   "execution_count": 18,
   "metadata": {
    "ExecuteTime": {
     "end_time": "2019-01-17T22:53:54.215790Z",
     "start_time": "2019-01-17T22:53:54.209775Z"
    }
   },
   "outputs": [
    {
     "name": "stdout",
     "output_type": "stream",
     "text": [
      "(3,) <class 'tuple'>\n",
      "('sheep',) <class 'tuple'>\n",
      "sheep <class 'str'>\n"
     ]
    }
   ],
   "source": [
    "a = 3,\n",
    "b = 'sheep',\n",
    "c = 'sheep'  # no comma here\n",
    "print(a, type(a))\n",
    "print(b, type(b))\n",
    "print(c, type(c))"
   ]
  },
  {
   "cell_type": "markdown",
   "metadata": {},
   "source": [
    "## Lists are just like tuples, but can be changed in place"
   ]
  },
  {
   "cell_type": "markdown",
   "metadata": {},
   "source": [
    "Lists are demarcated by straight brackets `[ ]` instead of parentheses `( )`. But they work further exactly like tuples:"
   ]
  },
  {
   "cell_type": "code",
   "execution_count": 19,
   "metadata": {
    "ExecuteTime": {
     "end_time": "2019-01-17T22:53:54.724509Z",
     "start_time": "2019-01-17T22:53:54.718709Z"
    }
   },
   "outputs": [
    {
     "name": "stdout",
     "output_type": "stream",
     "text": [
      "[1, 2, 'a', 'string', array([9, 3, 4])]\n"
     ]
    }
   ],
   "source": [
    "a = [1, 2, 'a', 'string', np.array([9, 3, 4])]  # a list, not a tuple, because it has [..]\n",
    "print(a)"
   ]
  },
  {
   "cell_type": "markdown",
   "metadata": {},
   "source": [
    "Don't use a comma to indicate a list a list of only one item.\n",
    "\n",
    "`[3]` means a list of one item (item = 3)\n",
    "`[3,]` means turn the tuple `(3,)` into a list.\n",
    "It is namely the same as `[(3,)]` because `3,` is same as `(3,)` as was explained above."
   ]
  },
  {
   "cell_type": "code",
   "execution_count": 20,
   "metadata": {
    "ExecuteTime": {
     "end_time": "2019-01-17T22:53:55.006894Z",
     "start_time": "2019-01-17T22:53:55.002282Z"
    }
   },
   "outputs": [
    {
     "name": "stdout",
     "output_type": "stream",
     "text": [
      "[3]\n",
      "[3]\n"
     ]
    }
   ],
   "source": [
    "b = [3,]  # turn tuple (3,) into a list\n",
    "c = [3]   # put item 3 into a list\n",
    "print(b)\n",
    "print(c)"
   ]
  },
  {
   "cell_type": "markdown",
   "metadata": {},
   "source": [
    "A list is changable in place. So you can insert items and extend it or sort it, all in place, which you cannot with a tuple, which you have to replace."
   ]
  },
  {
   "cell_type": "code",
   "execution_count": 21,
   "metadata": {
    "ExecuteTime": {
     "end_time": "2019-01-17T22:53:55.313698Z",
     "start_time": "2019-01-17T22:53:55.307957Z"
    }
   },
   "outputs": [
    {
     "name": "stdout",
     "output_type": "stream",
     "text": [
      "['The', 'quick', 'fox', [['cow', 'chick'], 'bull', 'John', array([4, 3, 2])]]\n"
     ]
    }
   ],
   "source": [
    "a = ['The', 'quick', 'fox']\n",
    "a.append([['cow', 'chick'], 'bull', 'John', np.array([4, 3, 2])])\n",
    "print(a)  "
   ]
  },
  {
   "cell_type": "markdown",
   "metadata": {},
   "source": [
    "Note we have appended an entire list to the list `a` and we did so in-place, meaning that `a` itself has now changed. \n",
    "\n",
    "Notice that a now consists of 4 items. First three strings and then an entire list as the fourth item, which itself also contains items and even a list. But `a` has only four items after the `append()`."
   ]
  },
  {
   "cell_type": "markdown",
   "metadata": {},
   "source": [
    "This is what you can do with a list (dir(a) gives the methods associated with list a, so that the can be applied on `a` with the dot `.`, like `a.count()`, `a.append(..)` etc.):"
   ]
  },
  {
   "cell_type": "code",
   "execution_count": 22,
   "metadata": {
    "ExecuteTime": {
     "end_time": "2019-01-17T22:53:55.835863Z",
     "start_time": "2019-01-17T22:53:55.830916Z"
    }
   },
   "outputs": [
    {
     "name": "stdout",
     "output_type": "stream",
     "text": [
      "['append', 'clear', 'copy', 'count', 'extend', 'index', 'insert', 'pop', 'remove', 'reverse', 'sort']\n"
     ]
    }
   ],
   "source": [
    "c = [x for x in dir(a) if not x.startswith('_')]\n",
    "print(c)"
   ]
  },
  {
   "cell_type": "markdown",
   "metadata": {},
   "source": [
    "Here is what you can do with a tuple"
   ]
  },
  {
   "cell_type": "code",
   "execution_count": 23,
   "metadata": {
    "ExecuteTime": {
     "end_time": "2019-01-17T22:53:56.135057Z",
     "start_time": "2019-01-17T22:53:56.128635Z"
    }
   },
   "outputs": [
    {
     "name": "stdout",
     "output_type": "stream",
     "text": [
      "['The', 'quick', 'fox', [['cow', 'chick'], 'bull', 'John', array([4, 3, 2])]]\n",
      "('The', 'quick', 'fox', [['cow', 'chick'], 'bull', 'John', array([4, 3, 2])])\n",
      "\n",
      "Methods associated with tuples:\n",
      "['count', 'index']\n"
     ]
    }
   ],
   "source": [
    "b = tuple(a) # assign to b the tuple version of a (but that does not change a)\n",
    "print(a)\n",
    "print(b)\n",
    "\n",
    "# Methods associated with a tuple of which `c` is an instantiation\n",
    "print()\n",
    "print('Methods associated with tuples:')\n",
    "c = [x for x in dir(b) if not x.startswith('_')]\n",
    "print(c)"
   ]
  },
  {
   "cell_type": "markdown",
   "metadata": {},
   "source": [
    "Only count and index, no append insert or pop or sort, i.e. anything that could alter the tuple.\n",
    "\n",
    "Hence, trying to append something tuple `b` won't work. But we can replace `b`."
   ]
  },
  {
   "cell_type": "code",
   "execution_count": 24,
   "metadata": {
    "ExecuteTime": {
     "end_time": "2019-01-17T22:53:56.437283Z",
     "start_time": "2019-01-17T22:53:56.433354Z"
    }
   },
   "outputs": [],
   "source": [
    "#('one', 'two').append('cow') # this gives an error, because a tuple has no attribute 'append'\n",
    "['one', 'two'].append('three') # works"
   ]
  },
  {
   "cell_type": "markdown",
   "metadata": {},
   "source": [
    "However, because append changes the list in place, it does not produce output so we have no result unless we assign the list to a variable."
   ]
  },
  {
   "cell_type": "code",
   "execution_count": 25,
   "metadata": {
    "ExecuteTime": {
     "end_time": "2019-01-17T22:53:56.748847Z",
     "start_time": "2019-01-17T22:53:56.743010Z"
    }
   },
   "outputs": [
    {
     "name": "stdout",
     "output_type": "stream",
     "text": [
      "None , This is \"b\", it is a \"None\" because a.append() changes \"a\" in place and yields no output.\n",
      "['one', 'two', 'cow'] , This is \"a\", it was changed in place.\n"
     ]
    }
   ],
   "source": [
    "a = ['one', 'two']\n",
    "b = a.append('cow')\n",
    "print(b, ', This is \"b\", it is a \"None\" because a.append()',\n",
    "              'changes \"a\" in place and yields no output.')\n",
    "print(a, ', This is \"a\", it was changed in place.')"
   ]
  },
  {
   "cell_type": "markdown",
   "metadata": {},
   "source": [
    "# Numpy arrays, so-called ndarrays (n-dimensional arrays)"
   ]
  },
  {
   "cell_type": "markdown",
   "metadata": {},
   "source": [
    "Arrays may look like lists, but they are not. In a lists each item can be of a different type, as was shown above, but in an array all items must be of the same type like floating point numbers. An array forms one contiguous block in memory, in which each item occupies the same number of bytes (a floating point number occupies 8 bytes, an integer 4 bytes). This means that items can be accessed at full speed using indexing and slicing. You can also add arrays of the same size together, take the power on a whole array or other functions etc. You cannot do this with a list, because items in the list may be of completely different types. In fact, the items in the list are stored on different locations in memory, while the list is just a number of pointers that indicate these places in memory so that they can be accessed indirectly, yet still quite fast."
   ]
  },
  {
   "cell_type": "markdown",
   "metadata": {},
   "source": [
    "If you multiply a list, you copy the list and append it like so:"
   ]
  },
  {
   "cell_type": "code",
   "execution_count": 26,
   "metadata": {
    "ExecuteTime": {
     "end_time": "2019-01-17T22:53:57.537210Z",
     "start_time": "2019-01-17T22:53:57.532082Z"
    }
   },
   "outputs": [
    {
     "name": "stdout",
     "output_type": "stream",
     "text": [
      "5 times list a = [3, 2, 5, 'a', 'horse', 3, 2, 5, 'a', 'horse', 3, 2, 5, 'a', 'horse', 3, 2, 5, 'a', 'horse', 3, 2, 5, 'a', 'horse']\n",
      "\n",
      "a + a + a =  [3, 2, 5, 'a', 'horse', 3, 2, 5, 'a', 'horse', 3, 2, 5, 'a', 'horse']\n"
     ]
    }
   ],
   "source": [
    "a = [3, 2, 5, 'a', 'horse']\n",
    "print('5 times list a =', 5 * a)\n",
    "print()\n",
    "print('a + a + a = ', a + a + a)"
   ]
  },
  {
   "cell_type": "markdown",
   "metadata": {},
   "source": [
    "But if you multiply an array, then each item in the array is multiplied as expected.\n",
    "\n",
    "First generate an array (a numpy ndarray):"
   ]
  },
  {
   "cell_type": "code",
   "execution_count": 27,
   "metadata": {
    "ExecuteTime": {
     "end_time": "2019-01-17T22:53:57.824540Z",
     "start_time": "2019-01-17T22:53:57.820132Z"
    }
   },
   "outputs": [],
   "source": [
    "b = np.array([3, 4, 5, 2, 9, 8])"
   ]
  },
  {
   "cell_type": "markdown",
   "metadata": {},
   "source": [
    "`b` is not a list, but an array, because `np.array(..)` function turns the given list into an array."
   ]
  },
  {
   "cell_type": "code",
   "execution_count": 28,
   "metadata": {
    "ExecuteTime": {
     "end_time": "2019-01-17T22:53:58.129407Z",
     "start_time": "2019-01-17T22:53:58.124854Z"
    }
   },
   "outputs": [
    {
     "name": "stdout",
     "output_type": "stream",
     "text": [
      "<class 'list'>\n",
      "<class 'numpy.ndarray'>\n"
     ]
    }
   ],
   "source": [
    "print(type(a))\n",
    "print(type(b))"
   ]
  },
  {
   "cell_type": "code",
   "execution_count": 29,
   "metadata": {
    "ExecuteTime": {
     "end_time": "2019-01-17T22:53:58.195968Z",
     "start_time": "2019-01-17T22:53:58.191562Z"
    }
   },
   "outputs": [
    {
     "name": "stdout",
     "output_type": "stream",
     "text": [
      "5 times b = [15 20 25 10 45 40]\n"
     ]
    }
   ],
   "source": [
    "print('5 times b =', 5 * b)"
   ]
  },
  {
   "cell_type": "code",
   "execution_count": 30,
   "metadata": {
    "ExecuteTime": {
     "end_time": "2019-01-17T22:53:58.286931Z",
     "start_time": "2019-01-17T22:53:58.251816Z"
    }
   },
   "outputs": [
    {
     "name": "stdout",
     "output_type": "stream",
     "text": [
      "b + b + b = [ 9 12 15  6 27 24]\n"
     ]
    }
   ],
   "source": [
    "print('b + b + b =', b + b + b)"
   ]
  },
  {
   "cell_type": "code",
   "execution_count": 31,
   "metadata": {
    "ExecuteTime": {
     "end_time": "2019-01-17T22:53:58.319385Z",
     "start_time": "2019-01-17T22:53:58.314490Z"
    }
   },
   "outputs": [
    {
     "name": "stdout",
     "output_type": "stream",
     "text": [
      "b * 2 * b**3 =  [  162   512  1250    32 13122  8192]\n"
     ]
    }
   ],
   "source": [
    "print('b * 2 * b**3 = ', b * 2 * b ** 3)"
   ]
  },
  {
   "cell_type": "code",
   "execution_count": 32,
   "metadata": {
    "ExecuteTime": {
     "end_time": "2019-01-17T22:53:58.381788Z",
     "start_time": "2019-01-17T22:53:58.376841Z"
    }
   },
   "outputs": [
    {
     "name": "stdout",
     "output_type": "stream",
     "text": [
      "[1.73205081 2.         2.23606798 1.41421356 3.         2.82842712]\n"
     ]
    }
   ],
   "source": [
    "print(np.sqrt(b))"
   ]
  },
  {
   "cell_type": "code",
   "execution_count": 33,
   "metadata": {
    "ExecuteTime": {
     "end_time": "2019-01-17T22:53:58.450186Z",
     "start_time": "2019-01-17T22:53:58.444270Z"
    }
   },
   "outputs": [
    {
     "name": "stdout",
     "output_type": "stream",
     "text": [
      "[0.02021246 0.02694853 0.03368336 0.01347549 0.06060436 0.05387748]\n"
     ]
    }
   ],
   "source": [
    "print(np.sin(b * np.exp(-5)))"
   ]
  },
  {
   "cell_type": "markdown",
   "metadata": {},
   "source": [
    "## Some ways to generate arrays"
   ]
  },
  {
   "cell_type": "code",
   "execution_count": 34,
   "metadata": {
    "ExecuteTime": {
     "end_time": "2019-01-17T22:53:58.768760Z",
     "start_time": "2019-01-17T22:53:58.764048Z"
    }
   },
   "outputs": [
    {
     "name": "stdout",
     "output_type": "stream",
     "text": [
      "[3 2 4 5]\n"
     ]
    }
   ],
   "source": [
    "# Tell numpy to convert a list or a tuple into an array\n",
    "a = np.array([3, 2, 4, 5])\n",
    "print(a)"
   ]
  },
  {
   "cell_type": "code",
   "execution_count": 35,
   "metadata": {
    "ExecuteTime": {
     "end_time": "2019-01-17T22:53:58.829885Z",
     "start_time": "2019-01-17T22:53:58.824533Z"
    }
   },
   "outputs": [
    {
     "name": "stdout",
     "output_type": "stream",
     "text": [
      "[3.  3.3 3.6 3.9 4.2 4.5 4.8 5.1 5.4 5.7 6.  6.3 6.6 6.9]\n"
     ]
    }
   ],
   "source": [
    "a = np.arange(3, 7, 0.3) # start at 3 upto (not including 7, with steps of 0.3)\n",
    "print(a)"
   ]
  },
  {
   "cell_type": "code",
   "execution_count": 36,
   "metadata": {
    "ExecuteTime": {
     "end_time": "2019-01-17T22:53:58.895511Z",
     "start_time": "2019-01-17T22:53:58.890559Z"
    }
   },
   "outputs": [
    {
     "name": "stdout",
     "output_type": "stream",
     "text": [
      "[1.  1.3 1.6 1.9 2.2 2.5 2.8 3.1 3.4 3.7 4. ]\n"
     ]
    }
   ],
   "source": [
    "a = np.linspace(1, 4, 11) # give 11 points starting at 1 and ending at 4\n",
    "print(a)"
   ]
  },
  {
   "cell_type": "code",
   "execution_count": 37,
   "metadata": {
    "ExecuteTime": {
     "end_time": "2019-01-17T22:53:58.961649Z",
     "start_time": "2019-01-17T22:53:58.955194Z"
    }
   },
   "outputs": [
    {
     "name": "stdout",
     "output_type": "stream",
     "text": [
      "[ 0.01        0.01258925  0.01584893  0.01995262  0.02511886  0.03162278\n",
      "  0.03981072  0.05011872  0.06309573  0.07943282  0.1         0.12589254\n",
      "  0.15848932  0.19952623  0.25118864  0.31622777  0.39810717  0.50118723\n",
      "  0.63095734  0.79432823  1.          1.25892541  1.58489319  1.99526231\n",
      "  2.51188643  3.16227766  3.98107171  5.01187234  6.30957344  7.94328235\n",
      " 10.        ]\n"
     ]
    }
   ],
   "source": [
    "a = np.logspace(-2, 1, 31) # 10**(-2) to 10**1 in 30 steps (31 values)\n",
    "print(a)"
   ]
  },
  {
   "cell_type": "code",
   "execution_count": 38,
   "metadata": {
    "ExecuteTime": {
     "end_time": "2019-01-17T22:53:59.024368Z",
     "start_time": "2019-01-17T22:53:59.018686Z"
    }
   },
   "outputs": [
    {
     "name": "stdout",
     "output_type": "stream",
     "text": [
      "[0. 0. 0. 0. 0. 0. 0. 0. 0. 0. 0. 0. 0. 0. 0. 0. 0. 0. 0. 0. 0. 0. 0. 0.\n",
      " 0. 0. 0. 0. 0. 0. 0.]\n"
     ]
    }
   ],
   "source": [
    "a = np.zeros_like(a)\n",
    "print(a)"
   ]
  },
  {
   "cell_type": "code",
   "execution_count": 39,
   "metadata": {
    "ExecuteTime": {
     "end_time": "2019-01-17T22:53:59.097335Z",
     "start_time": "2019-01-17T22:53:59.091946Z"
    }
   },
   "outputs": [
    {
     "name": "stdout",
     "output_type": "stream",
     "text": [
      "[[5. 5.]\n",
      " [5. 5.]\n",
      " [5. 5.]]\n"
     ]
    }
   ],
   "source": [
    "a = 5 * np.ones((3, 2)) # 2D array with 3 rows and 2 columns\n",
    "print(a)"
   ]
  },
  {
   "cell_type": "code",
   "execution_count": 40,
   "metadata": {
    "ExecuteTime": {
     "end_time": "2019-01-17T22:53:59.164534Z",
     "start_time": "2019-01-17T22:53:59.160010Z"
    }
   },
   "outputs": [
    {
     "name": "stdout",
     "output_type": "stream",
     "text": [
      "[[5.         3.14159265]\n",
      " [5.         3.14159265]\n",
      " [5.         3.14159265]]\n"
     ]
    }
   ],
   "source": [
    "a[:, 1] = np.pi # replace all rows of column 2 (with index 1) by np.pi\n",
    "print(a)"
   ]
  },
  {
   "cell_type": "code",
   "execution_count": 41,
   "metadata": {
    "ExecuteTime": {
     "end_time": "2019-01-17T22:53:59.235131Z",
     "start_time": "2019-01-17T22:53:59.230051Z"
    }
   },
   "outputs": [
    {
     "name": "stdout",
     "output_type": "stream",
     "text": [
      "[[-1.2246468e-15  7.7685322e-01]\n",
      " [-1.2246468e-15  7.7685322e-01]\n",
      " [-1.2246468e-15  7.7685322e-01]]\n"
     ]
    }
   ],
   "source": [
    "b = np.sin(2 * np.pi * a) # apply function on all values in array\n",
    "print(b)"
   ]
  },
  {
   "cell_type": "markdown",
   "metadata": {},
   "source": [
    "## For-loops with zipping and enumerate"
   ]
  },
  {
   "cell_type": "markdown",
   "metadata": {},
   "source": [
    "A for loop cycles over an iterable, which is something you can iterate over like a `list`, a `tuple`, an `array`, a `string`. Here are some examples."
   ]
  },
  {
   "cell_type": "code",
   "execution_count": 42,
   "metadata": {
    "ExecuteTime": {
     "end_time": "2019-01-17T22:53:59.885666Z",
     "start_time": "2019-01-17T22:53:59.876943Z"
    }
   },
   "outputs": [
    {
     "name": "stdout",
     "output_type": "stream",
     "text": [
      "1 3 5 4 6 2 2 "
     ]
    }
   ],
   "source": [
    "a = [1, 3, 5, 4, 6, 2, 2]  # a list, this is a so-called iterable\n",
    "b = np.array(a)   # turn list a into an array, an array is also an iterable\n",
    "c = ['a', 'bear', 'c', 'd', 'echo', 'f', 'gulf'] # list of strings\n",
    "for x in a:\n",
    "    print(x, end=' ')"
   ]
  },
  {
   "cell_type": "markdown",
   "metadata": {},
   "source": [
    "In each new cycle of the loop, the next item of the iterble is taken and can be used inside the loop. But very often we have a set of iterable like the array of x-coordinates of the wells, the array of y-coordinates of the wells and the list of extractions from the wells. In each cycle of the loop we need the next `x`, the next `y` and the next `Q` at the same time. To deal with such a set of iterables in a loop just put them in a `zip(..)` function."
   ]
  },
  {
   "cell_type": "code",
   "execution_count": 43,
   "metadata": {
    "ExecuteTime": {
     "end_time": "2019-01-17T22:54:00.290895Z",
     "start_time": "2019-01-17T22:54:00.284776Z"
    }
   },
   "outputs": [
    {
     "name": "stdout",
     "output_type": "stream",
     "text": [
      "[1, 1, 'a']\n",
      "[3, 3, 'bear']\n",
      "[5, 5, 'c']\n",
      "[4, 4, 'd']\n",
      "[6, 6, 'echo']\n",
      "[2, 2, 'f']\n",
      "[2, 2, 'gulf']\n"
     ]
    }
   ],
   "source": [
    "for aa, bb, cc in zip(a, b, c): # a, b, c are iterables, aa, bb and cc are items\n",
    "    print([aa, bb, cc])"
   ]
  },
  {
   "cell_type": "markdown",
   "metadata": {},
   "source": [
    "Oftentimes you not only want the next times from the iterable but also have a counter, an index while looping. This counter can be obtained by packing the `iterable` or the entire `zip(..)` with all its iterables in an `enumerate(..)` function. Note that counting starts with 0 in python, not 1."
   ]
  },
  {
   "cell_type": "code",
   "execution_count": 44,
   "metadata": {
    "ExecuteTime": {
     "end_time": "2019-01-17T22:54:00.648674Z",
     "start_time": "2019-01-17T22:54:00.642826Z"
    }
   },
   "outputs": [
    {
     "name": "stdout",
     "output_type": "stream",
     "text": [
      "[0, 1, 1, 'a']\n",
      "[1, 3, 3, 'bear']\n",
      "[2, 5, 5, 'c']\n",
      "[3, 4, 4, 'd']\n",
      "[4, 6, 6, 'echo']\n",
      "[5, 2, 2, 'f']\n",
      "[6, 2, 2, 'gulf']\n"
     ]
    }
   ],
   "source": [
    "for i, (aa, bb, cc) in enumerate(zip(a, b, c)):\n",
    "    print([i, aa, bb, cc])"
   ]
  },
  {
   "cell_type": "markdown",
   "metadata": {},
   "source": [
    "This type of  looping is efficient and extremely useful in practice. For instance we have 5 wells so 5 x vales, 5 y values 5 flows for which we want the `drawdown s` at a given point `x0`, `y0`"
   ]
  },
  {
   "cell_type": "code",
   "execution_count": 43,
   "metadata": {
    "ExecuteTime": {
     "end_time": "2019-01-17T22:54:01.285385Z",
     "start_time": "2019-01-17T22:54:01.010271Z"
    }
   },
   "outputs": [
    {
     "data": {
      "image/png": "[encoded data removed]",
      "text/plain": [
       "<Figure size 432x288 with 1 Axes>"
      ]
     },
     "metadata": {
      "needs_background": "light"
     },
     "output_type": "display_data"
    }
   ],
   "source": [
    "kD = 600 # m2/d\n",
    "S  = 0.1\n",
    "t = 1.3 # d\n",
    "xWells = [34, 123, 45. -70, -80.]\n",
    "yWells = [-23., 45., -50., -30., 20.]\n",
    "Qwells = [1200, 600., 350., 1200., 300]\n",
    "\n",
    "x0, y0 = 0.3, 6.7  # multiple assignment, handy\n",
    "\n",
    "times = [0.1, 0.25, 0.3, 0.5, 0.8, 0.82, 0.9, 1.0] # days\n",
    "\n",
    "# plot individual times as a dot\n",
    "plt.title('drawdown')\n",
    "plt.xlabel('time [d]')\n",
    "plt.ylabel('drawdown s[m]')\n",
    "plt.grid()\n",
    "\n",
    "for t in times:\n",
    "    s = 0\n",
    "    for xw, yw, Qw in zip(xWells, yWells, Qwells):\n",
    "        r = np.sqrt((x0 - xw)**2 + (y0 - yw)**2)\n",
    "        s += Qw / (4 * np.pi * kD) * exp1(r**2 * S / (4 * kD * t))\n",
    "    plt.plot(t, s, 'o') # plot the point as a dot, color is automatic\n",
    "    \n",
    "plt.show()\n",
    "\n"
   ]
  },
  {
   "cell_type": "markdown",
   "metadata": {},
   "source": [
    "## Superposition, using logical indexing to handle switch times"
   ]
  },
  {
   "cell_type": "markdown",
   "metadata": {},
   "source": [
    "When dealing with superposition, we have a set of so called `switch times` at which the `boundary conditions` change and we have an `array of times` with values at small intervals to obtain sufficient values to produce a nice, detailed graph.\n",
    "\n",
    "During the superposition loop, we need to obtain the results of for instance the head change `s` at times larger than the the switch time, e.g. `st3` when the well was swithed on. We compute its results for times `t - st3`, but only for those times for which `t > st3`.\n",
    "\n",
    "We can select those times by logical indexing. That is, if `t` is an array of times and `ts3` is a single time, then `t > ts3` is an array of booleans, an array of True/False values of the same size as the array `t`, such that the elements that are True correspond with the condition `t > ts3`. We can then address the correct values of an array `s`, which has the same size as the array `t`. We do this like so `s[t > ts3]`. Or, in two steps: `I = t > ts3` and then select the right values like so `s[I]`."
   ]
  },
  {
   "cell_type": "code",
   "execution_count": 44,
   "metadata": {
    "ExecuteTime": {
     "end_time": "2019-01-17T22:54:01.678018Z",
     "start_time": "2019-01-17T22:54:01.670954Z"
    }
   },
   "outputs": [],
   "source": [
    "times = np.linspace(0, 360, 361) # from 0 to 360, 361 points (1 d interval)\n",
    "swt = [0, 30, 34, 60, 90, 96, 110, 150, 200, 220, 300, 305, 330]\n",
    "Q   = np.array([300, 0, 200, 50, -30, 120, 50, 60, 150, 35, -50, 100, 0])\n",
    "\n",
    "# changes of flow. hstack((a, b)) glues two arrays or a value and array together\n",
    "dQ = np.hstack((Q[0], np.diff(Q)))\n",
    "#print('dQ = ', dQ)"
   ]
  },
  {
   "cell_type": "code",
   "execution_count": 45,
   "metadata": {
    "ExecuteTime": {
     "end_time": "2019-01-17T22:54:02.162151Z",
     "start_time": "2019-01-17T22:54:01.888135Z"
    }
   },
   "outputs": [
    {
     "data": {
      "image/png": "[encoded data removed]",
      "text/plain": [
       "<Figure size 432x288 with 1 Axes>"
      ]
     },
     "metadata": {
      "needs_background": "light"
     },
     "output_type": "display_data"
    }
   ],
   "source": [
    "xw, yw, x0, y0 = 100, 50, 0.5, -3 # assigning all at once, well and obs point coordinates\n",
    "r = np.sqrt((xw - x0)**2 + (yw - y0)**2)\n",
    "\n",
    "# set up the plot\n",
    "plt.title('Superposition in time, one well, many switches')\n",
    "plt.xlabel('time [d]')\n",
    "plt.ylabel('drawdown [d]')\n",
    "plt.xlim((0, 600))\n",
    "plt.grid()\n",
    "\n",
    "# Initialize the head changes to an array of all zeroes\n",
    "s = np.zeros_like(times)\n",
    "\n",
    "# Do the superposition\n",
    "for st, Q in zip(swt, dQ):\n",
    "    I = times > st  # logical array I telling which times > st\n",
    "    # print(I) # shows the booleans\n",
    "    \n",
    "    # effect of this well only, note times[I] are used onlyu\n",
    "    ds = Q/(4 * np.pi * kD) * exp1(r**2 * S /(4 * kD * times[I] - st))\n",
    "    #plt.plot(times[I], ds, label='st = {:.0f} d'.format(st))\n",
    "    \n",
    "    s[I] += ds # add them to s pertaining to the right times[I] !!\n",
    "plt.plot(times, s, 'k', lw=3, label='total')\n",
    "plt.legend()\n",
    "plt.show()\n",
    "    "
   ]
  },
  {
   "cell_type": "markdown",
   "metadata": {},
   "source": [
    "It's extremely useful to get used to logical indexing of arrays. A logical index is an array of booleans (i.e. True/False values) of the same shape as the target arrays that can be used as indices. Like so"
   ]
  },
  {
   "cell_type": "markdown",
   "metadata": {},
   "source": [
    "## Some elegant logical indexing, which is extremely useful"
   ]
  },
  {
   "cell_type": "code",
   "execution_count": 46,
   "metadata": {
    "ExecuteTime": {
     "end_time": "2019-01-17T22:54:02.567871Z",
     "start_time": "2019-01-17T22:54:02.561515Z"
    }
   },
   "outputs": [
    {
     "name": "stdout",
     "output_type": "stream",
     "text": [
      "[False  True False  True  True  True  True False  True]\n"
     ]
    }
   ],
   "source": [
    "a = np.array([-3, 2, -1, 1.2, 3.2, 0.7, 3.2, -3, 5.1])\n",
    "I = a > 0.15 # this yields a boolean array I\n",
    "print(I)"
   ]
  },
  {
   "cell_type": "markdown",
   "metadata": {},
   "source": [
    "Then use the boolean array to pick values"
   ]
  },
  {
   "cell_type": "code",
   "execution_count": 47,
   "metadata": {
    "ExecuteTime": {
     "end_time": "2019-01-17T22:54:02.960709Z",
     "start_time": "2019-01-17T22:54:02.953916Z"
    }
   },
   "outputs": [
    {
     "name": "stdout",
     "output_type": "stream",
     "text": [
      "[2.  1.2 3.2 0.7 3.2 5.1]\n",
      "[2.  1.2 3.2 0.7 3.2 5.1]\n"
     ]
    }
   ],
   "source": [
    "b = a[I]\n",
    "print(b)\n",
    "print(a[a > 0.15]) # read \"a where a > 0.15\""
   ]
  },
  {
   "cell_type": "markdown",
   "metadata": {},
   "source": [
    "We applied logical indexing above to select the times that were greater than ts, and did something with those times only.\n",
    "\n",
    "Note that while the boolean array is as along as the target array. So boolean array `I` is as long as floating point array `a`, `a[I]` is smaller, i.e. it's as long as the number of True values in `I`"
   ]
  },
  {
   "cell_type": "code",
   "execution_count": 48,
   "metadata": {
    "ExecuteTime": {
     "end_time": "2019-01-17T22:54:03.316839Z",
     "start_time": "2019-01-17T22:54:03.310892Z"
    }
   },
   "outputs": [
    {
     "name": "stdout",
     "output_type": "stream",
     "text": [
      "a.shape =  (9,)\n",
      "I.shape = (9,)\n",
      "Number of True values in I: 6\n",
      "Number of values in array a[I]:  (6,)\n",
      "Number of values in array a[I]:  6\n"
     ]
    }
   ],
   "source": [
    "print('a.shape = ', a.shape) # yields a tuple with the array dimensions here, just 9\n",
    "print('I.shape =', I.shape)\n",
    "print('Number of True values in I:', np.sum(I)) # True becomes 1 in computations\n",
    "print('Number of values in array a[I]: ', a[I].shape) # shape yields a tuple\n",
    "print('Number of values in array a[I]: ', len(a[I]))  # len yiels an integer"
   ]
  },
  {
   "cell_type": "markdown",
   "metadata": {},
   "source": [
    "Here's an example of elegant usage of logical indexing to select subareas."
   ]
  },
  {
   "cell_type": "code",
   "execution_count": 49,
   "metadata": {
    "ExecuteTime": {
     "end_time": "2019-01-17T22:54:03.979704Z",
     "start_time": "2019-01-17T22:54:03.669152Z"
    }
   },
   "outputs": [
    {
     "data": {
      "image/png": "[encoded data removed]",
      "text/plain": [
       "<Figure size 432x288 with 1 Axes>"
      ]
     },
     "metadata": {
      "needs_background": "light"
     },
     "output_type": "display_data"
    }
   ],
   "source": [
    "x = np.linspace(-200, 1000, 241) #; print(x)\n",
    "y = np.random.rand(len(x)) * 1000 # randon number as many as there are x-values\n",
    "\n",
    "# logical indexing, specifying subarea, names are intuitive\n",
    "sea = x < 0\n",
    "dunes = np.logical_and(x > 0, x <=300)\n",
    "grass = np.logical_and(x > 300, x < 500)\n",
    "urban = x >= 500\n",
    "\n",
    "plt.title('Area with dots')\n",
    "plt.xlabel('x [m]')\n",
    "plt.ylabel('y [m]')\n",
    "plt.grid()\n",
    "\n",
    "plt.plot(x[sea], y[sea], 'b.', label='sea')           # b. means blue as dots\n",
    "plt.plot(x[dunes], y[dunes], 'y.', label='dune area') # y. means yellow as dots\n",
    "plt.plot(x[grass], y[grass], 'g.', label = 'meadows') # g. means green as dots\n",
    "plt.plot(x[urban], y[urban], 'm.' , label= 'urban')   # m. means magenta as dots\n",
    "\n",
    "plt.legend()\n",
    "plt.show()"
   ]
  },
  {
   "cell_type": "markdown",
   "metadata": {},
   "source": [
    "## List comprehensions to generate and filter lists"
   ]
  },
  {
   "cell_type": "markdown",
   "metadata": {},
   "source": [
    "Start with an `iterable`, here an array, but it could by any `iterable` like a `tuple` or an `list`. An iterable is any object that can be iterated over (list, tuple, array, dictionary, even a tring)"
   ]
  },
  {
   "cell_type": "code",
   "execution_count": 50,
   "metadata": {
    "ExecuteTime": {
     "end_time": "2019-01-17T22:54:04.312566Z",
     "start_time": "2019-01-17T22:54:04.308864Z"
    }
   },
   "outputs": [],
   "source": [
    "a = np.array([-3, 2, -1, 1.2, 3.2, 0.7, 3.2, -3, 5.1])"
   ]
  },
  {
   "cell_type": "markdown",
   "metadata": {},
   "source": [
    "By way of trivial start, generate a `list` from the `items` in this `iterable`"
   ]
  },
  {
   "cell_type": "code",
   "execution_count": 51,
   "metadata": {
    "ExecuteTime": {
     "end_time": "2019-01-17T22:54:04.664246Z",
     "start_time": "2019-01-17T22:54:04.659271Z"
    }
   },
   "outputs": [
    {
     "name": "stdout",
     "output_type": "stream",
     "text": [
      "b =  [-3.0, 2.0, -1.0, 1.2, 3.2, 0.7, 3.2, -3.0, 5.1]\n"
     ]
    }
   ],
   "source": [
    "b = [y for y in a] # the most basic list comprehension, b will be the same as a\n",
    "print('b = ', b)"
   ]
  },
  {
   "cell_type": "markdown",
   "metadata": {},
   "source": [
    "Notice that `b` is not an array, it is now a `list`. Use `np.array(b)` to make it an `array` if you need it.\n",
    "\n",
    "Next, select only the items from the array `a` that are larger than some value. This is called `filtering` the `iterable`:"
   ]
  },
  {
   "cell_type": "code",
   "execution_count": 52,
   "metadata": {
    "ExecuteTime": {
     "end_time": "2019-01-17T22:54:05.014818Z",
     "start_time": "2019-01-17T22:54:05.009522Z"
    }
   },
   "outputs": [
    {
     "name": "stdout",
     "output_type": "stream",
     "text": [
      "b =  [2.0, 1.2, 3.2, 3.2, 5.1]\n"
     ]
    }
   ],
   "source": [
    "b = [x for x in a if x > 1.1] # same but filtering out some values according to condition\n",
    "print('b = ', b)"
   ]
  },
  {
   "cell_type": "markdown",
   "metadata": {},
   "source": [
    "And of course, you now got a list which is a bit shorter.\n",
    "\n",
    "While get the items one by one in the comprehension, you may be tempted to do something with them before putting them in the new list. Here we take the logarithm of each item and we only take the items that fulfill the if-criterion of the comprehension."
   ]
  },
  {
   "cell_type": "code",
   "execution_count": 53,
   "metadata": {
    "ExecuteTime": {
     "end_time": "2019-01-17T22:54:05.384364Z",
     "start_time": "2019-01-17T22:54:05.378797Z"
    }
   },
   "outputs": [
    {
     "name": "stdout",
     "output_type": "stream",
     "text": [
      "[1.3862943611198906, 0.36464311358790924, 2.3263016196113617, -0.7133498878774649, 2.3263016196113617, 3.25848107946056]\n"
     ]
    }
   ],
   "source": [
    "c = [np.log(x**2) for x in a if x > 0]\n",
    "print(c)"
   ]
  },
  {
   "cell_type": "markdown",
   "metadata": {},
   "source": [
    "From this example it becomes clear that comprehensions can be really advanced and are very flexible.\n",
    "\n",
    "As another example, we take only the items of type `str` and then convert these strings into their uppercase variants before putting them in the list:"
   ]
  },
  {
   "cell_type": "code",
   "execution_count": 45,
   "metadata": {
    "ExecuteTime": {
     "end_time": "2019-01-17T22:54:05.720606Z",
     "start_time": "2019-01-17T22:54:05.713112Z"
    }
   },
   "outputs": [
    {
     "data": {
      "text/plain": [
       "['AHA', 'JOHN']"
      ]
     },
     "execution_count": 45,
     "metadata": {},
     "output_type": "execute_result"
    }
   ],
   "source": [
    "a = ['aha', 1, np.array([3, 4.2]), 'John'] # list with objects of different type\n",
    "[x.upper() for x in a if isinstance(x, str)] # get the strings from the list of items in uppercase"
   ]
  },
  {
   "cell_type": "markdown",
   "metadata": {},
   "source": [
    "Clearly, comprehensions are extremely flexible for generating new lists from iterables (an iterable can be a list, tuple, array, string, i.e. is somethign you can iterate over like in `for this in that`. Then `that` is the iterable and `this` is an item from the iterable.\n",
    "\n",
    "You can always turn the obtained list into an array if it contains only numbers:"
   ]
  },
  {
   "cell_type": "code",
   "execution_count": 47,
   "metadata": {
    "ExecuteTime": {
     "end_time": "2019-01-17T22:54:06.051327Z",
     "start_time": "2019-01-17T22:54:06.046627Z"
    }
   },
   "outputs": [
    {
     "name": "stdout",
     "output_type": "stream",
     "text": [
      "[0.39605629 0.66880689 0.92567026 0.75158704 0.18296602 0.14964174\n",
      " 0.52695991 0.3808346  0.2379575  0.44201234]\n"
     ]
    }
   ],
   "source": [
    "a = np.random.rand(10) # get 10 random numbers from the uniform distribuion\n",
    "print(a)"
   ]
  },
  {
   "cell_type": "code",
   "execution_count": 49,
   "metadata": {
    "ExecuteTime": {
     "end_time": "2019-01-17T22:54:06.121350Z",
     "start_time": "2019-01-17T22:54:06.113483Z"
    }
   },
   "outputs": [
    {
     "name": "stdout",
     "output_type": "stream",
     "text": [
      "b =  [0.3960562948712396, 0.6688068923500693, 0.9256702599542646, 0.7515870365524279, 0.5269599105502053, 0.3808345999963523, 0.2379575044928054, 0.4420123401959961]\n",
      "\n",
      "c =  [0.39605629 0.66880689 0.92567026 0.75158704 0.52695991 0.3808346\n",
      " 0.2379575  0.44201234]\n",
      "\n",
      "d =  ['y = 0.40', 'y = 0.18', 'y = 0.15', 'y = 0.38', 'y = 0.24', 'y = 0.44']\n",
      "joined into a single string:  y = 0.40;  y = 0.18;  y = 0.15;  y = 0.38;  y = 0.24;  y = 0.44\n"
     ]
    }
   ],
   "source": [
    "b = [y for y in a if y > 0.2]  # filter the values > 0.2 from the list into a new list\n",
    "print('b = ', b) # list\n",
    "print()\n",
    "c = np.array([y for y in a if y > 0.2]) # turn the list inte an array\n",
    "print('c = ', c) # an array\n",
    "print()\n",
    "\n",
    "# generate a list of strings. Using the floating point values obtained from the \n",
    "d = ['y = {:.2f}'.format(y) for y in a if y < 0.5] # an array of strings\n",
    "print('d = ', d)\n",
    "\n",
    "# If you have a list of strings, you can join them into a single string\n",
    "print('joined into a single string: ', ';  '.join(d)) # this is now a string"
   ]
  },
  {
   "cell_type": "markdown",
   "metadata": {},
   "source": [
    "## Conclusions"
   ]
  },
  {
   "cell_type": "markdown",
   "metadata": {},
   "source": [
    "* We showed strings, tuples, lists and numerical arrays (numpy ndarrays), which are all iterables (can be iterated over)\n",
    "* We showed some basic logical indexing\n",
    "* And used in loops\n",
    "* We looped using several iterable in parallel to get values of them that belong together like  the x, y and Q of successive wells.\n",
    "\n",
    "* We have only used one-dimensional arrays here. That is we only scratched the surface of the possibilities. \n",
    "* We did not use list of lists or list of tuples or tuples of lists etc. either. \n",
    "* We only used basic examples of list-comprehensions.\n",
    "* We did not look at dicts and dict comprehensions (generating dictionaries)\n",
    "* We only showed the simplist logical indexing\n",
    "\n",
    "* There is still a world of plotting possibilities to be explored (matplotlib gallery)\n",
    "* But it's a good start.\n",
    " "
   ]
  },
  {
   "cell_type": "code",
   "execution_count": null,
   "metadata": {},
   "outputs": [],
   "source": []
  }
 ],
 "metadata": {
  "kernelspec": {
   "display_name": "Python 3",
   "language": "python",
   "name": "python3"
  },
  "language_info": {
   "codemirror_mode": {
    "name": "ipython",
    "version": 3
   },
   "file_extension": ".py",
   "mimetype": "text/x-python",
   "name": "python",
   "nbconvert_exporter": "python",
   "pygments_lexer": "ipython3",
   "version": "3.7.4"
  },
  "latex_envs": {
   "LaTeX_envs_menu_present": true,
   "autoclose": true,
   "autocomplete": true,
   "bibliofile": "biblio.bib",
   "cite_by": "apalike",
   "current_citInitial": 1,
   "eqLabelWithNumbers": true,
   "eqNumInitial": 1,
   "hotkeys": {
    "equation": "Ctrl-E",
    "itemize": "Ctrl-I"
   },
   "labels_anchors": false,
   "latex_user_defs": false,
   "report_style_numbering": false,
   "user_envs_cfg": false
  },
  "nbTranslate": {
   "displayLangs": [
    "*"
   ],
   "hotkey": "alt-t",
   "langInMainMenu": true,
   "sourceLang": "en",
   "targetLang": "fr",
   "useGoogleTranslate": true
  },
  "toc": {
   "base_numbering": 1,
   "nav_menu": {},
   "number_sections": true,
   "sideBar": true,
   "skip_h1_title": true,
   "title_cell": "Table of Contents",
   "title_sidebar": "Contents",
   "toc_cell": true,
   "toc_position": {},
   "toc_section_display": true,
   "toc_window_display": false
  },
  "varInspector": {
   "cols": {
    "lenName": 16,
    "lenType": 16,
    "lenVar": 40
   },
   "kernels_config": {
    "python": {
     "delete_cmd_postfix": "",
     "delete_cmd_prefix": "del ",
     "library": "var_list.py",
     "varRefreshCmd": "print(var_dic_list())"
    },
    "r": {
     "delete_cmd_postfix": ") ",
     "delete_cmd_prefix": "rm(",
     "library": "var_list.r",
     "varRefreshCmd": "cat(var_dic_list()) "
    }
   },
   "types_to_exclude": [
    "module",
    "function",
    "builtin_function_or_method",
    "instance",
    "_Feature"
   ],
   "window_display": false
  }
 },
 "nbformat": 4,
 "nbformat_minor": 2
}
