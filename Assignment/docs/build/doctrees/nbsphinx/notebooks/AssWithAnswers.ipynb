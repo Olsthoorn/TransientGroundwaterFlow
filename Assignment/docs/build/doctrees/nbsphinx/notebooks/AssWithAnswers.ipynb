{
 "cells": [
  {
   "cell_type": "markdown",
   "metadata": {},
   "source": [
    "# Assignment 2016 2022 with answers"
   ]
  },
  {
   "cell_type": "markdown",
   "metadata": {},
   "source": [
    ":author: T.N.Olsthoorn, Jan 2016\n",
    "\n",
    "\n",
    "The answers to the assignments are worked out in Jypyter (Ipython) notebooks below.\n",
    "\n",
    "The original workbooks (the .ipynb files) are directly available from the git site of this course: See [https://github.com/Olsthoorn]."
   ]
  }
 ],
 "metadata": {
  "interpreter": {
   "hash": "a98a1daacb9c4660c43f7d8fd1eb9e351299699fa2c9d0b588d834f4e4301aa0"
  },
  "kernelspec": {
   "display_name": "Python 3.9.7 ('base')",
   "language": "python",
   "name": "python3"
  },
  "language_info": {
   "codemirror_mode": {
    "name": "ipython",
    "version": 3
   },
   "file_extension": ".py",
   "mimetype": "text/x-python",
   "name": "python",
   "nbconvert_exporter": "python",
   "pygments_lexer": "ipython3",
   "version": "3.9.7"
  }
 },
 "nbformat": 4,
 "nbformat_minor": 2
}
