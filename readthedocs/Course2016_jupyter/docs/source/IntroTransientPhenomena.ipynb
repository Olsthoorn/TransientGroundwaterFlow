{
 "cells": [
  {
   "cell_type": "markdown",
   "metadata": {},
   "source": [
    "# Transient phenomena in groundwater\n",
    "\n",
    "## Introduction to transient\n",
    "\n",
    "Transient phenomena can only occur if there is some form of storage for water under pressure. Without storage, at least theoretically, all changes of water pressures would spread out with infinite speed across the entire medium. The studied system would then always be in steady-state. Clearly, this is never the case in physical reality. Every groundwater system has ways to store and release water under changes of pressure. The specific change of water volume in the porous medium per unit of pressure (or head) change determines the transient behavior of the system.\n",
    "\n",
    "Under confined groundwater flow conditions, part of the storage comes from compressibility of the porous medium and part from the compressibility of the water. Under conditions of a free water table (unconfined groundwater or phreatic groundwater) most storage comes from filling and emptying pores above the water table and only a minor part from elastic storage. The elastic storage is about two orders of magnitude smaller than the phreatic storage. Because of this, elastic storage is mostly neglected for aquifer systems with a free water table.\n",
    "\n",
    "Groundwater systems can both be very slow and very fast. This depends on factors which we will study later in section [subsec:Long-term-drainage-behavior-drainage]. An example of a slow system that takes tens of thousands of years to reach equilibrium is presented in figure [fig:Gradual-decay-of-of-mound-Kalahari-DeVries1984] showing the ongoing decay of the groundwater mound in the Kalahari Desert since the last wet episode some 12500 years ago (De Vries, 2000). The line along which the cross section is made is shown in figure [fig:Approximately-500-km-kalahari-cross-section-line] together with the elevation profile.\n",
    "\n",
    "![Gradual decay water table Kalahari](./pictures/KalahariDeVries1984.png)\n",
    "\n",
    "Figure: Gradual decay of the water table in the Kalahari Desert (De Vries, 1984)\n",
    "\n",
    "![500 km cross section Kalahari](./pictures/line-of-kalahari-cross-section.png)\n",
    "\n",
    "Figure: Approximately 500 km long cross section studied by De Vries (1984), the water table of which is shown in figure [fig:Gradual-decay-of-of-mound-Kalahari-DeVries1984]\n",
    "\n",
    "Dynamics of groundwater may also be divided into reversible and irreversible behavior. In this syllabus we will deal with reversible systems only. Forms of irreversible storage may nevertheless be important under specific circumstances, or may even be quite common. Therefore, we will start with an illustration of some forms of irreversible transient behavior of water-filled porous media."
   ]
  },
  {
   "cell_type": "markdown",
   "metadata": {},
   "source": [
    "## Irreversible transient phenomena\n",
    "\n",
    "### Consolidation\n",
    "\n",
    "One possible form of volume change is due to reordering of ground particles that may under an increase of the effective or grain stress, with squeezing out of water from the pores due to an irreversible change of pore space. This phenomenon is called consolidation and leads to land subsidence. The effective stress, $\\sigma_{e}$, is the stress transmitted between the grains. Consolidation is especially well known for clay. Here, under increased effective stress, clay plates get reordered and the pore space thus becomes smaller.\n",
    "\n",
    "As long as grain stresses on vertical planes are horizontal as in undisturbed horizontal sediments, the total vertical stress, $\\sigma_{z}$, on a horizontal plane in the subsoil equals the total weight above this plane, including possible loads on ground surface. The total vertical stress, $\\sigma_{t}$, itself is the sum of the water pressure, $\\sigma_{w}$, and the effective vertical stress\n",
    "\n",
    "$$\\sigma_{z}=\\sigma_{w}+\\sigma_{e}$$\n",
    "\n",
    "If we increase the vertical stress, for instance by loading the surface with a layer of sand, or by filling a surface reservoir, or due to rainwater infiltrating during the winter season, both stresses will change\n",
    "\n",
    "$$\\Delta\\sigma_{z}=\\Delta\\sigma_{w}+\\Delta\\sigma_{e}$$\n",
    "\n",
    "If the water pressure changes, while the total weight remains constant, as is the case when we lower the head in a confined aquifer (why?), then the water pressure and the effective stress are directly related\n",
    "\n",
    "$$0\t=\t\\Delta\\sigma_{w}+\\Delta\\sigma_{e}$$\n",
    "$$\\Delta\\sigma_{w}\t=\t-\\Delta\\sigma_{e}$$\n",
    "\n",
    "Therefore, if we lower the head, i.e. the water pressure, the effective stress increases and the other way around.\n",
    "\n",
    "It follows, that lowering the water pressure stresses the grains of the porous medium and may thus lead to (irreversible) subsidence in vulnerable subsoils.\n",
    "\n",
    "An increased effective stress causes a change of the volume of the porous medium and therefore the pore space. To compensate for this reduced space, water will be squeezed out over time. The speed at which this happens depends on the conductivity of the compressed layer as well as its thickness, as with thicker layers more time is needed for the compressed water to reach its top or bottom from which to escape. \n",
    "\n",
    "Large-scale groundwater extractions have, therefore, led to large subsidences affecting large areas in Mexico, USA and the UK (figure [fig:subsidence-in-the-UK]).\n",
    "\n",
    "![Subsidence UK](./pictures/subsidenceUK.png)\n",
    "\n",
    "Figure: Over \\unit[3]{m} subsidence in the UK\n",
    "\n",
    "![Subsidence NL](./pictures/ongoingSubsidenceInTheNetherlands.png)\n",
    "\n",
    "Figure: Rising sea level since the year 1000 with tide fluctuation curve and subsidence (descending curve) all relative to mean sea level (about NAP). Also shown are water management technologies available over time (From Dufour (1998))\n",
    "\n",
    "Subsidence can be relatively fast (weeks) or slow (taking place over centuries) on local to regional scales.\n",
    "\n",
    "Subsidence also occurs as a result of drainage of wetlands and peat areas. This lowering of the shallow water table also increases the effective stress. This subsidence is especially evident in a low country like the Netherlands, where drainage of wetlands by ditches has taken place for about a thousand years. The peaty areas in the west and north of the country have subsided by several meters. This is why about half the country is nowadays below sea level (figure [fig:Rising-sea-level-and-subsidence-in-the-Netherlands]).\n",
    "\n",
    "With regard to peat, it is not only the increase of the effective stress caused by drainage causing the subsidence. It is also, the entry of oxygen that comes along with drainage of peaty wetlands. This causes oxidation (“burning”) of the peat, giving an extra boost to subsidence. This form of subsidence may continue until it all peat has disappeared.\n",
    "\n",
    "In case the original layers consisted of alternations of peat and clay, the shallow subsoil will consist more and more of pure clay at the top with the original mixture still present below the water table. This clay layer at the top collected all the clay from the original profile, which may have been several meters thick from which the peat has totally disappeared due to oxidation."
   ]
  },
  {
   "cell_type": "markdown",
   "metadata": {},
   "source": [
    "### Liquefaction\n",
    "\n",
    "Another irreversible phenomenon involving reordering of grains, liquefaction, can be very fast and spectacular. It is associated with pressure waves, or shocks. Fine sand may have been at rest for thousands of years even with its pore space greater than the smallest possible one. In the case of a shock, for instance due to an earthquake, the sudden change of water pressure may be so great as to cause the effective stress to be zero for a fraction of a second, during which grains lose their mutual friction. The ground then loses its shear stress and momentarily turns into a quick sand, in fact a liquid with grains as free moving particles. The matrix will resettle at a smaller overall volume. However, the trapped water then no longer fits within the pore space, it will take up the total pressure, making the effective stress zero. The subsurface shortly behaves like a liquid, into which entire buildings may sink in a matter of seconds. As soon as the surplus water has escaped the soil resettles and everything sunk into the heavy liquid is stuck forever (see figure [fig:Liquefaction-in-Alaska-1964] http://www.ce.washington.edu/~liquefaction)\n",
    "\n",
    "![Liquifaction Anchorage](./pictures/liquifactionAlaska1964.png)\n",
    "\n",
    "Figure: Liquefaction in the USA (http://www.ce.washington.edu/~liquefaction)"
   ]
  },
  {
   "cell_type": "markdown",
   "metadata": {},
   "source": [
    "### Intrusion of salt water\n",
    "\n",
    "In many regions, especially deltaic regions, fresh groundwater flows on saline water, which is heavier (denser) than fresh water. (The difference between fresh and ocean water is about 2.5%). The fresh groundwater in the Netherlands is largely floating on salt water as is shown in the cross section in Figure 6. It will generally take several hundred years to a thousand years for a fresh water lens is built up from natural precipitation. The equilibrium may easily be disturbed by extraction of fresh water, but also by construction of harbors, canals and polders. This will cause upconing of salt water from below and lateral intrusion of salt water into aquifers along the coast. Given the time it takes to restore such systems under natural conditions, mining of these systems may be considered irreversible under many practical situations as there are no real means (or sufficient fresh water) to restore the systems within the time horizon of a generation. Good groundwater management is therefore essential, but hard to realize in situations of water scarcity.\n",
    "\n",
    "![Floating fresh water NL Dufour](./pictures/floatingFresWaterNLDufour98.png)\n",
    "\n",
    "Figure: Dynamically floating fresh water on salt water in the cross section through the Netherlands. The interface may take hundreds of years to reach its equilibrium. It will be continuously adapt to changing circumstances such as climate and sea level rise, as well as to artificial changes in the water cycle (from Dufour (1998), Dufour (2000))"
   ]
  },
  {
   "cell_type": "markdown",
   "metadata": {},
   "source": [
    "### Questions\n",
    "\n",
    "1. Mention some processes due to which the subsurface may lose water that are irreversible.\n",
    "\n",
    "2. Explain how these processes work, i.e. what the mechanism is behind them and the conditions under which they occur.\n",
    "\n",
    "3. Why would one call extraction of fresh water from a freshwater bubble floating on salt water irreversible? "
   ]
  }
 ],
 "metadata": {
  "anaconda-cloud": {},
  "kernelspec": {
   "display_name": "Python [default]",
   "language": "python",
   "name": "python3"
  },
  "language_info": {
   "codemirror_mode": {
    "name": "ipython",
    "version": 3
   },
   "file_extension": ".py",
   "mimetype": "text/x-python",
   "name": "python",
   "nbconvert_exporter": "python",
   "pygments_lexer": "ipython3",
   "version": "3.5.2"
  }
 },
 "nbformat": 4,
 "nbformat_minor": 1
}
