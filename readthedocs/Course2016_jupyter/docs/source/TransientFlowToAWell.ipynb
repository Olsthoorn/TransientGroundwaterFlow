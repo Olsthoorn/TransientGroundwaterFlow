{
 "cells": [
  {
   "cell_type": "markdown",
   "metadata": {},
   "source": [
    "# Transient flow to a well\n",
    "\n",
    "## The Theis' well function (a well in a confined aquifer)\n",
    "\n",
    "The Theis will function is perhaps the most famous, and most often used and practical analytical solution in groundwater science. It describes the transient flow to a fully penetrating well in a confined aquifer after the well starts pumping at time zero. The solution is also used for unconfined flow, but then it is an approximation that is good as long as the thickness of the aquifer does not change substantially, not more thabn 20%, say, from it's initial value.\n",
    "\n",
    "![Situation considered by Theis confined](./pictures/TheisSituationConfined.png)\n",
    "\n",
    "Figure: The situation considered by Theis (confined aquifer)\n",
    "\n",
    "![Situation considered by Theis unconfined](./pictures/TheisSituationUnconfined.png)\n",
    "\n",
    "Figure: The situation considered by Theis (unconfined aquifer, s<<h)\n",
    "\n",
    "In cases with wells that are only partially penetrating the aquifer, we can add the influence of that separately as we will see.\n",
    "\n",
    "Although the solution was derived for a uniform and unchanging ambient groundwater head, it can still be applied in much more general situations, because we can use superpositioin, that is, we can add the influence of different and indiependent actors that change the groundwater level in space and or in time separately. Therefore, if we can, with a solution like that of Theis, compute the effect of a single well everywhere in the aquifer of any time, we can do for an arbitrary number of wells, simply, by adding their individual effects. Not only this, we can also superimpose other effects that are not due to wells, if we have their analytical solution available."
   ]
  },
  {
   "cell_type": "markdown",
   "metadata": {},
   "source": [
    "## Governing partial differential equation solved by Theis\n",
    "\n",
    "Theis solved the following partial differential equation\n",
    "\n",
    "\n",
    "![Theis PDE](./pictures/TheisDPE.png)"
   ]
  },
  {
   "cell_type": "markdown",
   "metadata": {},
   "source": [
    "Figure: Situation to derive the partial differential equation\n",
    "\n",
    "Continuity for a ring of width $dr$ at radius $r$, see figure, yields:\n",
    "\n",
    "$$ \\frac {\\partial Q} {\\partial r} = \\frac \\partial {\\partial r} \\left(-2 \\pi r kD \\frac {\\partial \\phi} {\\partial r} \\right)= - 2 \\pi r S \\frac {\\partial \\phi} {\\partial t} $$\n",
    "\n",
    "For convenience, use drawdown $s$ instead of head $\\phi$\n",
    "\n",
    "$$ s = \\phi_0 - \\phi $$\n",
    "\n",
    "$$ \\frac {\\partial} {\\partial r} \\left( 2 \\pi r kD \\frac {\\partial s} {\\partial r} \\right) = 2\\pi r S \\frac {\\partial s} {\\partial t} $$\n",
    "\n",
    "$$ kD \\frac {\\partial} {\\partial r} \\left( r \\frac {\\partial s} {\\partial r} \\right) = r S \\frac {\\partial s} {\\partial t} $$\n",
    "\n",
    "Which yields the governing partial differential equation for transient horizointal flow to a well that starts pumping at a fixef flow $Q_0$ at $t=0$:\n",
    "\n",
    "$$\\frac 1 r \\frac {\\partial s} {\\partial r} + \\frac {\\partial^2 s} {\\partial r^2} = \\frac S {kD} \\frac {\\partial s} {\\partial t}$$\n",
    "\n",
    "Which was solved by Theis (1935) subject to the initial condition $s(x,0) = 0$ and boundary conditions $s(\\infty, t)=0$ and $2\\pi r kD \\frac{\\partial s}{\\partial r} = Q_0$ for $r \\rightarrow 0$. (This solution can be readily obtained by means of the Laplace transform).\n",
    "\n",
    "The dradown according to Theis is mathematically descrbided, by hydrologists, as\n",
    "\n",
    "$$ s = \\frac Q  {2 \\pi kD} W \\left( \\frac {r^2 S} {4 kD t} \\right) $$\n",
    "\n",
    "Where owercse $s$ [L] is the transient drawdown of the groundwater head due to the well,  $Q$ [L3/T] is the well extraction, $kD$ [L2/T] the transmissivity of the aqufier, $S$ [-] the storage coefficient of the aquifer, $r$ [L] the distance to the well center and $t$ [T] time since the well was switched on.\n",
    "\n",
    "$W(u)$ is the so-called Theis well function, which is a function of only one dimensionless parameter, $u$ that is a combination of $r$, $t$, $S$ and $kD$ as shown."
   ]
  },
  {
   "cell_type": "markdown",
   "metadata": {},
   "source": [
    "The name Well Function was given by C.V. Theis (1930). The well function turned out to be a regular mathematical function that already was available under the name `exponential integra1` at the time that Theis developed his formunla. It's form is:\n",
    "\n",
    "$$ W \\left( u \\right) = Ei \\left( u \\right) = \\intop_u^\\infty \\frac {e^{-y}} y dy $$\n",
    "\n",
    "The function has been tabled in many books on groundwater hydrology and pumping test analysis, among which the book\n",
    "\n",
    "Kruseman, G.P. and N.A. de Rider (1994) Analysis of Pumping Test Data. ILRI publication 47, Wageningen, The Netherlands, 1970 to 1994. ISBN 90 70754 207.\n",
    "\n",
    "The print of the book of the year 2000 is available on the internet: [KrdR 2000](http://www.hydrology.nl/images/docs/dutch/key/Kruseman_and_De_Ridder_2000.pdf)\n",
    "\n",
    "For verification of self-implemented well functions here is the table of its values form page 294 of the mentioned book:\n",
    "\n",
    "![Annex 3.2: Values of the Theis well function W(u) for confined aquifers (after Walton 1962)](./pictures/TheisWellFunctionTableFromKrdR2000_p294.png)\n",
    "\n"
   ]
  },
  {
   "cell_type": "markdown",
   "metadata": {},
   "source": [
    "## How to get the well function?\n",
    "\n",
    "In the past we used to look up the well function in a table like the one given. Nowadays, with computing power everywhere, we only use such tables to verify our version of the function when we programmed it ourselves or use one from a scientific library. This is what we'll do here was well.\n",
    "\n",
    "One way is to see if the function is already available on our computer. Well if you have Maple, Matlab or Python.scipy it is in one form or another. If you don't know where, then searhing the internet is always a good start.\n",
    "\n",
    "This shows that we have to look for the function `expi` in the module `scipy.special`"
   ]
  },
  {
   "cell_type": "code",
   "execution_count": 1,
   "metadata": {
    "collapsed": false
   },
   "outputs": [],
   "source": [
    "import numpy as np\n",
    "from scipy.special import expi\n",
    "\n",
    "#help(expi) # remove the first # to show the help for the function expi"
   ]
  },
  {
   "cell_type": "markdown",
   "metadata": {},
   "source": [
    "The reveals that we have the function\n",
    "$$ expi = \\intop_{-\\infty}^u \\frac {e^y} y dy $$\n",
    "\n",
    "By just changing the sign of y to -y we obtain\n",
    "\n",
    "$$ W(u) = \\intop_u^\\infty \\frac {e^{-y}} y dy = - \\intop_{y = -\\infty}^{y = u} \\frac {e^{y}} y dy $$\n",
    "\n",
    "Replace $y$ by $-\\xi$ the $W(u)$ becomes\n",
    "\n",
    "$$ W(u) = - \\intop_{\\xi = \\infty}^{\\xi = -u} \\frac {e^{-\\xi}} \\xi d \\xi = - expi(-u) $$\n",
    "\n",
    "So that\n",
    "\n",
    "$$ W(u) = -expi(-u) $$\n",
    "\n",
    "according to the definition used in `scipy.special.expi`.\n",
    "\n",
    "    Notice that diferent libraries and books may define the exponential integral differently. The famous `Abramowitz M & Stegun, I (1964) Handbook of Mathematical Functions. Dover`, for example define the exponential function exactly as the theis well function.\n",
    "\n",
    "We can readily check the expi function using the table from `Kruseman and De Ridder (2000) p294` that was referenced above. Verifying for example the values for `u  = 4, 0.4, 0.04, 0.004 etc to $4^{-10$` can be done as follows:"
   ]
  },
  {
   "cell_type": "code",
   "execution_count": 2,
   "metadata": {
    "collapsed": false
   },
   "outputs": [
    {
     "name": "stdout",
     "output_type": "stream",
     "text": [
      "      u           wu   \n",
      "   4.0e+00   3.7794e-03\n",
      "   4.0e-01   7.0238e-01\n",
      "   4.0e-02   2.6813e+00\n",
      "   4.0e-03   4.9482e+00\n",
      "   4.0e-04   7.2472e+00\n",
      "   4.0e-05   9.5495e+00\n",
      "   4.0e-06   1.1852e+01\n",
      "   4.0e-07   1.4155e+01\n",
      "   4.0e-08   1.6457e+01\n",
      "   4.0e-09   1.8760e+01\n",
      "   4.0e-10   2.1062e+01\n"
     ]
    }
   ],
   "source": [
    "u = 4 * 10** -np.arange(11.)   # generates values 4, 4e-1, 4e-2 .. 4e-10\n",
    "print(\"{:>10s}   {:>10s}\".format('u   ', 'wu   '))\n",
    "for u, wu in zip(u, -expi(-u)):  # makes a list of value pairs [u, W(u)]\n",
    "    print(\"{0:10.1e}   {1:10.4e}\".format(u, wu))"
   ]
  },
  {
   "cell_type": "markdown",
   "metadata": {},
   "source": [
    "which is equal to the values in the table.\n",
    "\n",
    "It''s now convenient to use the familiar form W(u) instead of -expi(-u)\n",
    "\n",
    "We can define a function for W either as an anonymous function or a regular function. Anonymous functions are called lambdda functions or lambda expressions in Python. In this case:"
   ]
  },
  {
   "cell_type": "code",
   "execution_count": 3,
   "metadata": {
    "collapsed": true
   },
   "outputs": [],
   "source": [
    "from scipy.special import expi\n",
    "W = lambda u : -expi(-u)"
   ]
  },
  {
   "cell_type": "markdown",
   "metadata": {},
   "source": [
    "Or, alternatively as a regular one-line function:"
   ]
  },
  {
   "cell_type": "code",
   "execution_count": 4,
   "metadata": {
    "collapsed": true
   },
   "outputs": [],
   "source": [
    "def W(u):  return -expi(-u)"
   ]
  },
  {
   "cell_type": "markdown",
   "metadata": {},
   "source": [
    "or in full, so that we don't need the import above and we directly see where the function comes from:"
   ]
  },
  {
   "cell_type": "code",
   "execution_count": 5,
   "metadata": {
    "collapsed": true
   },
   "outputs": [],
   "source": [
    "import scipy\n",
    "W = lambda u: -scipy.special.expi( -u )  # Theis well function"
   ]
  },
  {
   "cell_type": "markdown",
   "metadata": {},
   "source": [
    "Now we can put this well function immediately to use for answering practical questions. For example: what is the drawdown after $t=1\\,d$ at distance $r=350 \\, m$ by a well extracting $Q = 2400\\, m^3/d$ in an confined aquifer with transmissivity $kD = 2400\\, m^2/d$ and storage coefficient $S=0.001$ [-] ?"
   ]
  },
  {
   "cell_type": "code",
   "execution_count": 6,
   "metadata": {
    "collapsed": false
   },
   "outputs": [
    {
     "name": "stdout",
     "output_type": "stream",
     "text": [
      "    r = 350 m\n",
      "    t = 1.0 d\n",
      "    kD = 2400 m2/d\n",
      "    S = 0.001 [-]\n",
      "    Q = 2400 m3/d\n",
      "    u = 0.01276 [-]\n",
      "    W(u) = 3.7969 [-]\n",
      "    s(r, t) = 0.30215 m\n"
     ]
    }
   ],
   "source": [
    "r = 350; t = 1.; kD=2400; S=0.001; Q=2400\n",
    "u = r**2 * S / (4 * kD * t)\n",
    "\n",
    "s = Q/(4 * np.pi * kD) * W(u)  # applying the theis well function according to the book\n",
    "\n",
    "print(\"    r = {} m\\n\\\n",
    "    t = {} d\\n\\\n",
    "    kD = {} m2/d\\n\\\n",
    "    S = {} [-]\\n\\\n",
    "    Q = {} m3/d\\n\\\n",
    "    u = {:.5g} [-]\\n\\\n",
    "    W(u) = {:.5g} [-]\\n\\\n",
    "    s(r, t) = {:.5g} m\".\n",
    "      format(r, t, kD, S, Q, u, W(u), s))"
   ]
  },
  {
   "cell_type": "markdown",
   "metadata": {},
   "source": [
    "Above we computed $u$ separately to prevent cluttering the expression. Of course, you can define a lambda or regular function to compute like so"
   ]
  },
  {
   "cell_type": "code",
   "execution_count": 7,
   "metadata": {
    "collapsed": true
   },
   "outputs": [],
   "source": [
    "u = lambda r, t: r**2 * S / (4 * kD * t)"
   ]
  },
  {
   "cell_type": "markdown",
   "metadata": {},
   "source": [
    "The lambda function $u$ now takes two parameters like $u(r,t)$ and uses the other parameters $S$ and $kD$ that it finds in the workspace at the moment when the lambda function is created. So don't change $S$ and $kD$ afterwards without redefining $u(r,t)$.\n",
    "\n",
    "Try this out:"
   ]
  },
  {
   "cell_type": "code",
   "execution_count": 8,
   "metadata": {
    "collapsed": false
   },
   "outputs": [
    {
     "data": {
      "text/plain": [
       "0.012760416666666666"
      ]
     },
     "execution_count": 8,
     "metadata": {},
     "output_type": "execute_result"
    }
   ],
   "source": [
    "u(r,t)  # yields u as a function of r and t"
   ]
  },
  {
   "cell_type": "code",
   "execution_count": 9,
   "metadata": {
    "collapsed": false
   },
   "outputs": [
    {
     "data": {
      "text/plain": [
       "3.7969115073331832"
      ]
     },
     "execution_count": 9,
     "metadata": {},
     "output_type": "execute_result"
    }
   ],
   "source": [
    "W(u(r,t))  # given W(u) as a function of r and t"
   ]
  },
  {
   "cell_type": "code",
   "execution_count": 10,
   "metadata": {
    "collapsed": false
   },
   "outputs": [
    {
     "data": {
      "text/plain": [
       "0.30214861743728766"
      ]
     },
     "execution_count": 10,
     "metadata": {},
     "output_type": "execute_result"
    }
   ],
   "source": [
    "Q/(4 * np.pi * kD) * W(u(r,t)) # gives the drawdown that we had before"
   ]
  },
  {
   "cell_type": "markdown",
   "metadata": {},
   "source": [
    "It's now straight forward to compute the drawdown for many times like so:"
   ]
  },
  {
   "cell_type": "code",
   "execution_count": 11,
   "metadata": {
    "collapsed": false
   },
   "outputs": [],
   "source": [
    "t = np.logspace(-3, 2, 51) # gives 51 times on log scale between 10^(-3) = 0.001 and 10^(2) = 100"
   ]
  },
  {
   "cell_type": "markdown",
   "metadata": {},
   "source": [
    "This given the following times:"
   ]
  },
  {
   "cell_type": "code",
   "execution_count": 12,
   "metadata": {
    "collapsed": false
   },
   "outputs": [
    {
     "name": "stdout",
     "output_type": "stream",
     "text": [
      "\n",
      "   0.001  0.00126  0.00158    0.002  0.00251  0.00316  0.00398  0.00501  0.00631  0.00794 \n",
      "    0.01   0.0126   0.0158     0.02   0.0251   0.0316   0.0398   0.0501   0.0631   0.0794 \n",
      "     0.1    0.126    0.158      0.2    0.251    0.316    0.398    0.501    0.631    0.794 \n",
      "       1     1.26     1.58        2     2.51     3.16     3.98     5.01     6.31     7.94 \n",
      "      10     12.6     15.8       20     25.1     31.6     39.8     50.1     63.1     79.4 \n",
      "     100 "
     ]
    }
   ],
   "source": [
    "for it, tt in enumerate(t):\n",
    "    if it % 10 == 0:   print()\n",
    "    print(\"%8.3g\" % tt, end=\" \")"
   ]
  },
  {
   "cell_type": "markdown",
   "metadata": {},
   "source": [
    "With these times we can compute the drawdown for all these times in a single strike without changing anything to our formula:"
   ]
  },
  {
   "cell_type": "code",
   "execution_count": 13,
   "metadata": {
    "collapsed": false
   },
   "outputs": [
    {
     "data": {
      "text/plain": [
       "array([  1.66884951e-08,   2.85176796e-07,   2.83106391e-06,\n",
       "         1.82356839e-05,   8.31967240e-05,   2.88203801e-04,\n",
       "         8.01032536e-04,   1.86616447e-03,   3.77281387e-03,\n",
       "         6.80385595e-03,   1.11871477e-02,   1.70653500e-02,\n",
       "         2.44886132e-02,   3.34252649e-02,   4.37821437e-02,\n",
       "         5.54271204e-02,   6.82090511e-02,   8.19730658e-02,\n",
       "         9.65709268e-02,   1.11867155e-01,   1.27741957e-01,\n",
       "         1.44091964e-01,   1.60829602e-01,   1.77881714e-01,\n",
       "         1.95187846e-01,   2.12698459e-01,   2.30373226e-01,\n",
       "         2.48179485e-01,   2.66090892e-01,   2.84086266e-01,\n",
       "         3.02148617e-01,   3.20264351e-01,   3.38422599e-01,\n",
       "         3.56614690e-01,   3.74833708e-01,   3.93074143e-01,\n",
       "         4.11331609e-01,   4.29602614e-01,   4.47884381e-01,\n",
       "         4.66174701e-01,   4.84471817e-01,   5.02774335e-01,\n",
       "         5.21081143e-01,   5.39391360e-01,   5.57704286e-01,\n",
       "         5.76019363e-01,   5.94336150e-01,   6.12654295e-01,\n",
       "         6.30973518e-01,   6.49293599e-01,   6.67614359e-01])"
      ]
     },
     "execution_count": 13,
     "metadata": {},
     "output_type": "execute_result"
    }
   ],
   "source": [
    "s = Q / (4 * np.pi * kD) * W(u(r,t)) # computes s(r,t)\n",
    "s # shows s(r,t)"
   ]
  },
  {
   "cell_type": "markdown",
   "metadata": {},
   "source": [
    "For a nicer print print t and s next to each other"
   ]
  },
  {
   "cell_type": "code",
   "execution_count": 14,
   "metadata": {
    "collapsed": false
   },
   "outputs": [
    {
     "name": "stdout",
     "output_type": "stream",
     "text": [
      "      time    drawdown\n",
      "     0.001    1.67e-08\n",
      "   0.00126    2.85e-07\n",
      "   0.00158    2.83e-06\n",
      "     0.002    1.82e-05\n",
      "   0.00251    8.32e-05\n",
      "   0.00316    0.000288\n",
      "   0.00398    0.000801\n",
      "   0.00501     0.00187\n",
      "   0.00631     0.00377\n",
      "   0.00794      0.0068\n",
      "      0.01      0.0112\n",
      "    0.0126      0.0171\n",
      "    0.0158      0.0245\n",
      "      0.02      0.0334\n",
      "    0.0251      0.0438\n",
      "    0.0316      0.0554\n",
      "    0.0398      0.0682\n",
      "    0.0501       0.082\n",
      "    0.0631      0.0966\n",
      "    0.0794       0.112\n",
      "       0.1       0.128\n",
      "     0.126       0.144\n",
      "     0.158       0.161\n",
      "       0.2       0.178\n",
      "     0.251       0.195\n",
      "     0.316       0.213\n",
      "     0.398        0.23\n",
      "     0.501       0.248\n",
      "     0.631       0.266\n",
      "     0.794       0.284\n",
      "         1       0.302\n",
      "      1.26        0.32\n",
      "      1.58       0.338\n",
      "         2       0.357\n",
      "      2.51       0.375\n",
      "      3.16       0.393\n",
      "      3.98       0.411\n",
      "      5.01        0.43\n",
      "      6.31       0.448\n",
      "      7.94       0.466\n",
      "        10       0.484\n",
      "      12.6       0.503\n",
      "      15.8       0.521\n",
      "        20       0.539\n",
      "      25.1       0.558\n",
      "      31.6       0.576\n",
      "      39.8       0.594\n",
      "      50.1       0.613\n",
      "      63.1       0.631\n",
      "      79.4       0.649\n",
      "       100       0.668\n"
     ]
    }
   ],
   "source": [
    "print(\"{:>10s}  {:>10s}\".format('time', 'drawdown'))\n",
    "for tt, ss in zip(t, s):\n",
    "    print(\"{0:10.3g}  {1:10.3g}\".format(tt,ss))"
   ]
  },
  {
   "cell_type": "markdown",
   "metadata": {},
   "source": [
    "And of course we can make a plot of these results:"
   ]
  },
  {
   "cell_type": "code",
   "execution_count": 15,
   "metadata": {
    "collapsed": true
   },
   "outputs": [],
   "source": [
    "import matplotlib.pyplot as plt   # imports plot functions (matlab style)"
   ]
  },
  {
   "cell_type": "code",
   "execution_count": 16,
   "metadata": {
    "collapsed": false
   },
   "outputs": [
    {
     "data": {
      "image/png": "[encoded data removed]",
      "text/plain": [
       "<matplotlib.figure.Figure at 0x10e8ebe48>"
      ]
     },
     "metadata": {},
     "output_type": "display_data"
    }
   ],
   "source": [
    "fig = plt.figure()\n",
    "\n",
    "# Drawdown versus log(t)\n",
    "ax1 = fig.add_subplot(121)\n",
    "ax1.set(xlabel='time [d]', ylabel='drawdown [m]', xscale='log', title='Drawdown versus log(t)')\n",
    "ax1.invert_yaxis()\n",
    "ax1.grid(True)\n",
    "plt.plot(t, s)\n",
    "\n",
    "# Drawdown versus t\n",
    "ax2 = fig.add_subplot(122)\n",
    "ax2.set(xlabel='time [d]', ylabel='', xscale='linear', title='Drawdown versus t')\n",
    "ax2.invert_yaxis()\n",
    "ax2.grid(True)\n",
    "plt.plot(t, s)\n",
    "\n",
    "plt.show()"
   ]
  },
  {
   "cell_type": "markdown",
   "metadata": {},
   "source": [
    "## Exercises\n",
    "\n",
    "1. Show the drawdown as a function of r instead of x, for t=2 d and r between 0.1 and 1000 m\n",
    "2. For the 5 wells of which the lcoations and extractions are given below, show the combined drawdown for time between 0.01 and 10 days at x= 0 and y = 0."
   ]
  },
  {
   "cell_type": "code",
   "execution_count": 17,
   "metadata": {
    "collapsed": true
   },
   "outputs": [],
   "source": [
    "well_names = ['School', 'Lazaret', 'Square', 'Mosque', 'Water_company']\n",
    "Q = [400., 1200., 1150., 600., 1900]\n",
    "x = [-300., -250., 100., 55., 125.]\n",
    "y =[-450., +230., 50., -300., 250.]\n",
    "Nwells = len(well_names)\n",
    "x0 = 0.\n",
    "y0 = 0."
   ]
  },
  {
   "cell_type": "code",
   "execution_count": 18,
   "metadata": {
    "collapsed": false
   },
   "outputs": [
    {
     "data": {
      "image/png": "[encoded data removed]",
      "text/plain": [
       "<matplotlib.figure.Figure at 0x111c20470>"
      ]
     },
     "metadata": {},
     "output_type": "display_data"
    }
   ],
   "source": [
    "t = np.logspace(-2, 2, 41)\n",
    "s = np.zeros((Nwells, len(t)))\n",
    "for iw, Q0, xw, yw  in zip(range(Nwells), Q, y, x):\n",
    "    r = np.sqrt((xw-x0) ** 2 + (yw - y0) **2)\n",
    "    s[iw,:] = Q0 / (4 * np.pi * kD) * W(u(r,t))\n",
    "    \n",
    "fig = plt.figure()\n",
    "ax = fig.add_subplot(111)\n",
    "ax.set(xlabel='time [d]', ylabel='drawdown[m]', title='Drawdown due to multiple wells')\n",
    "ax.invert_yaxis()\n",
    "ax.grid(True)\n",
    "for iw, name in zip(range(Nwells), well_names):\n",
    "    ax.plot(t, s[iw,:], label=name)\n",
    "ax.plot(t, np.sum(s, axis=0), label='total_drawdown')\n",
    "ax.legend()\n",
    "plt.show()"
   ]
  },
  {
   "cell_type": "markdown",
   "metadata": {},
   "source": [
    "4. Show the drawdown for the case that the wells start at different times as given here:\n",
    "(hint: compute use tw = t - ts[iw] for each well and deal met times tw < 0). ts = [0., 5., 2. 8. 1.5.]\n",
    "5. There is a vertical imermeable boundary at x = -500 m. Show the head as a function of time at x = -10 m and y = 0 m for both the situation\n",
    "    1. with    \n",
    "    1. and without    \n",
    "1. There is a fixed-head boundary (e.g. a fully penetrating river) at x = -500 m. Show the head as a function of time at x=-10 m and y = 0 m for both the situation    \n",
    "    1. with\n",
    "    2. and without\n",
    "1. With the fixed-head boundary. Show the head as a function of time at x = -10 m and y = 0 m for all three cases, where time runs as in t = np.logspace(-2, 2, 41)\n",
    "1. Show the heads between r = -500 and r = 500 for time = 5 d the three cases, that is\n",
    "    1. without impermeable or fixed-head boundary at x = -500 m\n",
    "    2. with the impermeable boundary at x = -500 m\n",
    "    3. with the fixed head bounary at x = -500.\n",
    "1. Two vertical impermeable boundaries: Consider not only an impermeable boundary at x = -500 m but also at y = + 200 m. Then using an extraction of Q = 1200 m3/d and times between 0.01 and 100 days, compute the drawdown as a function of time at pooint x= -100.m and y = + 50 m.\n",
    "1. Consider a fixed-head boundary at x = -500. m and one at y = 200., with an extraction of Q = 1200 m3/d at x= -100. and y = 50 m, compute the drawdown for times between 0.001 and 100 days.\n",
    "1. Extraction from two different aquifers: Compare two situaations where both aquifers have the same transmissivity kD [m2/d] but different storage coefficient. The extracton from both aquifers is the same, Q = 1200 m3/d. Plot de drawdown as a function of time on a logarithmic scale and determine the shift of the two curves along the time axis. Given an explanation for that shift.\n",
    "\n",
    "**important** Don't forget to rerun the lambda expressions above, if you change the kD and S, or redefine them so that they take kD and or S as input parameters."
   ]
  }
 ],
 "metadata": {
  "anaconda-cloud": {},
  "kernelspec": {
   "display_name": "Python [default]",
   "language": "python",
   "name": "python3"
  },
  "language_info": {
   "codemirror_mode": {
    "name": "ipython",
    "version": 3
   },
   "file_extension": ".py",
   "mimetype": "text/x-python",
   "name": "python",
   "nbconvert_exporter": "python",
   "pygments_lexer": "ipython3",
   "version": "3.5.2"
  }
 },
 "nbformat": 4,
 "nbformat_minor": 1
}
